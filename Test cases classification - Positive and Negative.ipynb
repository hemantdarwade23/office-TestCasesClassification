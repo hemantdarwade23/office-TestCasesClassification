{
 "cells": [
  {
   "cell_type": "markdown",
   "metadata": {},
   "source": [
    "Number of Testcases :- 8136..\n",
    "Number of Attributes/Columns in data: 3"
   ]
  },
  {
   "cell_type": "markdown",
   "metadata": {},
   "source": [
    "Attribute Information :-\n",
    "1. TestcaseId.\n",
    "2. TestCases.\n",
    "3. Functionality.\n"
   ]
  },
  {
   "cell_type": "markdown",
   "metadata": {},
   "source": [
    "Objective : Given a Testcases, determine whether the testcase is positive or negative. \n"
   ]
  },
  {
   "cell_type": "markdown",
   "metadata": {},
   "source": [
    "[Q].Why is solving this problem useful for your team?"
   ]
  },
  {
   "cell_type": "markdown",
   "metadata": {},
   "source": [
    "Test manager can get idea of negative testing going or not and get idea of application working fine for negative testcases and can get idea of how many negative and positive testcases are covering."
   ]
  },
  {
   "cell_type": "markdown",
   "metadata": {},
   "source": [
    "[Q]Metric used"
   ]
  },
  {
   "cell_type": "markdown",
   "metadata": {},
   "source": [
    "1.Precision :- Precision is a valid choice of evaluation metric when we want to be very sure of our prediction."
   ]
  },
  {
   "cell_type": "markdown",
   "metadata": {},
   "source": [
    "2.Recall :- Recall is a valid choice of evaluation metric when we want to capture as many positives as possible. "
   ]
  },
  {
   "cell_type": "markdown",
   "metadata": {},
   "source": [
    "[Q]what is Business impact of deploying these models."
   ]
  },
  {
   "cell_type": "markdown",
   "metadata": {},
   "source": [
    "Business manager can get idea of negative testing going or not and get idea of application working fine for negative testcases "
   ]
  },
  {
   "cell_type": "code",
   "execution_count": 1,
   "metadata": {},
   "outputs": [
    {
     "name": "stderr",
     "output_type": "stream",
     "text": [
      "C:\\Users\\hemant\\AnacondaNew\\lib\\site-packages\\smart_open\\ssh.py:34: UserWarning: paramiko missing, opening SSH/SCP/SFTP paths will be disabled.  `pip install paramiko` to suppress\n",
      "  warnings.warn('paramiko missing, opening SSH/SCP/SFTP paths will be disabled.  `pip install paramiko` to suppress')\n",
      "C:\\Users\\hemant\\AnacondaNew\\lib\\site-packages\\gensim\\utils.py:1197: UserWarning: detected Windows; aliasing chunkize to chunkize_serial\n",
      "  warnings.warn(\"detected Windows; aliasing chunkize to chunkize_serial\")\n"
     ]
    }
   ],
   "source": [
    "%matplotlib inline\n",
    "import warnings\n",
    "warnings.filterwarnings(\"ignore\")\n",
    "\n",
    "\n",
    "import sqlite3\n",
    "import pandas as pd\n",
    "import numpy as np\n",
    "import nltk\n",
    "import string\n",
    "import matplotlib.pyplot as plt\n",
    "import seaborn as sns\n",
    "from sklearn.feature_extraction.text import TfidfTransformer\n",
    "from sklearn.feature_extraction.text import TfidfVectorizer\n",
    "\n",
    "from sklearn.feature_extraction.text import CountVectorizer\n",
    "from sklearn.metrics import confusion_matrix\n",
    "from sklearn import metrics\n",
    "from sklearn.metrics import roc_curve, auc\n",
    "from nltk.stem.porter import PorterStemmer\n",
    "\n",
    "import re\n",
    "# Tutorial about Python regular expressions: https://pymotw.com/2/re/\n",
    "import string\n",
    "from nltk.corpus import stopwords\n",
    "from nltk.stem import PorterStemmer\n",
    "from nltk.stem.wordnet import WordNetLemmatizer\n",
    "\n",
    "from gensim.models import Word2Vec\n",
    "from gensim.models import KeyedVectors\n",
    "import pickle\n",
    "\n",
    "from tqdm import tqdm\n",
    "import os\n",
    "import sys\n"
   ]
  },
  {
   "cell_type": "code",
   "execution_count": 2,
   "metadata": {
    "scrolled": true
   },
   "outputs": [
    {
     "data": {
      "text/html": [
       "<div>\n",
       "<style scoped>\n",
       "    .dataframe tbody tr th:only-of-type {\n",
       "        vertical-align: middle;\n",
       "    }\n",
       "\n",
       "    .dataframe tbody tr th {\n",
       "        vertical-align: top;\n",
       "    }\n",
       "\n",
       "    .dataframe thead th {\n",
       "        text-align: right;\n",
       "    }\n",
       "</style>\n",
       "<table border=\"1\" class=\"dataframe\">\n",
       "  <thead>\n",
       "    <tr style=\"text-align: right;\">\n",
       "      <th></th>\n",
       "      <th>Test Case_ID</th>\n",
       "      <th>Test Case</th>\n",
       "      <th>Functionality</th>\n",
       "    </tr>\n",
       "  </thead>\n",
       "  <tbody>\n",
       "    <tr>\n",
       "      <th>0</th>\n",
       "      <td>TC_1</td>\n",
       "      <td>Check user is able to click on login button</td>\n",
       "      <td>Positive</td>\n",
       "    </tr>\n",
       "    <tr>\n",
       "      <th>1</th>\n",
       "      <td>TC_2</td>\n",
       "      <td>Check whether MF and PMS tabs are displayed</td>\n",
       "      <td>Positive</td>\n",
       "    </tr>\n",
       "    <tr>\n",
       "      <th>2</th>\n",
       "      <td>TC_3</td>\n",
       "      <td>Check whether user is able to Click on MF|PMS ...</td>\n",
       "      <td>Positive</td>\n",
       "    </tr>\n",
       "    <tr>\n",
       "      <th>3</th>\n",
       "      <td>TC_4</td>\n",
       "      <td>check whether PMS is selected by default after...</td>\n",
       "      <td>Positive</td>\n",
       "    </tr>\n",
       "    <tr>\n",
       "      <th>4</th>\n",
       "      <td>TC_5</td>\n",
       "      <td>Check whether user is able to see text \"Lets g...</td>\n",
       "      <td>Positive</td>\n",
       "    </tr>\n",
       "    <tr>\n",
       "      <th>...</th>\n",
       "      <td>...</td>\n",
       "      <td>...</td>\n",
       "      <td>...</td>\n",
       "    </tr>\n",
       "    <tr>\n",
       "      <th>8131</th>\n",
       "      <td>TC_8132</td>\n",
       "      <td>To verify if transaction date &amp; time is given ...</td>\n",
       "      <td>Positive</td>\n",
       "    </tr>\n",
       "    <tr>\n",
       "      <th>8132</th>\n",
       "      <td>TC_8133</td>\n",
       "      <td>To verify if user is able to view the title as...</td>\n",
       "      <td>Positive</td>\n",
       "    </tr>\n",
       "    <tr>\n",
       "      <th>8133</th>\n",
       "      <td>TC_8134</td>\n",
       "      <td>To verify if user is able to view the followin...</td>\n",
       "      <td>Positive</td>\n",
       "    </tr>\n",
       "    <tr>\n",
       "      <th>8134</th>\n",
       "      <td>TC_8135</td>\n",
       "      <td>Check whether after order summary page user is...</td>\n",
       "      <td>Positive</td>\n",
       "    </tr>\n",
       "    <tr>\n",
       "      <th>8135</th>\n",
       "      <td>TC_8136</td>\n",
       "      <td>Check if user is able to login with the same l...</td>\n",
       "      <td>Negative</td>\n",
       "    </tr>\n",
       "  </tbody>\n",
       "</table>\n",
       "<p>8136 rows × 3 columns</p>\n",
       "</div>"
      ],
      "text/plain": [
       "     Test Case_ID                                          Test Case  \\\n",
       "0            TC_1        Check user is able to click on login button   \n",
       "1            TC_2        Check whether MF and PMS tabs are displayed   \n",
       "2            TC_3  Check whether user is able to Click on MF|PMS ...   \n",
       "3            TC_4  check whether PMS is selected by default after...   \n",
       "4            TC_5  Check whether user is able to see text \"Lets g...   \n",
       "...           ...                                                ...   \n",
       "8131      TC_8132  To verify if transaction date & time is given ...   \n",
       "8132      TC_8133  To verify if user is able to view the title as...   \n",
       "8133      TC_8134  To verify if user is able to view the followin...   \n",
       "8134      TC_8135  Check whether after order summary page user is...   \n",
       "8135      TC_8136  Check if user is able to login with the same l...   \n",
       "\n",
       "     Functionality  \n",
       "0         Positive  \n",
       "1         Positive  \n",
       "2         Positive  \n",
       "3         Positive  \n",
       "4         Positive  \n",
       "...            ...  \n",
       "8131      Positive  \n",
       "8132      Positive  \n",
       "8133      Positive  \n",
       "8134      Positive  \n",
       "8135      Negative  \n",
       "\n",
       "[8136 rows x 3 columns]"
      ]
     },
     "execution_count": 2,
     "metadata": {},
     "output_type": "execute_result"
    }
   ],
   "source": [
    "df = pd.read_csv(\"G:\\machine_learning\\TestCases.csv\",encoding=\"ISO-8859-1\")   #read weather.csv data\n",
    "df"
   ]
  },
  {
   "cell_type": "code",
   "execution_count": 3,
   "metadata": {},
   "outputs": [
    {
     "name": "stdout",
     "output_type": "stream",
     "text": [
      "(8136, 3)\n"
     ]
    }
   ],
   "source": [
    "print(df.shape)"
   ]
  },
  {
   "cell_type": "markdown",
   "metadata": {},
   "source": [
    "# Exploratory Data Analysis"
   ]
  },
  {
   "cell_type": "markdown",
   "metadata": {},
   "source": [
    "## Data Cleaning: Deduplication"
   ]
  },
  {
   "cell_type": "code",
   "execution_count": 4,
   "metadata": {},
   "outputs": [
    {
     "data": {
      "text/plain": [
       "(8136, 3)"
      ]
     },
     "execution_count": 4,
     "metadata": {},
     "output_type": "execute_result"
    }
   ],
   "source": [
    "#Deduplication of entries\n",
    "final=df.drop_duplicates(subset={\"Test Case_ID\",\"Test Case\",\"Functionality\"}, keep='first', inplace=False)\n",
    "final.shape"
   ]
  },
  {
   "cell_type": "markdown",
   "metadata": {},
   "source": [
    "# Preprocessing"
   ]
  },
  {
   "cell_type": "code",
   "execution_count": 5,
   "metadata": {},
   "outputs": [],
   "source": [
    "# https://stackoverflow.com/a/47091490/4084039\n",
    "import re\n",
    "\n",
    "def decontracted(phrase):\n",
    "    # specific\n",
    "    phrase = re.sub(r\"won't\", \"will not\", phrase)\n",
    "    phrase = re.sub(r\"can\\'t\", \"can not\", phrase)\n",
    "\n",
    "    # general\n",
    "    phrase = re.sub(r\"n\\'t\", \" not\", phrase)\n",
    "    phrase = re.sub(r\"\\'re\", \" are\", phrase)\n",
    "    phrase = re.sub(r\"\\'s\", \" is\", phrase)\n",
    "    phrase = re.sub(r\"\\'d\", \" would\", phrase)\n",
    "    phrase = re.sub(r\"\\'ll\", \" will\", phrase)\n",
    "    phrase = re.sub(r\"\\'t\", \" not\", phrase)\n",
    "    phrase = re.sub(r\"\\'ve\", \" have\", phrase)\n",
    "    phrase = re.sub(r\"\\'m\", \" am\", phrase)\n",
    "    return phrase"
   ]
  },
  {
   "cell_type": "code",
   "execution_count": 6,
   "metadata": {},
   "outputs": [],
   "source": [
    "stopwords= set(['br', 'the', 'i', 'me', 'my', 'myself', 'we', 'our', 'ours', 'ourselves', 'you', \"you're\", \"you've\",\\\n",
    "            \"you'll\", \"you'd\", 'your', 'yours', 'yourself', 'yourselves', 'he', 'him', 'his', 'himself', \\\n",
    "            'she', \"she's\", 'her', 'hers', 'herself', 'it', \"it's\", 'its', 'itself', 'they', 'them', 'their',\\\n",
    "            'theirs', 'themselves', 'what', 'which', 'who', 'whom', 'this', 'that', \"that'll\", 'these', 'those', \\\n",
    "            'am', 'is', 'are', 'was', 'were', 'be', 'been', 'being', 'have', 'has', 'had', 'having', 'do', 'does', \\\n",
    "            'did', 'doing', 'a', 'an', 'the', 'and', 'but', 'if', 'or', 'because', 'as', 'until', 'while', 'of', \\\n",
    "            'at', 'by', 'for', 'with', 'about', 'against', 'between', 'into', 'through', 'during', 'before', 'after',\\\n",
    "            'above', 'below', 'to', 'from', 'up', 'down', 'in', 'out', 'on', 'off', 'over', 'under', 'again', 'further',\\\n",
    "            'then', 'once', 'here', 'there', 'when', 'where', 'why', 'how', 'all', 'any', 'both', 'each', 'few', 'more',\\\n",
    "            'most', 'other', 'some', 'such', 'only', 'own', 'same', 'so', 'than', 'too', 'very', \\\n",
    "            's', 't', 'can', 'will', 'just', 'don', \"don't\", 'should', \"should've\", 'now', 'd', 'll', 'm', 'o', 're', \\\n",
    "            've', 'y', 'ain', 'aren', \"aren't\", 'couldn', \"couldn't\", 'didn', \"didn't\", 'doesn', \"doesn't\", 'hadn',\\\n",
    "            \"hadn't\", 'hasn', \"hasn't\", 'haven', \"haven't\", 'isn', \"isn't\", 'ma', 'mightn', \"mightn't\", 'mustn',\\\n",
    "            \"mustn't\", 'needn', \"needn't\", 'shan', \"shan't\", 'shouldn', \"shouldn't\", 'wasn', \"wasn't\", 'weren', \"weren't\", \\\n",
    "            'won', \"won't\", 'wouldn', \"wouldn't\"])"
   ]
  },
  {
   "cell_type": "code",
   "execution_count": 7,
   "metadata": {},
   "outputs": [
    {
     "name": "stderr",
     "output_type": "stream",
     "text": [
      "100%|█████████████████████████████████████| 8136/8136 [00:25<00:00, 313.23it/s]\n"
     ]
    }
   ],
   "source": [
    "from tqdm import tqdm     \n",
    "final_string=[]\n",
    "\n",
    "for sentance in tqdm(df['Test Case'].values):\n",
    "    sentance = re.sub(r\"http\\S+\", \"\", sentance)\n",
    "    #sentance = BeautifulSoup(sentance, 'lxml').get_text()\n",
    "    sentance = decontracted(sentance)\n",
    "    sentance = re.sub(\"\\S*\\d\\S*\", \"\", sentance).strip()\n",
    "    sentance = re.sub('[^A-Za-z]+', ' ', sentance)\n",
    "    sentance = ' '.join(e.lower() for e in sentance.split() if e.lower() not in stopwords)         \n",
    "    final_string.append(sentance.strip())\n",
    "    df['CleanedText']=pd.DataFrame(final_string)"
   ]
  },
  {
   "cell_type": "code",
   "execution_count": 8,
   "metadata": {},
   "outputs": [
    {
     "data": {
      "text/html": [
       "<div>\n",
       "<style scoped>\n",
       "    .dataframe tbody tr th:only-of-type {\n",
       "        vertical-align: middle;\n",
       "    }\n",
       "\n",
       "    .dataframe tbody tr th {\n",
       "        vertical-align: top;\n",
       "    }\n",
       "\n",
       "    .dataframe thead th {\n",
       "        text-align: right;\n",
       "    }\n",
       "</style>\n",
       "<table border=\"1\" class=\"dataframe\">\n",
       "  <thead>\n",
       "    <tr style=\"text-align: right;\">\n",
       "      <th></th>\n",
       "      <th>Test Case_ID</th>\n",
       "      <th>Test Case</th>\n",
       "      <th>Functionality</th>\n",
       "      <th>CleanedText</th>\n",
       "    </tr>\n",
       "  </thead>\n",
       "  <tbody>\n",
       "    <tr>\n",
       "      <th>0</th>\n",
       "      <td>TC_1</td>\n",
       "      <td>Check user is able to click on login button</td>\n",
       "      <td>Positive</td>\n",
       "      <td>check user able click login button</td>\n",
       "    </tr>\n",
       "    <tr>\n",
       "      <th>1</th>\n",
       "      <td>TC_2</td>\n",
       "      <td>Check whether MF and PMS tabs are displayed</td>\n",
       "      <td>Positive</td>\n",
       "      <td>check whether mf pms tabs displayed</td>\n",
       "    </tr>\n",
       "    <tr>\n",
       "      <th>2</th>\n",
       "      <td>TC_3</td>\n",
       "      <td>Check whether user is able to Click on MF|PMS ...</td>\n",
       "      <td>Positive</td>\n",
       "      <td>check whether user able click mf pms tabs</td>\n",
       "    </tr>\n",
       "    <tr>\n",
       "      <th>3</th>\n",
       "      <td>TC_4</td>\n",
       "      <td>check whether PMS is selected by default after...</td>\n",
       "      <td>Positive</td>\n",
       "      <td>check whether pms selected default clicking lo...</td>\n",
       "    </tr>\n",
       "    <tr>\n",
       "      <th>4</th>\n",
       "      <td>TC_5</td>\n",
       "      <td>Check whether user is able to see text \"Lets g...</td>\n",
       "      <td>Positive</td>\n",
       "      <td>check whether user able see text lets get started</td>\n",
       "    </tr>\n",
       "    <tr>\n",
       "      <th>...</th>\n",
       "      <td>...</td>\n",
       "      <td>...</td>\n",
       "      <td>...</td>\n",
       "      <td>...</td>\n",
       "    </tr>\n",
       "    <tr>\n",
       "      <th>8131</th>\n",
       "      <td>TC_8132</td>\n",
       "      <td>To verify if transaction date &amp; time is given ...</td>\n",
       "      <td>Positive</td>\n",
       "      <td>verify transaction date time given following f...</td>\n",
       "    </tr>\n",
       "    <tr>\n",
       "      <th>8132</th>\n",
       "      <td>TC_8133</td>\n",
       "      <td>To verify if user is able to view the title as...</td>\n",
       "      <td>Positive</td>\n",
       "      <td>verify user able view title order summary</td>\n",
       "    </tr>\n",
       "    <tr>\n",
       "      <th>8133</th>\n",
       "      <td>TC_8134</td>\n",
       "      <td>To verify if user is able to view the followin...</td>\n",
       "      <td>Positive</td>\n",
       "      <td>verify user able view following columns order ...</td>\n",
       "    </tr>\n",
       "    <tr>\n",
       "      <th>8134</th>\n",
       "      <td>TC_8135</td>\n",
       "      <td>Check whether after order summary page user is...</td>\n",
       "      <td>Positive</td>\n",
       "      <td>check whether order summary page user able logout</td>\n",
       "    </tr>\n",
       "    <tr>\n",
       "      <th>8135</th>\n",
       "      <td>TC_8136</td>\n",
       "      <td>Check if user is able to login with the same l...</td>\n",
       "      <td>Negative</td>\n",
       "      <td>check user able login link transaction done</td>\n",
       "    </tr>\n",
       "  </tbody>\n",
       "</table>\n",
       "<p>8136 rows × 4 columns</p>\n",
       "</div>"
      ],
      "text/plain": [
       "     Test Case_ID                                          Test Case  \\\n",
       "0            TC_1        Check user is able to click on login button   \n",
       "1            TC_2        Check whether MF and PMS tabs are displayed   \n",
       "2            TC_3  Check whether user is able to Click on MF|PMS ...   \n",
       "3            TC_4  check whether PMS is selected by default after...   \n",
       "4            TC_5  Check whether user is able to see text \"Lets g...   \n",
       "...           ...                                                ...   \n",
       "8131      TC_8132  To verify if transaction date & time is given ...   \n",
       "8132      TC_8133  To verify if user is able to view the title as...   \n",
       "8133      TC_8134  To verify if user is able to view the followin...   \n",
       "8134      TC_8135  Check whether after order summary page user is...   \n",
       "8135      TC_8136  Check if user is able to login with the same l...   \n",
       "\n",
       "     Functionality                                        CleanedText  \n",
       "0         Positive                 check user able click login button  \n",
       "1         Positive                check whether mf pms tabs displayed  \n",
       "2         Positive          check whether user able click mf pms tabs  \n",
       "3         Positive  check whether pms selected default clicking lo...  \n",
       "4         Positive  check whether user able see text lets get started  \n",
       "...            ...                                                ...  \n",
       "8131      Positive  verify transaction date time given following f...  \n",
       "8132      Positive          verify user able view title order summary  \n",
       "8133      Positive  verify user able view following columns order ...  \n",
       "8134      Positive  check whether order summary page user able logout  \n",
       "8135      Negative        check user able login link transaction done  \n",
       "\n",
       "[8136 rows x 4 columns]"
      ]
     },
     "execution_count": 8,
     "metadata": {},
     "output_type": "execute_result"
    }
   ],
   "source": [
    "df"
   ]
  },
  {
   "cell_type": "code",
   "execution_count": 9,
   "metadata": {},
   "outputs": [
    {
     "data": {
      "text/plain": [
       "(8136,)"
      ]
     },
     "execution_count": 9,
     "metadata": {},
     "output_type": "execute_result"
    }
   ],
   "source": [
    "df['CleanedText'].shape"
   ]
  },
  {
   "cell_type": "code",
   "execution_count": 10,
   "metadata": {},
   "outputs": [
    {
     "data": {
      "text/plain": [
       "Positive    6917\n",
       "Negative    1219\n",
       "Name: Functionality, dtype: int64"
      ]
     },
     "execution_count": 10,
     "metadata": {},
     "output_type": "execute_result"
    }
   ],
   "source": [
    "df['Functionality'].value_counts()"
   ]
  },
  {
   "cell_type": "code",
   "execution_count": 11,
   "metadata": {},
   "outputs": [],
   "source": [
    "df['Functionality'].replace({\"Positive\": 1, \"Negative\": 0}, inplace=True)"
   ]
  },
  {
   "cell_type": "code",
   "execution_count": 12,
   "metadata": {},
   "outputs": [
    {
     "data": {
      "text/plain": [
       "'\\n# Separate majority and minority classes\\ndf_majority = df[df.Functionality==1]\\ndf_minority = df[df.Functionality==0]'"
      ]
     },
     "execution_count": 12,
     "metadata": {},
     "output_type": "execute_result"
    }
   ],
   "source": [
    "'''\n",
    "# Separate majority and minority classes\n",
    "df_majority = df[df.Functionality==1]\n",
    "df_minority = df[df.Functionality==0]'''"
   ]
  },
  {
   "cell_type": "code",
   "execution_count": 13,
   "metadata": {},
   "outputs": [
    {
     "data": {
      "text/plain": [
       "'\\n# Upsample minority class\\nfrom sklearn.utils import resample\\ndf_minority_upsampled = resample(df_minority, \\n                                 replace=True,     # sample with replacement\\n                                 n_samples=1131,    # to match majority class\\n                                 random_state=223) # reproducible results\\n                                 '"
      ]
     },
     "execution_count": 13,
     "metadata": {},
     "output_type": "execute_result"
    }
   ],
   "source": [
    "\"\"\"\n",
    "# Upsample minority class\n",
    "from sklearn.utils import resample\n",
    "df_minority_upsampled = resample(df_minority, \n",
    "                                 replace=True,     # sample with replacement\n",
    "                                 n_samples=1131,    # to match majority class\n",
    "                                 random_state=223) # reproducible results\n",
    "                                 \"\"\""
   ]
  },
  {
   "cell_type": "code",
   "execution_count": 14,
   "metadata": {},
   "outputs": [
    {
     "data": {
      "text/plain": [
       "'\\n# Combine majority class with upsampled minority class\\ndf_upsampled = pd.concat([df_majority, df_minority_upsampled])'"
      ]
     },
     "execution_count": 14,
     "metadata": {},
     "output_type": "execute_result"
    }
   ],
   "source": [
    "\"\"\"\n",
    "# Combine majority class with upsampled minority class\n",
    "df_upsampled = pd.concat([df_majority, df_minority_upsampled])\"\"\""
   ]
  },
  {
   "cell_type": "code",
   "execution_count": 15,
   "metadata": {},
   "outputs": [
    {
     "data": {
      "text/plain": [
       "'\\n# Display new class counts\\ndf_upsampled.Functionality.value_counts()\\n# 1    576\\n# 0    576\\n# Name: balance, dtype: int64'"
      ]
     },
     "execution_count": 15,
     "metadata": {},
     "output_type": "execute_result"
    }
   ],
   "source": [
    "\"\"\"\n",
    "# Display new class counts\n",
    "df_upsampled.Functionality.value_counts()\n",
    "# 1    576\n",
    "# 0    576\n",
    "# Name: balance, dtype: int64\"\"\""
   ]
  },
  {
   "cell_type": "code",
   "execution_count": 16,
   "metadata": {},
   "outputs": [
    {
     "data": {
      "text/plain": [
       "'\\n# Separate input features (X) and target variable (y)\\ny = df_upsampled.Functionality\\n \\n'"
      ]
     },
     "execution_count": 16,
     "metadata": {},
     "output_type": "execute_result"
    }
   ],
   "source": [
    "\n",
    "\"\"\"\n",
    "# Separate input features (X) and target variable (y)\n",
    "y = df_upsampled.Functionality\n",
    " \n",
    "\"\"\""
   ]
  },
  {
   "cell_type": "code",
   "execution_count": 17,
   "metadata": {},
   "outputs": [],
   "source": [
    "y = df['Functionality']\n"
   ]
  },
  {
   "cell_type": "code",
   "execution_count": 18,
   "metadata": {},
   "outputs": [],
   "source": [
    "X = df.drop(['Functionality','Test Case','Test Case_ID'], axis=1)"
   ]
  },
  {
   "cell_type": "code",
   "execution_count": 19,
   "metadata": {},
   "outputs": [
    {
     "data": {
      "text/plain": [
       "(8136, 1)"
      ]
     },
     "execution_count": 19,
     "metadata": {},
     "output_type": "execute_result"
    }
   ],
   "source": [
    "X.shape"
   ]
  },
  {
   "cell_type": "code",
   "execution_count": 20,
   "metadata": {},
   "outputs": [
    {
     "data": {
      "text/plain": [
       "(8136,)"
      ]
     },
     "execution_count": 20,
     "metadata": {},
     "output_type": "execute_result"
    }
   ],
   "source": [
    "y.shape"
   ]
  },
  {
   "cell_type": "code",
   "execution_count": 21,
   "metadata": {},
   "outputs": [],
   "source": [
    "from sklearn.model_selection import train_test_split\n",
    "\n",
    "x_train, x_ts, y_train, y_ts = train_test_split(X, y, test_size=0.33) # this is random splitting"
   ]
  },
  {
   "cell_type": "markdown",
   "metadata": {},
   "source": [
    "# Featurization"
   ]
  },
  {
   "cell_type": "markdown",
   "metadata": {},
   "source": [
    "## BAG OF WORDS"
   ]
  },
  {
   "cell_type": "code",
   "execution_count": 22,
   "metadata": {},
   "outputs": [
    {
     "name": "stdout",
     "output_type": "stream",
     "text": [
      "the type of count vectorizer  <class 'scipy.sparse.csr.csr_matrix'>\n",
      "the shape of out text BOW vectorizer  (5451, 911)\n",
      "the number of unique words  911\n",
      "the type of count vectorizer  <class 'scipy.sparse.csr.csr_matrix'>\n",
      "the shape of out text BOW vectorizer  (2685, 911)\n",
      "the number of unique words  911\n"
     ]
    }
   ],
   "source": [
    "#bi-gram, tri-gram and n-gram\n",
    "from sklearn import preprocessing\n",
    "\n",
    "\n",
    "#removing stop words like \"not\" should be avoided before building n-grams\n",
    "# count_vect = CountVectorizer(ngram_range=(1,2))\n",
    "# please do read the CountVectorizer documentation http://scikit-learn.org/stable/modules/generated/sklearn.feature_extraction.text.CountVectorizer.html\n",
    "\n",
    "# you can choose these numebrs min_df=10, max_features=5000, of your choice\n",
    "count_vect = CountVectorizer(ngram_range=(1, 2),min_df=10) #in scikit-learn\n",
    "x_tr_final_counts_bigram = count_vect.fit_transform(x_train['CleanedText'].values)\n",
    "#x_cv_final_counts_bigram = count_vect.transform(x_cv['CleanedText'].values)\n",
    "x_ts_final_counts_bigram = count_vect.transform(x_ts['CleanedText'].values)\n",
    "\n",
    "\n",
    "print(\"the type of count vectorizer \",type(x_tr_final_counts_bigram))\n",
    "print(\"the shape of out text BOW vectorizer \",x_tr_final_counts_bigram.get_shape())\n",
    "print(\"the number of unique words \", x_tr_final_counts_bigram.get_shape()[1])\n",
    "\n",
    "#print(\"the type of count vectorizer \",type(x_cv_final_counts_bigram))\n",
    "#print(\"the shape of out text BOW vectorizer \",x_cv_final_counts_bigram.get_shape())\n",
    "#print(\"the number of unique words \", x_cv_final_counts_bigram.get_shape()[1])\n",
    "\n",
    "print(\"the type of count vectorizer \",type(x_ts_final_counts_bigram))\n",
    "print(\"the shape of out text BOW vectorizer \",x_ts_final_counts_bigram.get_shape())\n",
    "print(\"the number of unique words \", x_ts_final_counts_bigram.get_shape()[1])\n",
    "\n",
    "\n",
    "x_tr_final_counts_bigram = preprocessing.normalize(x_tr_final_counts_bigram)\n",
    "#x_cv_final_counts_bigram = preprocessing.normalize(x_cv_final_counts_bigram)\n",
    "x_ts_final_counts_bigram = preprocessing.normalize(x_ts_final_counts_bigram)\n",
    "\n"
   ]
  },
  {
   "cell_type": "markdown",
   "metadata": {},
   "source": [
    "## TF-IDF"
   ]
  },
  {
   "cell_type": "code",
   "execution_count": 23,
   "metadata": {},
   "outputs": [
    {
     "name": "stdout",
     "output_type": "stream",
     "text": [
      "the type of count vectorizer  <class 'scipy.sparse.csr.csr_matrix'>\n",
      "the shape of out text TFIDF vectorizer  (5451, 911)\n",
      "the number of unique words including both unigrams and bigrams  911\n",
      "the type of count vectorizer  <class 'scipy.sparse.csr.csr_matrix'>\n",
      "the shape of out text TFIDF vectorizer  (2685, 911)\n",
      "the number of unique words including both unigrams and bigrams  911\n"
     ]
    }
   ],
   "source": [
    "tf_idf_vect = TfidfVectorizer(ngram_range=(1, 2),min_df=10)\n",
    "x_tr_final_counts_tfidf = tf_idf_vect.fit_transform(x_train['CleanedText'].values)\n",
    "#x_cv_final_counts_tfidf = tf_idf_vect.transform(x_cv['CleanedText'].values)\n",
    "x_ts_final_counts_tfidf = tf_idf_vect.transform(x_ts['CleanedText'].values)\n",
    "\n",
    "\n",
    "print(\"the type of count vectorizer \",type(x_tr_final_counts_tfidf))\n",
    "print(\"the shape of out text TFIDF vectorizer \",x_tr_final_counts_tfidf.get_shape())\n",
    "print(\"the number of unique words including both unigrams and bigrams \", x_tr_final_counts_tfidf.get_shape()[1])\n",
    "\n",
    "#print(\"the type of count vectorizer \",type(x_cv_final_counts_tfidf))\n",
    "#print(\"the shape of out text TFIDF vectorizer \",x_cv_final_counts_tfidf.get_shape())\n",
    "#print(\"the number of unique words including both unigrams and bigrams \", x_cv_final_counts_tfidf.get_shape()[1])\n",
    "\n",
    "print(\"the type of count vectorizer \",type(x_ts_final_counts_tfidf))\n",
    "print(\"the shape of out text TFIDF vectorizer \",x_ts_final_counts_tfidf.get_shape())\n",
    "print(\"the number of unique words including both unigrams and bigrams \", x_ts_final_counts_tfidf.get_shape()[1])\n",
    "\n",
    "\n",
    "x_tr_final_counts_tfidf = preprocessing.normalize(x_tr_final_counts_tfidf)\n",
    "#x_cv_final_counts_tfidf = preprocessing.normalize(x_cv_final_counts_tfidf)\n",
    "x_ts_final_counts_tfidf = preprocessing.normalize(x_ts_final_counts_tfidf)\n",
    "\n"
   ]
  },
  {
   "cell_type": "markdown",
   "metadata": {},
   "source": [
    "## Word2Vec Train Data"
   ]
  },
  {
   "cell_type": "code",
   "execution_count": 24,
   "metadata": {},
   "outputs": [],
   "source": [
    "# Train your own Word2Vec model using your own text corpus\n",
    "i=0\n",
    "list_of_sentance_train=[]\n",
    "for sentance in x_train['CleanedText'].values:\n",
    "    list_of_sentance_train.append(sentance.split())"
   ]
  },
  {
   "cell_type": "code",
   "execution_count": 25,
   "metadata": {},
   "outputs": [],
   "source": [
    "# Train your own Word2Vec model using your own text corpus\n",
    "i=0\n",
    "list_of_sentance_ts=[]\n",
    "for sentance in x_ts['CleanedText'].values:\n",
    "    list_of_sentance_ts.append(sentance.split())"
   ]
  },
  {
   "cell_type": "code",
   "execution_count": 26,
   "metadata": {},
   "outputs": [
    {
     "name": "stdout",
     "output_type": "stream",
     "text": [
      "5451\n",
      "2685\n"
     ]
    }
   ],
   "source": [
    "print(len(list_of_sentance_train))\n",
    "#print(len(list_of_sentance_cv))\n",
    "print(len(list_of_sentance_ts))"
   ]
  },
  {
   "cell_type": "code",
   "execution_count": 27,
   "metadata": {},
   "outputs": [],
   "source": [
    "def convertByteStringtoString(sentlist):\n",
    "    for x in sentlist:\n",
    "        for i in range(len(x)):\n",
    "            x[i] = x[i]\n",
    "            \n",
    "    return sentlist"
   ]
  },
  {
   "cell_type": "code",
   "execution_count": 28,
   "metadata": {},
   "outputs": [],
   "source": [
    "list_of_sentance_train = convertByteStringtoString(list_of_sentance_train)\n",
    "#list_of_sentance_cv = convertByteStringtoString(list_of_sentance_cv)\n",
    "list_of_sentance_ts = convertByteStringtoString(list_of_sentance_ts)"
   ]
  },
  {
   "cell_type": "code",
   "execution_count": 29,
   "metadata": {},
   "outputs": [],
   "source": [
    "# min_count = 5 considers only words that occured atleast 5 times\n",
    "w2v_model=Word2Vec(list_of_sentance_train,min_count=5,size=50, workers=4)"
   ]
  },
  {
   "cell_type": "code",
   "execution_count": 30,
   "metadata": {},
   "outputs": [
    {
     "name": "stdout",
     "output_type": "stream",
     "text": [
      "number of words that occured minimum 5 times  554\n",
      "sample words  ['select', 'nri', 'non', 'repatriable', 'individual', 'anyone', 'survivor', 'holding', 'type', 'check', 'whether', 'user', 'able', 'verify', 'enter', 'pass', 'date', 'dob', 'field', 'e', 'g', 'current', 'jan', 'enters', 'dd', 'mm', 'application', 'form', 'esign', 'view', 'mobile', 'number', 'see', 'content', 'checkbox', 'hereby', 'confirm', 'details', 'provided', 'motilal', 'oswal', 'asset', 'management', 'section', 'case', 'pmla', 'increase', 'no', 'installment', 'upi']\n"
     ]
    }
   ],
   "source": [
    "w2v_words = list(w2v_model.wv.vocab)\n",
    "print(\"number of words that occured minimum 5 times \",len(w2v_words))\n",
    "print(\"sample words \", w2v_words[0:50])"
   ]
  },
  {
   "cell_type": "markdown",
   "metadata": {},
   "source": [
    "## Avg W2v"
   ]
  },
  {
   "cell_type": "code",
   "execution_count": 31,
   "metadata": {},
   "outputs": [
    {
     "name": "stderr",
     "output_type": "stream",
     "text": [
      "100%|████████████████████████████████████| 5451/5451 [00:01<00:00, 4555.38it/s]"
     ]
    },
    {
     "name": "stdout",
     "output_type": "stream",
     "text": [
      "5451\n",
      "50\n"
     ]
    },
    {
     "name": "stderr",
     "output_type": "stream",
     "text": [
      "\n"
     ]
    }
   ],
   "source": [
    "# average Word2Vec\n",
    "# compute average word2vec for each review.\n",
    "\n",
    "train_avgw2v = []; # the avg-w2v for each sentence/review is stored in this list\n",
    "for sent in tqdm(list_of_sentance_train): # for each review/sentence\n",
    "    sent_vec = np.zeros(50) # as word vectors are of zero length 50, you might need to change this to 300 if you use google's w2v\n",
    "    cnt_words =0; # num of words with a valid vector in the sentence/review\n",
    "    for word in sent: # for each word in a review/sentence\n",
    "        if word in w2v_words:\n",
    "            vec = w2v_model.wv[word]\n",
    "            sent_vec += vec\n",
    "            cnt_words += 1\n",
    "    if cnt_words != 0:\n",
    "        sent_vec /= cnt_words\n",
    "    train_avgw2v.append(sent_vec)\n",
    "print(len(train_avgw2v))\n",
    "print(len(train_avgw2v[0]))"
   ]
  },
  {
   "cell_type": "code",
   "execution_count": 32,
   "metadata": {},
   "outputs": [
    {
     "name": "stderr",
     "output_type": "stream",
     "text": [
      "100%|████████████████████████████████████| 2685/2685 [00:00<00:00, 4373.27it/s]"
     ]
    },
    {
     "name": "stdout",
     "output_type": "stream",
     "text": [
      "2685\n",
      "50\n"
     ]
    },
    {
     "name": "stderr",
     "output_type": "stream",
     "text": [
      "\n"
     ]
    }
   ],
   "source": [
    "test_avgw2v = []; # the avg-w2v for each sentence/review is stored in this list\n",
    "for sent in tqdm(list_of_sentance_ts): # for each review/sentence\n",
    "    sent_vec = np.zeros(50) # as word vectors are of zero length 50, you might need to change this to 300 if you use google's w2v\n",
    "    cnt_words =0; # num of words with a valid vector in the sentence/review\n",
    "    for word in sent: # for each word in a review/sentence\n",
    "        if word in w2v_words:\n",
    "            vec = w2v_model.wv[word]\n",
    "            sent_vec += vec\n",
    "            cnt_words += 1\n",
    "    if cnt_words != 0:\n",
    "        sent_vec /= cnt_words\n",
    "    test_avgw2v.append(sent_vec)\n",
    "print(len(test_avgw2v))\n",
    "print(len(test_avgw2v[0]))"
   ]
  },
  {
   "cell_type": "code",
   "execution_count": 33,
   "metadata": {},
   "outputs": [],
   "source": [
    "\n",
    "train_avgw2v = preprocessing.normalize(train_avgw2v)\n",
    "#cv_avgw2v = preprocessing.normalize(cv_avgw2v)\n",
    "test_avgw2v = preprocessing.normalize(test_avgw2v)\n"
   ]
  },
  {
   "cell_type": "code",
   "execution_count": 34,
   "metadata": {},
   "outputs": [],
   "source": [
    "train_avgw2v = np.array(train_avgw2v)\n",
    "#cv_avgw2v = np.array(cv_avgw2v)\n",
    "test_avgw2v = np.array(test_avgw2v)"
   ]
  },
  {
   "cell_type": "markdown",
   "metadata": {},
   "source": [
    "## TFIDF weighted W2v"
   ]
  },
  {
   "cell_type": "code",
   "execution_count": 35,
   "metadata": {},
   "outputs": [],
   "source": [
    "# S = [\"abc def pqr\", \"def def def abc\", \"pqr pqr def\"]\n",
    "model = TfidfVectorizer()\n",
    "x_tr_final_counts_TFIDF_w2v = model.fit_transform(x_train['CleanedText'].values)\n",
    "#x_cv_final_counts_TFIDF_w2v = model.transform(x_cv['CleanedText'].values)\n",
    "x_ts_final_counts_TFIDF_w2v = model.transform(x_ts['CleanedText'].values)\n",
    "\n",
    "# we are converting a dictionary with word as a key, and the idf as a value\n",
    "dictionary = dict(zip(model.get_feature_names(), list(model.idf_)))\n"
   ]
  },
  {
   "cell_type": "code",
   "execution_count": 36,
   "metadata": {},
   "outputs": [
    {
     "name": "stderr",
     "output_type": "stream",
     "text": [
      "100%|████████████████████████████████████| 5451/5451 [00:03<00:00, 1709.90it/s]\n"
     ]
    }
   ],
   "source": [
    "# TF-IDF weighted Word2Vec Train Data\n",
    "tfidf_feat = model.get_feature_names() # tfidf words/col-names\n",
    "# final_tf_idf is the sparse matrix with row= sentence, col=word and cell_val = tfidf\n",
    "\n",
    "tfidf_sent_vectors = []; # the tfidf-w2v for each sentence/review is stored in this list\n",
    "row=0;\n",
    "for sent in tqdm(list_of_sentance_train): # for each review/sentence \n",
    "    sent_vec = np.zeros(50) # as word vectors are of zero length\n",
    "    weight_sum =0; # num of words with a valid vector in the sentence/review\n",
    "    for word in sent: # for each word in a review/sentence\n",
    "        if word in w2v_words and word in tfidf_feat:\n",
    "            vec = w2v_model.wv[word]\n",
    "#             tf_idf = tf_idf_matrix[row, tfidf_feat.index(word)]\n",
    "            # to reduce the computation we are \n",
    "            # dictionary[word] = idf value of word in whole courpus\n",
    "            # sent.count(word) = tf valeus of word in this review\n",
    "            tf_idf = dictionary[word]*(sent.count(word)/len(sent))\n",
    "            sent_vec += (vec * tf_idf)\n",
    "            weight_sum += tf_idf\n",
    "    if weight_sum != 0:\n",
    "        sent_vec /= weight_sum\n",
    "    tfidf_sent_vectors.append(sent_vec)\n",
    "    row += 1"
   ]
  },
  {
   "cell_type": "code",
   "execution_count": 37,
   "metadata": {},
   "outputs": [
    {
     "name": "stderr",
     "output_type": "stream",
     "text": [
      "100%|████████████████████████████████████| 2685/2685 [00:01<00:00, 1603.53it/s]\n"
     ]
    }
   ],
   "source": [
    "# TF-IDF weighted Word2Vec test Data\n",
    "tfidf_feat = model.get_feature_names() # tfidf words/col-names\n",
    "# final_tf_idf is the sparse matrix with row= sentence, col=word and cell_val = tfidf\n",
    "\n",
    "tfidf_sent_vectors_ts = []; # the tfidf-w2v for each sentence/review is stored in this list\n",
    "row=0;\n",
    "for sent in tqdm(list_of_sentance_ts): # for each review/sentence \n",
    "    sent_vec = np.zeros(50) # as word vectors are of zero length\n",
    "    weight_sum =0; # num of words with a valid vector in the sentence/review\n",
    "    for word in sent: # for each word in a review/sentence\n",
    "        if word in w2v_words and word in tfidf_feat:\n",
    "            vec = w2v_model.wv[word]\n",
    "#             tf_idf = tf_idf_matrix[row, tfidf_feat.index(word)]\n",
    "            # to reduce the computation we are \n",
    "            # dictionary[word] = idf value of word in whole courpus\n",
    "            # sent.count(word) = tf valeus of word in this review\n",
    "            tf_idf = dictionary[word]*(sent.count(word)/len(sent))\n",
    "            sent_vec += (vec * tf_idf)\n",
    "            weight_sum += tf_idf\n",
    "    if weight_sum != 0:\n",
    "        sent_vec /= weight_sum\n",
    "    tfidf_sent_vectors_ts.append(sent_vec)\n",
    "    row += 1"
   ]
  },
  {
   "cell_type": "code",
   "execution_count": 38,
   "metadata": {},
   "outputs": [],
   "source": [
    "\n",
    "tfidf_sent_vectors = preprocessing.normalize(tfidf_sent_vectors)\n",
    "#tfidf_sent_vectors_cv = preprocessing.normalize(tfidf_sent_vectors_cv)\n",
    "tfidf_sent_vectors_ts = preprocessing.normalize(tfidf_sent_vectors_ts)\n"
   ]
  },
  {
   "cell_type": "code",
   "execution_count": 39,
   "metadata": {},
   "outputs": [],
   "source": [
    "tfidf_sent_vectors = np.array(tfidf_sent_vectors)\n",
    "#tfidf_sent_vectors_cv = np.array(tfidf_sent_vectors_cv)\n",
    "tfidf_sent_vectors_ts = np.array(tfidf_sent_vectors_ts)"
   ]
  },
  {
   "cell_type": "code",
   "execution_count": 40,
   "metadata": {},
   "outputs": [
    {
     "name": "stdout",
     "output_type": "stream",
     "text": [
      "[  0   1   2   3   4   5   6   7   8   9  10  11  12  13  14  15  16  17\n",
      "  18  19  20  21  22  23  24  25  26  27  28  29  30  31  32  33  34  35\n",
      "  36  37  38  39  40  41  42  43  44  45  46  47  48  49  50  51  52  53\n",
      "  54  55  56  57  58  59  60  61  62  63  64  65  66  67  68  69  70  71\n",
      "  72  73  74  75  76  77  78  79  80  81  82  83  84  85  86  87  88  89\n",
      "  90  91  92  93  94  95  96  97  98  99 100 101 102 103 104 105 106 107\n",
      " 108 109 110 111 112 113 114 115 116 117 118 119 120 121 122 123 124 125\n",
      " 126 127 128 129 130 131 132 133 134 135 136 137 138 139 140 141 142 143\n",
      " 144 145 146 147 148 149 150 151 152 153 154 155 156 157 158 159 160 161\n",
      " 162 163 164 165 166 167 168 169 170 171 172 173 174 175 176 177 178 179\n",
      " 180 181 182 183 184 185 186 187 188 189 190 191 192 193 194 195 196 197\n",
      " 198 199 200 201 202 203 204 205 206 207 208 209 210 211 212 213 214 215\n",
      " 216 217 218 219 220 221 222 223 224 225 226 227 228 229 230 231 232 233\n",
      " 234 235 236 237 238 239 240 241 242 243 244 245 246 247 248 249 250 251\n",
      " 252 253 254 255 256 257 258 259 260 261 262 263 264 265 266 267 268 269\n",
      " 270 271 272 273 274 275 276 277 278 279 280 281 282 283 284 285 286 287\n",
      " 288 289 290 291 292 293 294 295 296 297 298 299 300 301 302 303 304 305\n",
      " 306 307 308 309 310 311 312 313 314 315 316 317 318 319 320 321 322 323\n",
      " 324 325 326 327 328 329 330 331 332 333 334 335 336 337 338 339 340 341\n",
      " 342 343 344 345 346 347 348 349 350 351 352 353 354 355 356 357 358 359\n",
      " 360 361 362 363 364 365 366 367 368 369 370 371 372 373 374 375 376 377\n",
      " 378 379 380 381 382 383 384 385 386 387 388 389 390 391 392 393 394 395\n",
      " 396 397 398 399 400 401 402 403 404 405 406 407 408 409 410 411 412 413\n",
      " 414 415 416 417 418 419 420 421 422 423 424 425 426 427 428 429 430 431\n",
      " 432 433 434 435 436 437 438 439 440 441 442 443 444 445 446 447 448 449\n",
      " 450 451 452 453 454 455 456 457 458 459 460 461 462 463 464 465 466 467\n",
      " 468 469 470 471 472 473 474 475 476 477 478 479 480 481 482 483 484 485\n",
      " 486 487 488 489 490 491 492 493 494 495 496 497 498 499 500] [501 502 503 504 505 506 507 508 509 510 511 512 513 514 515 516 517 518\n",
      " 519 520 521 522 523 524 525 526 527 528 529 530 531 532 533 534 535 536\n",
      " 537 538 539 540 541 542 543 544 545 546 547 548 549 550 551 552 553 554\n",
      " 555 556 557 558 559 560 561 562 563 564 565 566 567 568 569 570 571 572\n",
      " 573 574 575 576 577 578 579 580 581 582 583 584 585 586 587 588 589 590\n",
      " 591 592 593 594 595 596 597 598 599 600 601 602 603 604 605 606 607 608\n",
      " 609 610 611 612 613 614 615 616 617 618 619 620 621 622 623 624 625 626\n",
      " 627 628 629 630 631 632 633 634 635 636 637 638 639 640 641 642 643 644\n",
      " 645 646 647 648 649 650 651 652 653 654 655 656 657 658 659 660 661 662\n",
      " 663 664 665 666 667 668 669 670 671 672 673 674 675 676 677 678 679 680\n",
      " 681 682 683 684 685 686 687 688 689 690 691 692 693 694 695 696 697 698\n",
      " 699 700 701 702 703 704 705 706 707 708 709 710 711 712 713 714 715 716\n",
      " 717 718 719 720 721 722 723 724 725 726 727 728 729 730 731 732 733 734\n",
      " 735 736 737 738 739 740 741 742 743 744 745 746 747 748 749 750 751 752\n",
      " 753 754 755 756 757 758 759 760 761 762 763 764 765 766 767 768 769 770\n",
      " 771 772 773 774 775 776 777 778 779 780 781 782 783 784 785 786 787 788\n",
      " 789 790 791 792 793 794 795 796 797 798 799 800 801 802 803 804 805 806\n",
      " 807 808 809 810 811 812 813 814 815 816 817 818 819 820 821 822 823 824\n",
      " 825 826 827 828 829 830 831 832 833 834 835 836 837 838 839 840 841 842\n",
      " 843 844 845 846 847 848 849 850 851 852 853 854 855 856 857 858 859 860\n",
      " 861 862 863 864 865 866 867 868 869 870 871 872 873 874 875 876 877 878\n",
      " 879 880 881 882 883 884 885 886 887 888 889 890 891 892 893 894 895 896\n",
      " 897 898 899 900 901 902 903 904 905 906 907 908 909 910 911 912 913 914\n",
      " 915 916 917 918 919 920 921 922 923 924 925 926 927 928 929 930 931 932\n",
      " 933 934 935 936 937 938 939 940 941 942 943 944 945 946 947 948 949 950\n",
      " 951 952 953 954 955 956 957 958 959 960 961 962 963 964 965 966 967 968\n",
      " 969 970 971 972 973 974 975 976 977 978 979 980 981 982 983 984 985 986\n",
      " 987 988 989 990 991 992 993 994 995]\n",
      "[  0   1   2   3   4   5   6   7   8   9  10  11  12  13  14  15  16  17\n",
      "  18  19  20  21  22  23  24  25  26  27  28  29  30  31  32  33  34  35\n",
      "  36  37  38  39  40  41  42  43  44  45  46  47  48  49  50  51  52  53\n",
      "  54  55  56  57  58  59  60  61  62  63  64  65  66  67  68  69  70  71\n",
      "  72  73  74  75  76  77  78  79  80  81  82  83  84  85  86  87  88  89\n",
      "  90  91  92  93  94  95  96  97  98  99 100 101 102 103 104 105 106 107\n",
      " 108 109 110 111 112 113 114 115 116 117 118 119 120 121 122 123 124 125\n",
      " 126 127 128 129 130 131 132 133 134 135 136 137 138 139 140 141 142 143\n",
      " 144 145 146 147 148 149 150 151 152 153 154 155 156 157 158 159 160 161\n",
      " 162 163 164 165 166 167 168 169 170 171 172 173 174 175 176 177 178 179\n",
      " 180 181 182 183 184 185 186 187 188 189 190 191 192 193 194 195 196 197\n",
      " 198 199 200 201 202 203 204 205 206 207 208 209 210 211 212 213 214 215\n",
      " 216 217 218 219 220 221 222 223 224 225 226 227 228 229 230 231 232 233\n",
      " 234 235 236 237 238 239 240 241 242 243 244 245 246 247 248 249 250 251\n",
      " 252 253 254 255 256 257 258 259 260 261 262 263 264 265 266 267 268 269\n",
      " 270 271 272 273 274 275 276 277 278 279 280 281 282 283 284 285 286 287\n",
      " 288 289 290 291 292 293 294 295 296 297 298 299 300 301 302 303 304 305\n",
      " 306 307 308 309 310 311 312 313 314 315 316 317 318 319 320 321 322 323\n",
      " 324 325 326 327 328 329 330 331 332 333 334 335 336 337 338 339 340 341\n",
      " 342 343 344 345 346 347 348 349 350 351 352 353 354 355 356 357 358 359\n",
      " 360 361 362 363 364 365 366 367 368 369 370 371 372 373 374 375 376 377\n",
      " 378 379 380 381 382 383 384 385 386 387 388 389 390 391 392 393 394 395\n",
      " 396 397 398 399 400 401 402 403 404 405 406 407 408 409 410 411 412 413\n",
      " 414 415 416 417 418 419 420 421 422 423 424 425 426 427 428 429 430 431\n",
      " 432 433 434 435 436 437 438 439 440 441 442 443 444 445 446 447 448 449\n",
      " 450 451 452 453 454 455 456 457 458 459 460 461 462 463 464 465 466 467\n",
      " 468 469 470 471 472 473 474 475 476 477 478 479 480 481 482 483 484 485\n",
      " 486 487 488 489 490 491 492 493 494 495 496 497 498 499 500 501 502 503\n",
      " 504 505 506 507 508 509 510 511 512 513 514 515 516 517 518 519 520 521\n",
      " 522 523 524 525 526 527 528 529 530 531 532 533 534 535 536 537 538 539\n",
      " 540 541 542 543 544 545 546 547 548 549 550 551 552 553 554 555 556 557\n",
      " 558 559 560 561 562 563 564 565 566 567 568 569 570 571 572 573 574 575\n",
      " 576 577 578 579 580 581 582 583 584 585 586 587 588 589 590 591 592 593\n",
      " 594 595 596 597 598 599 600 601 602 603 604 605 606 607 608 609 610 611\n",
      " 612 613 614 615 616 617 618 619 620 621 622 623 624 625 626 627 628 629\n",
      " 630 631 632 633 634 635 636 637 638 639 640 641 642 643 644 645 646 647\n",
      " 648 649 650 651 652 653 654 655 656 657 658 659 660 661 662 663 664 665\n",
      " 666 667 668 669 670 671 672 673 674 675 676 677 678 679 680 681 682 683\n",
      " 684 685 686 687 688 689 690 691 692 693 694 695 696 697 698 699 700 701\n",
      " 702 703 704 705 706 707 708 709 710 711 712 713 714 715 716 717 718 719\n",
      " 720 721 722 723 724 725 726 727 728 729 730 731 732 733 734 735 736 737\n",
      " 738 739 740 741 742 743 744 745 746 747 748 749 750 751 752 753 754 755\n",
      " 756 757 758 759 760 761 762 763 764 765 766 767 768 769 770 771 772 773\n",
      " 774 775 776 777 778 779 780 781 782 783 784 785 786 787 788 789 790 791\n",
      " 792 793 794 795 796 797 798 799 800 801 802 803 804 805 806 807 808 809\n",
      " 810 811 812 813 814 815 816 817 818 819 820 821 822 823 824 825 826 827\n",
      " 828 829 830 831 832 833 834 835 836 837 838 839 840 841 842 843 844 845\n",
      " 846 847 848 849 850 851 852 853 854 855 856 857 858 859 860 861 862 863\n",
      " 864 865 866 867 868 869 870 871 872 873 874 875 876 877 878 879 880 881\n",
      " 882 883 884 885 886 887 888 889 890 891 892 893 894 895 896 897 898 899\n",
      " 900 901 902 903 904 905 906 907 908 909 910 911 912 913 914 915 916 917\n",
      " 918 919 920 921 922 923 924 925 926 927 928 929 930 931 932 933 934 935\n",
      " 936 937 938 939 940 941 942 943 944 945 946 947 948 949 950 951 952 953\n",
      " 954 955 956 957 958 959 960 961 962 963 964 965 966 967 968 969 970 971\n",
      " 972 973 974 975 976 977 978 979 980 981 982 983 984 985 986 987 988 989\n",
      " 990 991 992 993 994 995] [ 996  997  998  999 1000 1001 1002 1003 1004 1005 1006 1007 1008 1009\n",
      " 1010 1011 1012 1013 1014 1015 1016 1017 1018 1019 1020 1021 1022 1023\n",
      " 1024 1025 1026 1027 1028 1029 1030 1031 1032 1033 1034 1035 1036 1037\n",
      " 1038 1039 1040 1041 1042 1043 1044 1045 1046 1047 1048 1049 1050 1051\n",
      " 1052 1053 1054 1055 1056 1057 1058 1059 1060 1061 1062 1063 1064 1065\n",
      " 1066 1067 1068 1069 1070 1071 1072 1073 1074 1075 1076 1077 1078 1079\n",
      " 1080 1081 1082 1083 1084 1085 1086 1087 1088 1089 1090 1091 1092 1093\n",
      " 1094 1095 1096 1097 1098 1099 1100 1101 1102 1103 1104 1105 1106 1107\n",
      " 1108 1109 1110 1111 1112 1113 1114 1115 1116 1117 1118 1119 1120 1121\n",
      " 1122 1123 1124 1125 1126 1127 1128 1129 1130 1131 1132 1133 1134 1135\n",
      " 1136 1137 1138 1139 1140 1141 1142 1143 1144 1145 1146 1147 1148 1149\n",
      " 1150 1151 1152 1153 1154 1155 1156 1157 1158 1159 1160 1161 1162 1163\n",
      " 1164 1165 1166 1167 1168 1169 1170 1171 1172 1173 1174 1175 1176 1177\n",
      " 1178 1179 1180 1181 1182 1183 1184 1185 1186 1187 1188 1189 1190 1191\n",
      " 1192 1193 1194 1195 1196 1197 1198 1199 1200 1201 1202 1203 1204 1205\n",
      " 1206 1207 1208 1209 1210 1211 1212 1213 1214 1215 1216 1217 1218 1219\n",
      " 1220 1221 1222 1223 1224 1225 1226 1227 1228 1229 1230 1231 1232 1233\n",
      " 1234 1235 1236 1237 1238 1239 1240 1241 1242 1243 1244 1245 1246 1247\n",
      " 1248 1249 1250 1251 1252 1253 1254 1255 1256 1257 1258 1259 1260 1261\n",
      " 1262 1263 1264 1265 1266 1267 1268 1269 1270 1271 1272 1273 1274 1275\n",
      " 1276 1277 1278 1279 1280 1281 1282 1283 1284 1285 1286 1287 1288 1289\n",
      " 1290 1291 1292 1293 1294 1295 1296 1297 1298 1299 1300 1301 1302 1303\n",
      " 1304 1305 1306 1307 1308 1309 1310 1311 1312 1313 1314 1315 1316 1317\n",
      " 1318 1319 1320 1321 1322 1323 1324 1325 1326 1327 1328 1329 1330 1331\n",
      " 1332 1333 1334 1335 1336 1337 1338 1339 1340 1341 1342 1343 1344 1345\n",
      " 1346 1347 1348 1349 1350 1351 1352 1353 1354 1355 1356 1357 1358 1359\n",
      " 1360 1361 1362 1363 1364 1365 1366 1367 1368 1369 1370 1371 1372 1373\n",
      " 1374 1375 1376 1377 1378 1379 1380 1381 1382 1383 1384 1385 1386 1387\n",
      " 1388 1389 1390 1391 1392 1393 1394 1395 1396 1397 1398 1399 1400 1401\n",
      " 1402 1403 1404 1405 1406 1407 1408 1409 1410 1411 1412 1413 1414 1415\n",
      " 1416 1417 1418 1419 1420 1421 1422 1423 1424 1425 1426 1427 1428 1429\n",
      " 1430 1431 1432 1433 1434 1435 1436 1437 1438 1439 1440 1441 1442 1443\n",
      " 1444 1445 1446 1447 1448 1449 1450 1451 1452 1453 1454 1455 1456 1457\n",
      " 1458 1459 1460 1461 1462 1463 1464 1465 1466 1467 1468 1469 1470 1471\n",
      " 1472 1473 1474 1475 1476 1477 1478 1479 1480 1481 1482 1483 1484 1485\n",
      " 1486 1487 1488 1489 1490]\n",
      "[   0    1    2 ... 1488 1489 1490] [1491 1492 1493 1494 1495 1496 1497 1498 1499 1500 1501 1502 1503 1504\n",
      " 1505 1506 1507 1508 1509 1510 1511 1512 1513 1514 1515 1516 1517 1518\n",
      " 1519 1520 1521 1522 1523 1524 1525 1526 1527 1528 1529 1530 1531 1532\n",
      " 1533 1534 1535 1536 1537 1538 1539 1540 1541 1542 1543 1544 1545 1546\n",
      " 1547 1548 1549 1550 1551 1552 1553 1554 1555 1556 1557 1558 1559 1560\n",
      " 1561 1562 1563 1564 1565 1566 1567 1568 1569 1570 1571 1572 1573 1574\n",
      " 1575 1576 1577 1578 1579 1580 1581 1582 1583 1584 1585 1586 1587 1588\n",
      " 1589 1590 1591 1592 1593 1594 1595 1596 1597 1598 1599 1600 1601 1602\n",
      " 1603 1604 1605 1606 1607 1608 1609 1610 1611 1612 1613 1614 1615 1616\n",
      " 1617 1618 1619 1620 1621 1622 1623 1624 1625 1626 1627 1628 1629 1630\n",
      " 1631 1632 1633 1634 1635 1636 1637 1638 1639 1640 1641 1642 1643 1644\n",
      " 1645 1646 1647 1648 1649 1650 1651 1652 1653 1654 1655 1656 1657 1658\n",
      " 1659 1660 1661 1662 1663 1664 1665 1666 1667 1668 1669 1670 1671 1672\n",
      " 1673 1674 1675 1676 1677 1678 1679 1680 1681 1682 1683 1684 1685 1686\n",
      " 1687 1688 1689 1690 1691 1692 1693 1694 1695 1696 1697 1698 1699 1700\n",
      " 1701 1702 1703 1704 1705 1706 1707 1708 1709 1710 1711 1712 1713 1714\n",
      " 1715 1716 1717 1718 1719 1720 1721 1722 1723 1724 1725 1726 1727 1728\n",
      " 1729 1730 1731 1732 1733 1734 1735 1736 1737 1738 1739 1740 1741 1742\n",
      " 1743 1744 1745 1746 1747 1748 1749 1750 1751 1752 1753 1754 1755 1756\n",
      " 1757 1758 1759 1760 1761 1762 1763 1764 1765 1766 1767 1768 1769 1770\n",
      " 1771 1772 1773 1774 1775 1776 1777 1778 1779 1780 1781 1782 1783 1784\n",
      " 1785 1786 1787 1788 1789 1790 1791 1792 1793 1794 1795 1796 1797 1798\n",
      " 1799 1800 1801 1802 1803 1804 1805 1806 1807 1808 1809 1810 1811 1812\n",
      " 1813 1814 1815 1816 1817 1818 1819 1820 1821 1822 1823 1824 1825 1826\n",
      " 1827 1828 1829 1830 1831 1832 1833 1834 1835 1836 1837 1838 1839 1840\n",
      " 1841 1842 1843 1844 1845 1846 1847 1848 1849 1850 1851 1852 1853 1854\n",
      " 1855 1856 1857 1858 1859 1860 1861 1862 1863 1864 1865 1866 1867 1868\n",
      " 1869 1870 1871 1872 1873 1874 1875 1876 1877 1878 1879 1880 1881 1882\n",
      " 1883 1884 1885 1886 1887 1888 1889 1890 1891 1892 1893 1894 1895 1896\n",
      " 1897 1898 1899 1900 1901 1902 1903 1904 1905 1906 1907 1908 1909 1910\n",
      " 1911 1912 1913 1914 1915 1916 1917 1918 1919 1920 1921 1922 1923 1924\n",
      " 1925 1926 1927 1928 1929 1930 1931 1932 1933 1934 1935 1936 1937 1938\n",
      " 1939 1940 1941 1942 1943 1944 1945 1946 1947 1948 1949 1950 1951 1952\n",
      " 1953 1954 1955 1956 1957 1958 1959 1960 1961 1962 1963 1964 1965 1966\n",
      " 1967 1968 1969 1970 1971 1972 1973 1974 1975 1976 1977 1978 1979 1980\n",
      " 1981 1982 1983 1984 1985]\n",
      "[   0    1    2 ... 1983 1984 1985] [1986 1987 1988 1989 1990 1991 1992 1993 1994 1995 1996 1997 1998 1999\n",
      " 2000 2001 2002 2003 2004 2005 2006 2007 2008 2009 2010 2011 2012 2013\n",
      " 2014 2015 2016 2017 2018 2019 2020 2021 2022 2023 2024 2025 2026 2027\n",
      " 2028 2029 2030 2031 2032 2033 2034 2035 2036 2037 2038 2039 2040 2041\n",
      " 2042 2043 2044 2045 2046 2047 2048 2049 2050 2051 2052 2053 2054 2055\n",
      " 2056 2057 2058 2059 2060 2061 2062 2063 2064 2065 2066 2067 2068 2069\n",
      " 2070 2071 2072 2073 2074 2075 2076 2077 2078 2079 2080 2081 2082 2083\n",
      " 2084 2085 2086 2087 2088 2089 2090 2091 2092 2093 2094 2095 2096 2097\n",
      " 2098 2099 2100 2101 2102 2103 2104 2105 2106 2107 2108 2109 2110 2111\n",
      " 2112 2113 2114 2115 2116 2117 2118 2119 2120 2121 2122 2123 2124 2125\n",
      " 2126 2127 2128 2129 2130 2131 2132 2133 2134 2135 2136 2137 2138 2139\n",
      " 2140 2141 2142 2143 2144 2145 2146 2147 2148 2149 2150 2151 2152 2153\n",
      " 2154 2155 2156 2157 2158 2159 2160 2161 2162 2163 2164 2165 2166 2167\n",
      " 2168 2169 2170 2171 2172 2173 2174 2175 2176 2177 2178 2179 2180 2181\n",
      " 2182 2183 2184 2185 2186 2187 2188 2189 2190 2191 2192 2193 2194 2195\n",
      " 2196 2197 2198 2199 2200 2201 2202 2203 2204 2205 2206 2207 2208 2209\n",
      " 2210 2211 2212 2213 2214 2215 2216 2217 2218 2219 2220 2221 2222 2223\n",
      " 2224 2225 2226 2227 2228 2229 2230 2231 2232 2233 2234 2235 2236 2237\n",
      " 2238 2239 2240 2241 2242 2243 2244 2245 2246 2247 2248 2249 2250 2251\n",
      " 2252 2253 2254 2255 2256 2257 2258 2259 2260 2261 2262 2263 2264 2265\n",
      " 2266 2267 2268 2269 2270 2271 2272 2273 2274 2275 2276 2277 2278 2279\n",
      " 2280 2281 2282 2283 2284 2285 2286 2287 2288 2289 2290 2291 2292 2293\n",
      " 2294 2295 2296 2297 2298 2299 2300 2301 2302 2303 2304 2305 2306 2307\n",
      " 2308 2309 2310 2311 2312 2313 2314 2315 2316 2317 2318 2319 2320 2321\n",
      " 2322 2323 2324 2325 2326 2327 2328 2329 2330 2331 2332 2333 2334 2335\n",
      " 2336 2337 2338 2339 2340 2341 2342 2343 2344 2345 2346 2347 2348 2349\n",
      " 2350 2351 2352 2353 2354 2355 2356 2357 2358 2359 2360 2361 2362 2363\n",
      " 2364 2365 2366 2367 2368 2369 2370 2371 2372 2373 2374 2375 2376 2377\n",
      " 2378 2379 2380 2381 2382 2383 2384 2385 2386 2387 2388 2389 2390 2391\n",
      " 2392 2393 2394 2395 2396 2397 2398 2399 2400 2401 2402 2403 2404 2405\n",
      " 2406 2407 2408 2409 2410 2411 2412 2413 2414 2415 2416 2417 2418 2419\n",
      " 2420 2421 2422 2423 2424 2425 2426 2427 2428 2429 2430 2431 2432 2433\n",
      " 2434 2435 2436 2437 2438 2439 2440 2441 2442 2443 2444 2445 2446 2447\n",
      " 2448 2449 2450 2451 2452 2453 2454 2455 2456 2457 2458 2459 2460 2461\n",
      " 2462 2463 2464 2465 2466 2467 2468 2469 2470 2471 2472 2473 2474 2475\n",
      " 2476 2477 2478 2479 2480]\n",
      "[   0    1    2 ... 2478 2479 2480] [2481 2482 2483 2484 2485 2486 2487 2488 2489 2490 2491 2492 2493 2494\n",
      " 2495 2496 2497 2498 2499 2500 2501 2502 2503 2504 2505 2506 2507 2508\n",
      " 2509 2510 2511 2512 2513 2514 2515 2516 2517 2518 2519 2520 2521 2522\n",
      " 2523 2524 2525 2526 2527 2528 2529 2530 2531 2532 2533 2534 2535 2536\n",
      " 2537 2538 2539 2540 2541 2542 2543 2544 2545 2546 2547 2548 2549 2550\n",
      " 2551 2552 2553 2554 2555 2556 2557 2558 2559 2560 2561 2562 2563 2564\n",
      " 2565 2566 2567 2568 2569 2570 2571 2572 2573 2574 2575 2576 2577 2578\n",
      " 2579 2580 2581 2582 2583 2584 2585 2586 2587 2588 2589 2590 2591 2592\n",
      " 2593 2594 2595 2596 2597 2598 2599 2600 2601 2602 2603 2604 2605 2606\n",
      " 2607 2608 2609 2610 2611 2612 2613 2614 2615 2616 2617 2618 2619 2620\n",
      " 2621 2622 2623 2624 2625 2626 2627 2628 2629 2630 2631 2632 2633 2634\n",
      " 2635 2636 2637 2638 2639 2640 2641 2642 2643 2644 2645 2646 2647 2648\n",
      " 2649 2650 2651 2652 2653 2654 2655 2656 2657 2658 2659 2660 2661 2662\n",
      " 2663 2664 2665 2666 2667 2668 2669 2670 2671 2672 2673 2674 2675 2676\n",
      " 2677 2678 2679 2680 2681 2682 2683 2684 2685 2686 2687 2688 2689 2690\n",
      " 2691 2692 2693 2694 2695 2696 2697 2698 2699 2700 2701 2702 2703 2704\n",
      " 2705 2706 2707 2708 2709 2710 2711 2712 2713 2714 2715 2716 2717 2718\n",
      " 2719 2720 2721 2722 2723 2724 2725 2726 2727 2728 2729 2730 2731 2732\n",
      " 2733 2734 2735 2736 2737 2738 2739 2740 2741 2742 2743 2744 2745 2746\n",
      " 2747 2748 2749 2750 2751 2752 2753 2754 2755 2756 2757 2758 2759 2760\n",
      " 2761 2762 2763 2764 2765 2766 2767 2768 2769 2770 2771 2772 2773 2774\n",
      " 2775 2776 2777 2778 2779 2780 2781 2782 2783 2784 2785 2786 2787 2788\n",
      " 2789 2790 2791 2792 2793 2794 2795 2796 2797 2798 2799 2800 2801 2802\n",
      " 2803 2804 2805 2806 2807 2808 2809 2810 2811 2812 2813 2814 2815 2816\n",
      " 2817 2818 2819 2820 2821 2822 2823 2824 2825 2826 2827 2828 2829 2830\n",
      " 2831 2832 2833 2834 2835 2836 2837 2838 2839 2840 2841 2842 2843 2844\n",
      " 2845 2846 2847 2848 2849 2850 2851 2852 2853 2854 2855 2856 2857 2858\n",
      " 2859 2860 2861 2862 2863 2864 2865 2866 2867 2868 2869 2870 2871 2872\n",
      " 2873 2874 2875 2876 2877 2878 2879 2880 2881 2882 2883 2884 2885 2886\n",
      " 2887 2888 2889 2890 2891 2892 2893 2894 2895 2896 2897 2898 2899 2900\n",
      " 2901 2902 2903 2904 2905 2906 2907 2908 2909 2910 2911 2912 2913 2914\n",
      " 2915 2916 2917 2918 2919 2920 2921 2922 2923 2924 2925 2926 2927 2928\n",
      " 2929 2930 2931 2932 2933 2934 2935 2936 2937 2938 2939 2940 2941 2942\n",
      " 2943 2944 2945 2946 2947 2948 2949 2950 2951 2952 2953 2954 2955 2956\n",
      " 2957 2958 2959 2960 2961 2962 2963 2964 2965 2966 2967 2968 2969 2970\n",
      " 2971 2972 2973 2974 2975]\n",
      "[   0    1    2 ... 2973 2974 2975] [2976 2977 2978 2979 2980 2981 2982 2983 2984 2985 2986 2987 2988 2989\n",
      " 2990 2991 2992 2993 2994 2995 2996 2997 2998 2999 3000 3001 3002 3003\n",
      " 3004 3005 3006 3007 3008 3009 3010 3011 3012 3013 3014 3015 3016 3017\n",
      " 3018 3019 3020 3021 3022 3023 3024 3025 3026 3027 3028 3029 3030 3031\n",
      " 3032 3033 3034 3035 3036 3037 3038 3039 3040 3041 3042 3043 3044 3045\n",
      " 3046 3047 3048 3049 3050 3051 3052 3053 3054 3055 3056 3057 3058 3059\n",
      " 3060 3061 3062 3063 3064 3065 3066 3067 3068 3069 3070 3071 3072 3073\n",
      " 3074 3075 3076 3077 3078 3079 3080 3081 3082 3083 3084 3085 3086 3087\n",
      " 3088 3089 3090 3091 3092 3093 3094 3095 3096 3097 3098 3099 3100 3101\n",
      " 3102 3103 3104 3105 3106 3107 3108 3109 3110 3111 3112 3113 3114 3115\n",
      " 3116 3117 3118 3119 3120 3121 3122 3123 3124 3125 3126 3127 3128 3129\n",
      " 3130 3131 3132 3133 3134 3135 3136 3137 3138 3139 3140 3141 3142 3143\n",
      " 3144 3145 3146 3147 3148 3149 3150 3151 3152 3153 3154 3155 3156 3157\n",
      " 3158 3159 3160 3161 3162 3163 3164 3165 3166 3167 3168 3169 3170 3171\n",
      " 3172 3173 3174 3175 3176 3177 3178 3179 3180 3181 3182 3183 3184 3185\n",
      " 3186 3187 3188 3189 3190 3191 3192 3193 3194 3195 3196 3197 3198 3199\n",
      " 3200 3201 3202 3203 3204 3205 3206 3207 3208 3209 3210 3211 3212 3213\n",
      " 3214 3215 3216 3217 3218 3219 3220 3221 3222 3223 3224 3225 3226 3227\n",
      " 3228 3229 3230 3231 3232 3233 3234 3235 3236 3237 3238 3239 3240 3241\n",
      " 3242 3243 3244 3245 3246 3247 3248 3249 3250 3251 3252 3253 3254 3255\n",
      " 3256 3257 3258 3259 3260 3261 3262 3263 3264 3265 3266 3267 3268 3269\n",
      " 3270 3271 3272 3273 3274 3275 3276 3277 3278 3279 3280 3281 3282 3283\n",
      " 3284 3285 3286 3287 3288 3289 3290 3291 3292 3293 3294 3295 3296 3297\n",
      " 3298 3299 3300 3301 3302 3303 3304 3305 3306 3307 3308 3309 3310 3311\n",
      " 3312 3313 3314 3315 3316 3317 3318 3319 3320 3321 3322 3323 3324 3325\n",
      " 3326 3327 3328 3329 3330 3331 3332 3333 3334 3335 3336 3337 3338 3339\n",
      " 3340 3341 3342 3343 3344 3345 3346 3347 3348 3349 3350 3351 3352 3353\n",
      " 3354 3355 3356 3357 3358 3359 3360 3361 3362 3363 3364 3365 3366 3367\n",
      " 3368 3369 3370 3371 3372 3373 3374 3375 3376 3377 3378 3379 3380 3381\n",
      " 3382 3383 3384 3385 3386 3387 3388 3389 3390 3391 3392 3393 3394 3395\n",
      " 3396 3397 3398 3399 3400 3401 3402 3403 3404 3405 3406 3407 3408 3409\n",
      " 3410 3411 3412 3413 3414 3415 3416 3417 3418 3419 3420 3421 3422 3423\n",
      " 3424 3425 3426 3427 3428 3429 3430 3431 3432 3433 3434 3435 3436 3437\n",
      " 3438 3439 3440 3441 3442 3443 3444 3445 3446 3447 3448 3449 3450 3451\n",
      " 3452 3453 3454 3455 3456 3457 3458 3459 3460 3461 3462 3463 3464 3465\n",
      " 3466 3467 3468 3469 3470]\n",
      "[   0    1    2 ... 3468 3469 3470] [3471 3472 3473 3474 3475 3476 3477 3478 3479 3480 3481 3482 3483 3484\n",
      " 3485 3486 3487 3488 3489 3490 3491 3492 3493 3494 3495 3496 3497 3498\n",
      " 3499 3500 3501 3502 3503 3504 3505 3506 3507 3508 3509 3510 3511 3512\n",
      " 3513 3514 3515 3516 3517 3518 3519 3520 3521 3522 3523 3524 3525 3526\n",
      " 3527 3528 3529 3530 3531 3532 3533 3534 3535 3536 3537 3538 3539 3540\n",
      " 3541 3542 3543 3544 3545 3546 3547 3548 3549 3550 3551 3552 3553 3554\n",
      " 3555 3556 3557 3558 3559 3560 3561 3562 3563 3564 3565 3566 3567 3568\n",
      " 3569 3570 3571 3572 3573 3574 3575 3576 3577 3578 3579 3580 3581 3582\n",
      " 3583 3584 3585 3586 3587 3588 3589 3590 3591 3592 3593 3594 3595 3596\n",
      " 3597 3598 3599 3600 3601 3602 3603 3604 3605 3606 3607 3608 3609 3610\n",
      " 3611 3612 3613 3614 3615 3616 3617 3618 3619 3620 3621 3622 3623 3624\n",
      " 3625 3626 3627 3628 3629 3630 3631 3632 3633 3634 3635 3636 3637 3638\n",
      " 3639 3640 3641 3642 3643 3644 3645 3646 3647 3648 3649 3650 3651 3652\n",
      " 3653 3654 3655 3656 3657 3658 3659 3660 3661 3662 3663 3664 3665 3666\n",
      " 3667 3668 3669 3670 3671 3672 3673 3674 3675 3676 3677 3678 3679 3680\n",
      " 3681 3682 3683 3684 3685 3686 3687 3688 3689 3690 3691 3692 3693 3694\n",
      " 3695 3696 3697 3698 3699 3700 3701 3702 3703 3704 3705 3706 3707 3708\n",
      " 3709 3710 3711 3712 3713 3714 3715 3716 3717 3718 3719 3720 3721 3722\n",
      " 3723 3724 3725 3726 3727 3728 3729 3730 3731 3732 3733 3734 3735 3736\n",
      " 3737 3738 3739 3740 3741 3742 3743 3744 3745 3746 3747 3748 3749 3750\n",
      " 3751 3752 3753 3754 3755 3756 3757 3758 3759 3760 3761 3762 3763 3764\n",
      " 3765 3766 3767 3768 3769 3770 3771 3772 3773 3774 3775 3776 3777 3778\n",
      " 3779 3780 3781 3782 3783 3784 3785 3786 3787 3788 3789 3790 3791 3792\n",
      " 3793 3794 3795 3796 3797 3798 3799 3800 3801 3802 3803 3804 3805 3806\n",
      " 3807 3808 3809 3810 3811 3812 3813 3814 3815 3816 3817 3818 3819 3820\n",
      " 3821 3822 3823 3824 3825 3826 3827 3828 3829 3830 3831 3832 3833 3834\n",
      " 3835 3836 3837 3838 3839 3840 3841 3842 3843 3844 3845 3846 3847 3848\n",
      " 3849 3850 3851 3852 3853 3854 3855 3856 3857 3858 3859 3860 3861 3862\n",
      " 3863 3864 3865 3866 3867 3868 3869 3870 3871 3872 3873 3874 3875 3876\n",
      " 3877 3878 3879 3880 3881 3882 3883 3884 3885 3886 3887 3888 3889 3890\n",
      " 3891 3892 3893 3894 3895 3896 3897 3898 3899 3900 3901 3902 3903 3904\n",
      " 3905 3906 3907 3908 3909 3910 3911 3912 3913 3914 3915 3916 3917 3918\n",
      " 3919 3920 3921 3922 3923 3924 3925 3926 3927 3928 3929 3930 3931 3932\n",
      " 3933 3934 3935 3936 3937 3938 3939 3940 3941 3942 3943 3944 3945 3946\n",
      " 3947 3948 3949 3950 3951 3952 3953 3954 3955 3956 3957 3958 3959 3960\n",
      " 3961 3962 3963 3964 3965]\n",
      "[   0    1    2 ... 3963 3964 3965] [3966 3967 3968 3969 3970 3971 3972 3973 3974 3975 3976 3977 3978 3979\n",
      " 3980 3981 3982 3983 3984 3985 3986 3987 3988 3989 3990 3991 3992 3993\n",
      " 3994 3995 3996 3997 3998 3999 4000 4001 4002 4003 4004 4005 4006 4007\n",
      " 4008 4009 4010 4011 4012 4013 4014 4015 4016 4017 4018 4019 4020 4021\n",
      " 4022 4023 4024 4025 4026 4027 4028 4029 4030 4031 4032 4033 4034 4035\n",
      " 4036 4037 4038 4039 4040 4041 4042 4043 4044 4045 4046 4047 4048 4049\n",
      " 4050 4051 4052 4053 4054 4055 4056 4057 4058 4059 4060 4061 4062 4063\n",
      " 4064 4065 4066 4067 4068 4069 4070 4071 4072 4073 4074 4075 4076 4077\n",
      " 4078 4079 4080 4081 4082 4083 4084 4085 4086 4087 4088 4089 4090 4091\n",
      " 4092 4093 4094 4095 4096 4097 4098 4099 4100 4101 4102 4103 4104 4105\n",
      " 4106 4107 4108 4109 4110 4111 4112 4113 4114 4115 4116 4117 4118 4119\n",
      " 4120 4121 4122 4123 4124 4125 4126 4127 4128 4129 4130 4131 4132 4133\n",
      " 4134 4135 4136 4137 4138 4139 4140 4141 4142 4143 4144 4145 4146 4147\n",
      " 4148 4149 4150 4151 4152 4153 4154 4155 4156 4157 4158 4159 4160 4161\n",
      " 4162 4163 4164 4165 4166 4167 4168 4169 4170 4171 4172 4173 4174 4175\n",
      " 4176 4177 4178 4179 4180 4181 4182 4183 4184 4185 4186 4187 4188 4189\n",
      " 4190 4191 4192 4193 4194 4195 4196 4197 4198 4199 4200 4201 4202 4203\n",
      " 4204 4205 4206 4207 4208 4209 4210 4211 4212 4213 4214 4215 4216 4217\n",
      " 4218 4219 4220 4221 4222 4223 4224 4225 4226 4227 4228 4229 4230 4231\n",
      " 4232 4233 4234 4235 4236 4237 4238 4239 4240 4241 4242 4243 4244 4245\n",
      " 4246 4247 4248 4249 4250 4251 4252 4253 4254 4255 4256 4257 4258 4259\n",
      " 4260 4261 4262 4263 4264 4265 4266 4267 4268 4269 4270 4271 4272 4273\n",
      " 4274 4275 4276 4277 4278 4279 4280 4281 4282 4283 4284 4285 4286 4287\n",
      " 4288 4289 4290 4291 4292 4293 4294 4295 4296 4297 4298 4299 4300 4301\n",
      " 4302 4303 4304 4305 4306 4307 4308 4309 4310 4311 4312 4313 4314 4315\n",
      " 4316 4317 4318 4319 4320 4321 4322 4323 4324 4325 4326 4327 4328 4329\n",
      " 4330 4331 4332 4333 4334 4335 4336 4337 4338 4339 4340 4341 4342 4343\n",
      " 4344 4345 4346 4347 4348 4349 4350 4351 4352 4353 4354 4355 4356 4357\n",
      " 4358 4359 4360 4361 4362 4363 4364 4365 4366 4367 4368 4369 4370 4371\n",
      " 4372 4373 4374 4375 4376 4377 4378 4379 4380 4381 4382 4383 4384 4385\n",
      " 4386 4387 4388 4389 4390 4391 4392 4393 4394 4395 4396 4397 4398 4399\n",
      " 4400 4401 4402 4403 4404 4405 4406 4407 4408 4409 4410 4411 4412 4413\n",
      " 4414 4415 4416 4417 4418 4419 4420 4421 4422 4423 4424 4425 4426 4427\n",
      " 4428 4429 4430 4431 4432 4433 4434 4435 4436 4437 4438 4439 4440 4441\n",
      " 4442 4443 4444 4445 4446 4447 4448 4449 4450 4451 4452 4453 4454 4455\n",
      " 4456 4457 4458 4459 4460]\n",
      "[   0    1    2 ... 4458 4459 4460] [4461 4462 4463 4464 4465 4466 4467 4468 4469 4470 4471 4472 4473 4474\n",
      " 4475 4476 4477 4478 4479 4480 4481 4482 4483 4484 4485 4486 4487 4488\n",
      " 4489 4490 4491 4492 4493 4494 4495 4496 4497 4498 4499 4500 4501 4502\n",
      " 4503 4504 4505 4506 4507 4508 4509 4510 4511 4512 4513 4514 4515 4516\n",
      " 4517 4518 4519 4520 4521 4522 4523 4524 4525 4526 4527 4528 4529 4530\n",
      " 4531 4532 4533 4534 4535 4536 4537 4538 4539 4540 4541 4542 4543 4544\n",
      " 4545 4546 4547 4548 4549 4550 4551 4552 4553 4554 4555 4556 4557 4558\n",
      " 4559 4560 4561 4562 4563 4564 4565 4566 4567 4568 4569 4570 4571 4572\n",
      " 4573 4574 4575 4576 4577 4578 4579 4580 4581 4582 4583 4584 4585 4586\n",
      " 4587 4588 4589 4590 4591 4592 4593 4594 4595 4596 4597 4598 4599 4600\n",
      " 4601 4602 4603 4604 4605 4606 4607 4608 4609 4610 4611 4612 4613 4614\n",
      " 4615 4616 4617 4618 4619 4620 4621 4622 4623 4624 4625 4626 4627 4628\n",
      " 4629 4630 4631 4632 4633 4634 4635 4636 4637 4638 4639 4640 4641 4642\n",
      " 4643 4644 4645 4646 4647 4648 4649 4650 4651 4652 4653 4654 4655 4656\n",
      " 4657 4658 4659 4660 4661 4662 4663 4664 4665 4666 4667 4668 4669 4670\n",
      " 4671 4672 4673 4674 4675 4676 4677 4678 4679 4680 4681 4682 4683 4684\n",
      " 4685 4686 4687 4688 4689 4690 4691 4692 4693 4694 4695 4696 4697 4698\n",
      " 4699 4700 4701 4702 4703 4704 4705 4706 4707 4708 4709 4710 4711 4712\n",
      " 4713 4714 4715 4716 4717 4718 4719 4720 4721 4722 4723 4724 4725 4726\n",
      " 4727 4728 4729 4730 4731 4732 4733 4734 4735 4736 4737 4738 4739 4740\n",
      " 4741 4742 4743 4744 4745 4746 4747 4748 4749 4750 4751 4752 4753 4754\n",
      " 4755 4756 4757 4758 4759 4760 4761 4762 4763 4764 4765 4766 4767 4768\n",
      " 4769 4770 4771 4772 4773 4774 4775 4776 4777 4778 4779 4780 4781 4782\n",
      " 4783 4784 4785 4786 4787 4788 4789 4790 4791 4792 4793 4794 4795 4796\n",
      " 4797 4798 4799 4800 4801 4802 4803 4804 4805 4806 4807 4808 4809 4810\n",
      " 4811 4812 4813 4814 4815 4816 4817 4818 4819 4820 4821 4822 4823 4824\n",
      " 4825 4826 4827 4828 4829 4830 4831 4832 4833 4834 4835 4836 4837 4838\n",
      " 4839 4840 4841 4842 4843 4844 4845 4846 4847 4848 4849 4850 4851 4852\n",
      " 4853 4854 4855 4856 4857 4858 4859 4860 4861 4862 4863 4864 4865 4866\n",
      " 4867 4868 4869 4870 4871 4872 4873 4874 4875 4876 4877 4878 4879 4880\n",
      " 4881 4882 4883 4884 4885 4886 4887 4888 4889 4890 4891 4892 4893 4894\n",
      " 4895 4896 4897 4898 4899 4900 4901 4902 4903 4904 4905 4906 4907 4908\n",
      " 4909 4910 4911 4912 4913 4914 4915 4916 4917 4918 4919 4920 4921 4922\n",
      " 4923 4924 4925 4926 4927 4928 4929 4930 4931 4932 4933 4934 4935 4936\n",
      " 4937 4938 4939 4940 4941 4942 4943 4944 4945 4946 4947 4948 4949 4950\n",
      " 4951 4952 4953 4954 4955]\n",
      "[   0    1    2 ... 4953 4954 4955] [4956 4957 4958 4959 4960 4961 4962 4963 4964 4965 4966 4967 4968 4969\n",
      " 4970 4971 4972 4973 4974 4975 4976 4977 4978 4979 4980 4981 4982 4983\n",
      " 4984 4985 4986 4987 4988 4989 4990 4991 4992 4993 4994 4995 4996 4997\n",
      " 4998 4999 5000 5001 5002 5003 5004 5005 5006 5007 5008 5009 5010 5011\n",
      " 5012 5013 5014 5015 5016 5017 5018 5019 5020 5021 5022 5023 5024 5025\n",
      " 5026 5027 5028 5029 5030 5031 5032 5033 5034 5035 5036 5037 5038 5039\n",
      " 5040 5041 5042 5043 5044 5045 5046 5047 5048 5049 5050 5051 5052 5053\n",
      " 5054 5055 5056 5057 5058 5059 5060 5061 5062 5063 5064 5065 5066 5067\n",
      " 5068 5069 5070 5071 5072 5073 5074 5075 5076 5077 5078 5079 5080 5081\n",
      " 5082 5083 5084 5085 5086 5087 5088 5089 5090 5091 5092 5093 5094 5095\n",
      " 5096 5097 5098 5099 5100 5101 5102 5103 5104 5105 5106 5107 5108 5109\n",
      " 5110 5111 5112 5113 5114 5115 5116 5117 5118 5119 5120 5121 5122 5123\n",
      " 5124 5125 5126 5127 5128 5129 5130 5131 5132 5133 5134 5135 5136 5137\n",
      " 5138 5139 5140 5141 5142 5143 5144 5145 5146 5147 5148 5149 5150 5151\n",
      " 5152 5153 5154 5155 5156 5157 5158 5159 5160 5161 5162 5163 5164 5165\n",
      " 5166 5167 5168 5169 5170 5171 5172 5173 5174 5175 5176 5177 5178 5179\n",
      " 5180 5181 5182 5183 5184 5185 5186 5187 5188 5189 5190 5191 5192 5193\n",
      " 5194 5195 5196 5197 5198 5199 5200 5201 5202 5203 5204 5205 5206 5207\n",
      " 5208 5209 5210 5211 5212 5213 5214 5215 5216 5217 5218 5219 5220 5221\n",
      " 5222 5223 5224 5225 5226 5227 5228 5229 5230 5231 5232 5233 5234 5235\n",
      " 5236 5237 5238 5239 5240 5241 5242 5243 5244 5245 5246 5247 5248 5249\n",
      " 5250 5251 5252 5253 5254 5255 5256 5257 5258 5259 5260 5261 5262 5263\n",
      " 5264 5265 5266 5267 5268 5269 5270 5271 5272 5273 5274 5275 5276 5277\n",
      " 5278 5279 5280 5281 5282 5283 5284 5285 5286 5287 5288 5289 5290 5291\n",
      " 5292 5293 5294 5295 5296 5297 5298 5299 5300 5301 5302 5303 5304 5305\n",
      " 5306 5307 5308 5309 5310 5311 5312 5313 5314 5315 5316 5317 5318 5319\n",
      " 5320 5321 5322 5323 5324 5325 5326 5327 5328 5329 5330 5331 5332 5333\n",
      " 5334 5335 5336 5337 5338 5339 5340 5341 5342 5343 5344 5345 5346 5347\n",
      " 5348 5349 5350 5351 5352 5353 5354 5355 5356 5357 5358 5359 5360 5361\n",
      " 5362 5363 5364 5365 5366 5367 5368 5369 5370 5371 5372 5373 5374 5375\n",
      " 5376 5377 5378 5379 5380 5381 5382 5383 5384 5385 5386 5387 5388 5389\n",
      " 5390 5391 5392 5393 5394 5395 5396 5397 5398 5399 5400 5401 5402 5403\n",
      " 5404 5405 5406 5407 5408 5409 5410 5411 5412 5413 5414 5415 5416 5417\n",
      " 5418 5419 5420 5421 5422 5423 5424 5425 5426 5427 5428 5429 5430 5431\n",
      " 5432 5433 5434 5435 5436 5437 5438 5439 5440 5441 5442 5443 5444 5445\n",
      " 5446 5447 5448 5449 5450]\n"
     ]
    }
   ],
   "source": [
    "#To show how Time Series Split splits the data\n",
    "from sklearn.model_selection import TimeSeriesSplit\n",
    "tscv = TimeSeriesSplit(n_splits=10)\n",
    "for train, cv in tscv.split(x_tr_final_counts_bigram):\n",
    "    print(\"%s %s\" % (train, cv))\n",
    "#    print(x_tr_final_counts_bigram[train].shape,x_tr_final_counts_bigram[cv].shape)"
   ]
  },
  {
   "cell_type": "markdown",
   "metadata": {},
   "source": [
    "### Applying Logistic Regression with L1 regularization on BOW,<font color='red'> SET 1</font>"
   ]
  },
  {
   "cell_type": "code",
   "execution_count": 41,
   "metadata": {},
   "outputs": [
    {
     "name": "stdout",
     "output_type": "stream",
     "text": [
      "Fitting 10 folds for each of 10 candidates, totalling 100 fits\n"
     ]
    },
    {
     "name": "stderr",
     "output_type": "stream",
     "text": [
      "[Parallel(n_jobs=1)]: Using backend SequentialBackend with 1 concurrent workers.\n",
      "C:\\Users\\hemant\\AnacondaNew\\lib\\site-packages\\sklearn\\svm\\_base.py:947: ConvergenceWarning: Liblinear failed to converge, increase the number of iterations.\n",
      "  \"the number of iterations.\", ConvergenceWarning)\n",
      "C:\\Users\\hemant\\AnacondaNew\\lib\\site-packages\\sklearn\\svm\\_base.py:947: ConvergenceWarning: Liblinear failed to converge, increase the number of iterations.\n",
      "  \"the number of iterations.\", ConvergenceWarning)\n",
      "C:\\Users\\hemant\\AnacondaNew\\lib\\site-packages\\sklearn\\svm\\_base.py:947: ConvergenceWarning: Liblinear failed to converge, increase the number of iterations.\n",
      "  \"the number of iterations.\", ConvergenceWarning)\n",
      "[Parallel(n_jobs=1)]: Done 100 out of 100 | elapsed:  3.0min finished\n"
     ]
    },
    {
     "name": "stdout",
     "output_type": "stream",
     "text": [
      "Best C is:- 10.0\n"
     ]
    },
    {
     "data": {
      "image/png": "[encoded data removed]",
      "text/plain": [
       "<Figure size 432x288 with 1 Axes>"
      ]
     },
     "metadata": {
      "needs_background": "light"
     },
     "output_type": "display_data"
    }
   ],
   "source": [
    "# Please write all the code with proper documentation\n",
    "from sklearn.linear_model import LogisticRegression\n",
    "from sklearn.metrics import f1_score\n",
    "from sklearn.metrics import roc_auc_score\n",
    "from sklearn.metrics import accuracy_score\n",
    "from math import log\n",
    "from sklearn.model_selection import RandomizedSearchCV\n",
    "from sklearn.model_selection import GridSearchCV\n",
    "\n",
    "alpha_values = np.arange(10)\n",
    "C = np.array([0.0001,0.001,0.01,0.1,1,10,100,500,1000,10000])\n",
    "cv_auc = []\n",
    "train_auc = []\n",
    "\n",
    "\n",
    "neigh = LogisticRegression(penalty='l1',solver='liblinear')\n",
    "#params we need to try on classifier\n",
    "param_grid = {'C':[0.0001,0.001,0.01,0.1,1,10,100,500,1000,10000],\n",
    "             'penalty':['l1'],'class_weight':['balanced']} \n",
    "tscv = TimeSeriesSplit(n_splits=10) #For time based splitting\n",
    "clf = RandomizedSearchCV(neigh,param_grid,cv=tscv,verbose=1,return_train_score=True)\n",
    "clf.fit(x_tr_final_counts_bigram,y_train)\n",
    "\n",
    "\n",
    "train_auc= clf.cv_results_['mean_train_score']\n",
    "train_auc_std= clf.cv_results_['std_train_score']\n",
    "cv_auc = clf.cv_results_['mean_test_score'] \n",
    "cv_auc_std= clf.cv_results_['std_test_score']\n",
    "\n",
    "\n",
    "\n",
    "d = max(cv_auc)\n",
    "\n",
    "i = np.where(cv_auc == d)\n",
    "\n",
    "i = i[0][0]\n",
    "best_alpha = float(C[i])\n",
    "print(\"Best C is:-\",best_alpha)     \n",
    "    \n",
    "    \n",
    "C = np.log(C)    \n",
    "    \n",
    "plt.plot(C, train_auc, label='Train AUC')\n",
    "plt.plot(C, cv_auc, label='CV AUC')\n",
    "plt.legend()\n",
    "plt.xlabel(\"C: hyperparameter\")\n",
    "plt.ylabel(\"AUC\")\n",
    "plt.title(\"Performance PLOT\")\n",
    "plt.show()"
   ]
  },
  {
   "cell_type": "code",
   "execution_count": 42,
   "metadata": {},
   "outputs": [
    {
     "name": "stdout",
     "output_type": "stream",
     "text": [
      "\n",
      "The AUC of the Logistic Regression classifier of best C = 10.000000 is 95.623066%\n"
     ]
    }
   ],
   "source": [
    "# LogisticRegression with best best \"C\" for l1 penalty of bow\n",
    "model = LogisticRegression(penalty='l1',C = best_alpha,class_weight='balanced',solver='liblinear')\n",
    "model.fit(x_tr_final_counts_bigram,y_train)\n",
    "#pred = model.predict_proba(x_ts_final_counts_bigram)\n",
    "pred=model.predict(x_ts_final_counts_bigram)    \n",
    "    # evaluate CV AUC\n",
    "auc_score_bowT_l1 = roc_auc_score(y_true=np.array(y_ts), y_score=model.predict_proba(x_ts_final_counts_bigram)[:,1])*100\n",
    "auc_score_bowT_lambda_l1 = best_alpha\n",
    "print('\\nThe AUC of the Logistic Regression classifier of best C = %f is %f%%' % (best_alpha, auc_score_bowT_l1))    "
   ]
  },
  {
   "cell_type": "code",
   "execution_count": 43,
   "metadata": {},
   "outputs": [
    {
     "data": {
      "text/plain": [
       "<matplotlib.axes._subplots.AxesSubplot at 0xfe99f7a8d0>"
      ]
     },
     "execution_count": 43,
     "metadata": {},
     "output_type": "execute_result"
    },
    {
     "data": {
      "image/png": "[encoded data removed]",
      "text/plain": [
       "<Figure size 432x288 with 2 Axes>"
      ]
     },
     "metadata": {
      "needs_background": "light"
     },
     "output_type": "display_data"
    }
   ],
   "source": [
    "import scikitplot.metrics as skplt\n",
    "skplt.plot_confusion_matrix(y_ts ,pred)\n"
   ]
  },
  {
   "cell_type": "code",
   "execution_count": 44,
   "metadata": {},
   "outputs": [
    {
     "data": {
      "image/png": "[encoded data removed]",
      "text/plain": [
       "<Figure size 432x288 with 1 Axes>"
      ]
     },
     "metadata": {
      "needs_background": "light"
     },
     "output_type": "display_data"
    }
   ],
   "source": [
    "from sklearn.metrics import roc_curve, auc\n",
    "\n",
    "train_fpr, train_tpr, thresholds = roc_curve(y_train, model.predict_proba(x_tr_final_counts_bigram)[:,1])\n",
    "test_fpr, test_tpr, thresholds = roc_curve(y_ts, model.predict_proba(x_ts_final_counts_bigram)[:,1])\n",
    "\n",
    "plt.plot(train_fpr, train_tpr, label=\"train AUC =\"+str(auc(train_fpr, train_tpr)))\n",
    "plt.plot(test_fpr, test_tpr, label=\"test AUC =\"+str(auc(test_fpr, test_tpr)))\n",
    "plt.legend()\n",
    "plt.xlabel(\"C: hyperparameter\")\n",
    "plt.ylabel(\"AUC\")\n",
    "plt.title(\"ROC_Curve PLOT\")\n",
    "plt.show()\n",
    "\n",
    "\n"
   ]
  },
  {
   "cell_type": "code",
   "execution_count": 45,
   "metadata": {},
   "outputs": [
    {
     "name": "stdout",
     "output_type": "stream",
     "text": [
      "              precision    recall  f1-score   support\n",
      "\n",
      "           0       0.65      0.91      0.76       404\n",
      "           1       0.98      0.91      0.95      2281\n",
      "\n",
      "    accuracy                           0.91      2685\n",
      "   macro avg       0.82      0.91      0.85      2685\n",
      "weighted avg       0.93      0.91      0.92      2685\n",
      "\n"
     ]
    }
   ],
   "source": [
    "#classification report\n",
    "from sklearn.metrics import classification_report\n",
    "print(classification_report(y_ts, pred))"
   ]
  },
  {
   "cell_type": "markdown",
   "metadata": {},
   "source": [
    "False Positive rate --> when it is actually -ve, how often does it predicted +ve = fp/actual-ve = 38/404 = .09"
   ]
  },
  {
   "cell_type": "code",
   "execution_count": 102,
   "metadata": {},
   "outputs": [],
   "source": [
    "# FPR for bowt_l1\n",
    "bowt_FPR_l1 = .09"
   ]
  },
  {
   "cell_type": "markdown",
   "metadata": {},
   "source": [
    "### Applying Logistic Regression with L2 regularization on BOW,<font color='red'> SET 1</font>"
   ]
  },
  {
   "cell_type": "code",
   "execution_count": 47,
   "metadata": {},
   "outputs": [
    {
     "name": "stdout",
     "output_type": "stream",
     "text": [
      "Fitting 10 folds for each of 10 candidates, totalling 100 fits\n"
     ]
    },
    {
     "name": "stderr",
     "output_type": "stream",
     "text": [
      "[Parallel(n_jobs=1)]: Using backend SequentialBackend with 1 concurrent workers.\n",
      "[Parallel(n_jobs=1)]: Done 100 out of 100 | elapsed:    8.0s finished\n"
     ]
    },
    {
     "name": "stdout",
     "output_type": "stream",
     "text": [
      "Best C is:- 100.0\n"
     ]
    },
    {
     "data": {
      "image/png": "[encoded data removed]",
      "text/plain": [
       "<Figure size 432x288 with 1 Axes>"
      ]
     },
     "metadata": {
      "needs_background": "light"
     },
     "output_type": "display_data"
    }
   ],
   "source": [
    "# Please write all the code with proper documentation\n",
    "from sklearn.linear_model import LogisticRegression\n",
    "from sklearn.metrics import f1_score\n",
    "from sklearn.metrics import roc_auc_score\n",
    "from sklearn.metrics import accuracy_score\n",
    "from math import log\n",
    "from sklearn.model_selection import RandomizedSearchCV\n",
    "from sklearn.model_selection import GridSearchCV\n",
    "\n",
    "alpha_values = np.arange(10)\n",
    "C = np.array([0.0001,0.001,0.01,0.1,1,10,100,500,1000,10000])\n",
    "cv_auc = []\n",
    "train_auc = []\n",
    "\n",
    "\n",
    "neigh = LogisticRegression(solver='liblinear')\n",
    "#params we need to try on classifier\n",
    "param_grid = {'C':[0.0001,0.001,0.01,0.1,1,10,100,500,1000,10000],\n",
    "             'penalty':['l2'],'class_weight':['balanced']} \n",
    "tscv = TimeSeriesSplit(n_splits=10) #For time based splitting\n",
    "clf = RandomizedSearchCV(neigh,param_grid,cv=tscv,verbose=1,return_train_score=True)\n",
    "clf.fit(x_tr_final_counts_bigram,y_train)\n",
    "\n",
    "\n",
    "train_auc= clf.cv_results_['mean_train_score']\n",
    "train_auc_std= clf.cv_results_['std_train_score']\n",
    "cv_auc = clf.cv_results_['mean_test_score'] \n",
    "cv_auc_std= clf.cv_results_['std_test_score']\n",
    "\n",
    "\n",
    "\n",
    "d = max(cv_auc)\n",
    "\n",
    "i = np.where(cv_auc == d)\n",
    "\n",
    "i = i[0][0]\n",
    "best_alpha = float(C[i])\n",
    "print(\"Best C is:-\",best_alpha)     \n",
    "    \n",
    "    \n",
    "C = np.log(C)    \n",
    "    \n",
    "plt.plot(C, train_auc, label='Train AUC')\n",
    "plt.plot(C, cv_auc, label='CV AUC')\n",
    "plt.legend()\n",
    "plt.xlabel(\"C: hyperparameter\")\n",
    "plt.ylabel(\"AUC\")\n",
    "plt.title(\"Performance PLOT\")\n",
    "plt.show()"
   ]
  },
  {
   "cell_type": "code",
   "execution_count": 48,
   "metadata": {},
   "outputs": [
    {
     "name": "stdout",
     "output_type": "stream",
     "text": [
      "\n",
      "The AUC of the Logistic Regression classifier of best C = 100.000000 is 95.695880%\n"
     ]
    },
    {
     "name": "stderr",
     "output_type": "stream",
     "text": [
      "C:\\Users\\hemant\\AnacondaNew\\lib\\site-packages\\sklearn\\linear_model\\_logistic.py:939: ConvergenceWarning: lbfgs failed to converge (status=1):\n",
      "STOP: TOTAL NO. of ITERATIONS REACHED LIMIT.\n",
      "\n",
      "Increase the number of iterations (max_iter) or scale the data as shown in:\n",
      "    https://scikit-learn.org/stable/modules/preprocessing.html.\n",
      "Please also refer to the documentation for alternative solver options:\n",
      "    https://scikit-learn.org/stable/modules/linear_model.html#logistic-regression\n",
      "  extra_warning_msg=_LOGISTIC_SOLVER_CONVERGENCE_MSG)\n"
     ]
    }
   ],
   "source": [
    "# LogisticRegression with best best \"C\" for l2 penalty of bow\n",
    "model = LogisticRegression(penalty='l2',C = best_alpha,class_weight='balanced')\n",
    "model.fit(x_tr_final_counts_bigram,y_train)\n",
    "#pred = model.predict_proba(x_ts_final_counts_bigram)\n",
    "pred=model.predict(x_ts_final_counts_bigram)    \n",
    "    # evaluate CV AUC\n",
    "auc_score_bowT_l2 = roc_auc_score(y_true=np.array(y_ts), y_score=model.predict_proba(x_ts_final_counts_bigram)[:,1])*100\n",
    "auc_score_bowT_lambda_l2 = best_alpha\n",
    "print('\\nThe AUC of the Logistic Regression classifier of best C = %f is %f%%' % (best_alpha, auc_score_bowT_l2))    "
   ]
  },
  {
   "cell_type": "code",
   "execution_count": 49,
   "metadata": {},
   "outputs": [
    {
     "data": {
      "text/plain": [
       "<matplotlib.axes._subplots.AxesSubplot at 0xfe9a0ae3c8>"
      ]
     },
     "execution_count": 49,
     "metadata": {},
     "output_type": "execute_result"
    },
    {
     "data": {
      "image/png": "[encoded data removed]",
      "text/plain": [
       "<Figure size 432x288 with 2 Axes>"
      ]
     },
     "metadata": {
      "needs_background": "light"
     },
     "output_type": "display_data"
    }
   ],
   "source": [
    "import scikitplot.metrics as skplt\n",
    "skplt.plot_confusion_matrix(y_ts ,pred)\n"
   ]
  },
  {
   "cell_type": "code",
   "execution_count": 50,
   "metadata": {},
   "outputs": [
    {
     "data": {
      "image/png": "[encoded data removed]",
      "text/plain": [
       "<Figure size 432x288 with 1 Axes>"
      ]
     },
     "metadata": {
      "needs_background": "light"
     },
     "output_type": "display_data"
    }
   ],
   "source": [
    "from sklearn.metrics import roc_curve, auc\n",
    "\n",
    "train_fpr, train_tpr, thresholds = roc_curve(y_train, model.predict_proba(x_tr_final_counts_bigram)[:,1])\n",
    "test_fpr, test_tpr, thresholds = roc_curve(y_ts, model.predict_proba(x_ts_final_counts_bigram)[:,1])\n",
    "\n",
    "plt.plot(train_fpr, train_tpr, label=\"train AUC =\"+str(auc(train_fpr, train_tpr)))\n",
    "plt.plot(test_fpr, test_tpr, label=\"test AUC =\"+str(auc(test_fpr, test_tpr)))\n",
    "plt.legend()\n",
    "plt.xlabel(\"C: hyperparameter\")\n",
    "plt.ylabel(\"AUC\")\n",
    "plt.title(\"ROC_Curve PLOTS\")\n",
    "plt.show()\n",
    "\n",
    "\n"
   ]
  },
  {
   "cell_type": "code",
   "execution_count": 51,
   "metadata": {},
   "outputs": [
    {
     "name": "stdout",
     "output_type": "stream",
     "text": [
      "              precision    recall  f1-score   support\n",
      "\n",
      "           0       0.65      0.90      0.76       404\n",
      "           1       0.98      0.91      0.95      2281\n",
      "\n",
      "    accuracy                           0.91      2685\n",
      "   macro avg       0.82      0.91      0.85      2685\n",
      "weighted avg       0.93      0.91      0.92      2685\n",
      "\n"
     ]
    }
   ],
   "source": [
    "#classification report\n",
    "from sklearn.metrics import classification_report\n",
    "print(classification_report(y_ts, pred))"
   ]
  },
  {
   "cell_type": "markdown",
   "metadata": {},
   "source": [
    "False Positive rate --> when it is actually -ve, how often does it predicted +ve = fp/actual-ve = 39/404 = 0.09"
   ]
  },
  {
   "cell_type": "code",
   "execution_count": 94,
   "metadata": {},
   "outputs": [],
   "source": [
    "# FPR for bowt_l2\n",
    "bowt_FPR_l2 = .09"
   ]
  },
  {
   "cell_type": "markdown",
   "metadata": {},
   "source": [
    "### Applying Logistic Regression with L1 regularization on TFIDF,<font color='red'> SET 2</font>"
   ]
  },
  {
   "cell_type": "code",
   "execution_count": 53,
   "metadata": {},
   "outputs": [
    {
     "name": "stdout",
     "output_type": "stream",
     "text": [
      "[  0   1   2   3   4   5   6   7   8   9  10  11  12  13  14  15  16  17\n",
      "  18  19  20  21  22  23  24  25  26  27  28  29  30  31  32  33  34  35\n",
      "  36  37  38  39  40  41  42  43  44  45  46  47  48  49  50  51  52  53\n",
      "  54  55  56  57  58  59  60  61  62  63  64  65  66  67  68  69  70  71\n",
      "  72  73  74  75  76  77  78  79  80  81  82  83  84  85  86  87  88  89\n",
      "  90  91  92  93  94  95  96  97  98  99 100 101 102 103 104 105 106 107\n",
      " 108 109 110 111 112 113 114 115 116 117 118 119 120 121 122 123 124 125\n",
      " 126 127 128 129 130 131 132 133 134 135 136 137 138 139 140 141 142 143\n",
      " 144 145 146 147 148 149 150 151 152 153 154 155 156 157 158 159 160 161\n",
      " 162 163 164 165 166 167 168 169 170 171 172 173 174 175 176 177 178 179\n",
      " 180 181 182 183 184 185 186 187 188 189 190 191 192 193 194 195 196 197\n",
      " 198 199 200 201 202 203 204 205 206 207 208 209 210 211 212 213 214 215\n",
      " 216 217 218 219 220 221 222 223 224 225 226 227 228 229 230 231 232 233\n",
      " 234 235 236 237 238 239 240 241 242 243 244 245 246 247 248 249 250 251\n",
      " 252 253 254 255 256 257 258 259 260 261 262 263 264 265 266 267 268 269\n",
      " 270 271 272 273 274 275 276 277 278 279 280 281 282 283 284 285 286 287\n",
      " 288 289 290 291 292 293 294 295 296 297 298 299 300 301 302 303 304 305\n",
      " 306 307 308 309 310 311 312 313 314 315 316 317 318 319 320 321 322 323\n",
      " 324 325 326 327 328 329 330 331 332 333 334 335 336 337 338 339 340 341\n",
      " 342 343 344 345 346 347 348 349 350 351 352 353 354 355 356 357 358 359\n",
      " 360 361 362 363 364 365 366 367 368 369 370 371 372 373 374 375 376 377\n",
      " 378 379 380 381 382 383 384 385 386 387 388 389 390 391 392 393 394 395\n",
      " 396 397 398 399 400 401 402 403 404 405 406 407 408 409 410 411 412 413\n",
      " 414 415 416 417 418 419 420 421 422 423 424 425 426 427 428 429 430 431\n",
      " 432 433 434 435 436 437 438 439 440 441 442 443 444 445 446 447 448 449\n",
      " 450 451 452 453 454 455 456 457 458 459 460 461 462 463 464 465 466 467\n",
      " 468 469 470 471 472 473 474 475 476 477 478 479 480 481 482 483 484 485\n",
      " 486 487 488 489 490 491 492 493 494 495 496 497 498 499 500] [501 502 503 504 505 506 507 508 509 510 511 512 513 514 515 516 517 518\n",
      " 519 520 521 522 523 524 525 526 527 528 529 530 531 532 533 534 535 536\n",
      " 537 538 539 540 541 542 543 544 545 546 547 548 549 550 551 552 553 554\n",
      " 555 556 557 558 559 560 561 562 563 564 565 566 567 568 569 570 571 572\n",
      " 573 574 575 576 577 578 579 580 581 582 583 584 585 586 587 588 589 590\n",
      " 591 592 593 594 595 596 597 598 599 600 601 602 603 604 605 606 607 608\n",
      " 609 610 611 612 613 614 615 616 617 618 619 620 621 622 623 624 625 626\n",
      " 627 628 629 630 631 632 633 634 635 636 637 638 639 640 641 642 643 644\n",
      " 645 646 647 648 649 650 651 652 653 654 655 656 657 658 659 660 661 662\n",
      " 663 664 665 666 667 668 669 670 671 672 673 674 675 676 677 678 679 680\n",
      " 681 682 683 684 685 686 687 688 689 690 691 692 693 694 695 696 697 698\n",
      " 699 700 701 702 703 704 705 706 707 708 709 710 711 712 713 714 715 716\n",
      " 717 718 719 720 721 722 723 724 725 726 727 728 729 730 731 732 733 734\n",
      " 735 736 737 738 739 740 741 742 743 744 745 746 747 748 749 750 751 752\n",
      " 753 754 755 756 757 758 759 760 761 762 763 764 765 766 767 768 769 770\n",
      " 771 772 773 774 775 776 777 778 779 780 781 782 783 784 785 786 787 788\n",
      " 789 790 791 792 793 794 795 796 797 798 799 800 801 802 803 804 805 806\n",
      " 807 808 809 810 811 812 813 814 815 816 817 818 819 820 821 822 823 824\n",
      " 825 826 827 828 829 830 831 832 833 834 835 836 837 838 839 840 841 842\n",
      " 843 844 845 846 847 848 849 850 851 852 853 854 855 856 857 858 859 860\n",
      " 861 862 863 864 865 866 867 868 869 870 871 872 873 874 875 876 877 878\n",
      " 879 880 881 882 883 884 885 886 887 888 889 890 891 892 893 894 895 896\n",
      " 897 898 899 900 901 902 903 904 905 906 907 908 909 910 911 912 913 914\n",
      " 915 916 917 918 919 920 921 922 923 924 925 926 927 928 929 930 931 932\n",
      " 933 934 935 936 937 938 939 940 941 942 943 944 945 946 947 948 949 950\n",
      " 951 952 953 954 955 956 957 958 959 960 961 962 963 964 965 966 967 968\n",
      " 969 970 971 972 973 974 975 976 977 978 979 980 981 982 983 984 985 986\n",
      " 987 988 989 990 991 992 993 994 995]\n",
      "[  0   1   2   3   4   5   6   7   8   9  10  11  12  13  14  15  16  17\n",
      "  18  19  20  21  22  23  24  25  26  27  28  29  30  31  32  33  34  35\n",
      "  36  37  38  39  40  41  42  43  44  45  46  47  48  49  50  51  52  53\n",
      "  54  55  56  57  58  59  60  61  62  63  64  65  66  67  68  69  70  71\n",
      "  72  73  74  75  76  77  78  79  80  81  82  83  84  85  86  87  88  89\n",
      "  90  91  92  93  94  95  96  97  98  99 100 101 102 103 104 105 106 107\n",
      " 108 109 110 111 112 113 114 115 116 117 118 119 120 121 122 123 124 125\n",
      " 126 127 128 129 130 131 132 133 134 135 136 137 138 139 140 141 142 143\n",
      " 144 145 146 147 148 149 150 151 152 153 154 155 156 157 158 159 160 161\n",
      " 162 163 164 165 166 167 168 169 170 171 172 173 174 175 176 177 178 179\n",
      " 180 181 182 183 184 185 186 187 188 189 190 191 192 193 194 195 196 197\n",
      " 198 199 200 201 202 203 204 205 206 207 208 209 210 211 212 213 214 215\n",
      " 216 217 218 219 220 221 222 223 224 225 226 227 228 229 230 231 232 233\n",
      " 234 235 236 237 238 239 240 241 242 243 244 245 246 247 248 249 250 251\n",
      " 252 253 254 255 256 257 258 259 260 261 262 263 264 265 266 267 268 269\n",
      " 270 271 272 273 274 275 276 277 278 279 280 281 282 283 284 285 286 287\n",
      " 288 289 290 291 292 293 294 295 296 297 298 299 300 301 302 303 304 305\n",
      " 306 307 308 309 310 311 312 313 314 315 316 317 318 319 320 321 322 323\n",
      " 324 325 326 327 328 329 330 331 332 333 334 335 336 337 338 339 340 341\n",
      " 342 343 344 345 346 347 348 349 350 351 352 353 354 355 356 357 358 359\n",
      " 360 361 362 363 364 365 366 367 368 369 370 371 372 373 374 375 376 377\n",
      " 378 379 380 381 382 383 384 385 386 387 388 389 390 391 392 393 394 395\n",
      " 396 397 398 399 400 401 402 403 404 405 406 407 408 409 410 411 412 413\n",
      " 414 415 416 417 418 419 420 421 422 423 424 425 426 427 428 429 430 431\n",
      " 432 433 434 435 436 437 438 439 440 441 442 443 444 445 446 447 448 449\n",
      " 450 451 452 453 454 455 456 457 458 459 460 461 462 463 464 465 466 467\n",
      " 468 469 470 471 472 473 474 475 476 477 478 479 480 481 482 483 484 485\n",
      " 486 487 488 489 490 491 492 493 494 495 496 497 498 499 500 501 502 503\n",
      " 504 505 506 507 508 509 510 511 512 513 514 515 516 517 518 519 520 521\n",
      " 522 523 524 525 526 527 528 529 530 531 532 533 534 535 536 537 538 539\n",
      " 540 541 542 543 544 545 546 547 548 549 550 551 552 553 554 555 556 557\n",
      " 558 559 560 561 562 563 564 565 566 567 568 569 570 571 572 573 574 575\n",
      " 576 577 578 579 580 581 582 583 584 585 586 587 588 589 590 591 592 593\n",
      " 594 595 596 597 598 599 600 601 602 603 604 605 606 607 608 609 610 611\n",
      " 612 613 614 615 616 617 618 619 620 621 622 623 624 625 626 627 628 629\n",
      " 630 631 632 633 634 635 636 637 638 639 640 641 642 643 644 645 646 647\n",
      " 648 649 650 651 652 653 654 655 656 657 658 659 660 661 662 663 664 665\n",
      " 666 667 668 669 670 671 672 673 674 675 676 677 678 679 680 681 682 683\n",
      " 684 685 686 687 688 689 690 691 692 693 694 695 696 697 698 699 700 701\n",
      " 702 703 704 705 706 707 708 709 710 711 712 713 714 715 716 717 718 719\n",
      " 720 721 722 723 724 725 726 727 728 729 730 731 732 733 734 735 736 737\n",
      " 738 739 740 741 742 743 744 745 746 747 748 749 750 751 752 753 754 755\n",
      " 756 757 758 759 760 761 762 763 764 765 766 767 768 769 770 771 772 773\n",
      " 774 775 776 777 778 779 780 781 782 783 784 785 786 787 788 789 790 791\n",
      " 792 793 794 795 796 797 798 799 800 801 802 803 804 805 806 807 808 809\n",
      " 810 811 812 813 814 815 816 817 818 819 820 821 822 823 824 825 826 827\n",
      " 828 829 830 831 832 833 834 835 836 837 838 839 840 841 842 843 844 845\n",
      " 846 847 848 849 850 851 852 853 854 855 856 857 858 859 860 861 862 863\n",
      " 864 865 866 867 868 869 870 871 872 873 874 875 876 877 878 879 880 881\n",
      " 882 883 884 885 886 887 888 889 890 891 892 893 894 895 896 897 898 899\n",
      " 900 901 902 903 904 905 906 907 908 909 910 911 912 913 914 915 916 917\n",
      " 918 919 920 921 922 923 924 925 926 927 928 929 930 931 932 933 934 935\n",
      " 936 937 938 939 940 941 942 943 944 945 946 947 948 949 950 951 952 953\n",
      " 954 955 956 957 958 959 960 961 962 963 964 965 966 967 968 969 970 971\n",
      " 972 973 974 975 976 977 978 979 980 981 982 983 984 985 986 987 988 989\n",
      " 990 991 992 993 994 995] [ 996  997  998  999 1000 1001 1002 1003 1004 1005 1006 1007 1008 1009\n",
      " 1010 1011 1012 1013 1014 1015 1016 1017 1018 1019 1020 1021 1022 1023\n",
      " 1024 1025 1026 1027 1028 1029 1030 1031 1032 1033 1034 1035 1036 1037\n",
      " 1038 1039 1040 1041 1042 1043 1044 1045 1046 1047 1048 1049 1050 1051\n",
      " 1052 1053 1054 1055 1056 1057 1058 1059 1060 1061 1062 1063 1064 1065\n",
      " 1066 1067 1068 1069 1070 1071 1072 1073 1074 1075 1076 1077 1078 1079\n",
      " 1080 1081 1082 1083 1084 1085 1086 1087 1088 1089 1090 1091 1092 1093\n",
      " 1094 1095 1096 1097 1098 1099 1100 1101 1102 1103 1104 1105 1106 1107\n",
      " 1108 1109 1110 1111 1112 1113 1114 1115 1116 1117 1118 1119 1120 1121\n",
      " 1122 1123 1124 1125 1126 1127 1128 1129 1130 1131 1132 1133 1134 1135\n",
      " 1136 1137 1138 1139 1140 1141 1142 1143 1144 1145 1146 1147 1148 1149\n",
      " 1150 1151 1152 1153 1154 1155 1156 1157 1158 1159 1160 1161 1162 1163\n",
      " 1164 1165 1166 1167 1168 1169 1170 1171 1172 1173 1174 1175 1176 1177\n",
      " 1178 1179 1180 1181 1182 1183 1184 1185 1186 1187 1188 1189 1190 1191\n",
      " 1192 1193 1194 1195 1196 1197 1198 1199 1200 1201 1202 1203 1204 1205\n",
      " 1206 1207 1208 1209 1210 1211 1212 1213 1214 1215 1216 1217 1218 1219\n",
      " 1220 1221 1222 1223 1224 1225 1226 1227 1228 1229 1230 1231 1232 1233\n",
      " 1234 1235 1236 1237 1238 1239 1240 1241 1242 1243 1244 1245 1246 1247\n",
      " 1248 1249 1250 1251 1252 1253 1254 1255 1256 1257 1258 1259 1260 1261\n",
      " 1262 1263 1264 1265 1266 1267 1268 1269 1270 1271 1272 1273 1274 1275\n",
      " 1276 1277 1278 1279 1280 1281 1282 1283 1284 1285 1286 1287 1288 1289\n",
      " 1290 1291 1292 1293 1294 1295 1296 1297 1298 1299 1300 1301 1302 1303\n",
      " 1304 1305 1306 1307 1308 1309 1310 1311 1312 1313 1314 1315 1316 1317\n",
      " 1318 1319 1320 1321 1322 1323 1324 1325 1326 1327 1328 1329 1330 1331\n",
      " 1332 1333 1334 1335 1336 1337 1338 1339 1340 1341 1342 1343 1344 1345\n",
      " 1346 1347 1348 1349 1350 1351 1352 1353 1354 1355 1356 1357 1358 1359\n",
      " 1360 1361 1362 1363 1364 1365 1366 1367 1368 1369 1370 1371 1372 1373\n",
      " 1374 1375 1376 1377 1378 1379 1380 1381 1382 1383 1384 1385 1386 1387\n",
      " 1388 1389 1390 1391 1392 1393 1394 1395 1396 1397 1398 1399 1400 1401\n",
      " 1402 1403 1404 1405 1406 1407 1408 1409 1410 1411 1412 1413 1414 1415\n",
      " 1416 1417 1418 1419 1420 1421 1422 1423 1424 1425 1426 1427 1428 1429\n",
      " 1430 1431 1432 1433 1434 1435 1436 1437 1438 1439 1440 1441 1442 1443\n",
      " 1444 1445 1446 1447 1448 1449 1450 1451 1452 1453 1454 1455 1456 1457\n",
      " 1458 1459 1460 1461 1462 1463 1464 1465 1466 1467 1468 1469 1470 1471\n",
      " 1472 1473 1474 1475 1476 1477 1478 1479 1480 1481 1482 1483 1484 1485\n",
      " 1486 1487 1488 1489 1490]\n",
      "[   0    1    2 ... 1488 1489 1490] [1491 1492 1493 1494 1495 1496 1497 1498 1499 1500 1501 1502 1503 1504\n",
      " 1505 1506 1507 1508 1509 1510 1511 1512 1513 1514 1515 1516 1517 1518\n",
      " 1519 1520 1521 1522 1523 1524 1525 1526 1527 1528 1529 1530 1531 1532\n",
      " 1533 1534 1535 1536 1537 1538 1539 1540 1541 1542 1543 1544 1545 1546\n",
      " 1547 1548 1549 1550 1551 1552 1553 1554 1555 1556 1557 1558 1559 1560\n",
      " 1561 1562 1563 1564 1565 1566 1567 1568 1569 1570 1571 1572 1573 1574\n",
      " 1575 1576 1577 1578 1579 1580 1581 1582 1583 1584 1585 1586 1587 1588\n",
      " 1589 1590 1591 1592 1593 1594 1595 1596 1597 1598 1599 1600 1601 1602\n",
      " 1603 1604 1605 1606 1607 1608 1609 1610 1611 1612 1613 1614 1615 1616\n",
      " 1617 1618 1619 1620 1621 1622 1623 1624 1625 1626 1627 1628 1629 1630\n",
      " 1631 1632 1633 1634 1635 1636 1637 1638 1639 1640 1641 1642 1643 1644\n",
      " 1645 1646 1647 1648 1649 1650 1651 1652 1653 1654 1655 1656 1657 1658\n",
      " 1659 1660 1661 1662 1663 1664 1665 1666 1667 1668 1669 1670 1671 1672\n",
      " 1673 1674 1675 1676 1677 1678 1679 1680 1681 1682 1683 1684 1685 1686\n",
      " 1687 1688 1689 1690 1691 1692 1693 1694 1695 1696 1697 1698 1699 1700\n",
      " 1701 1702 1703 1704 1705 1706 1707 1708 1709 1710 1711 1712 1713 1714\n",
      " 1715 1716 1717 1718 1719 1720 1721 1722 1723 1724 1725 1726 1727 1728\n",
      " 1729 1730 1731 1732 1733 1734 1735 1736 1737 1738 1739 1740 1741 1742\n",
      " 1743 1744 1745 1746 1747 1748 1749 1750 1751 1752 1753 1754 1755 1756\n",
      " 1757 1758 1759 1760 1761 1762 1763 1764 1765 1766 1767 1768 1769 1770\n",
      " 1771 1772 1773 1774 1775 1776 1777 1778 1779 1780 1781 1782 1783 1784\n",
      " 1785 1786 1787 1788 1789 1790 1791 1792 1793 1794 1795 1796 1797 1798\n",
      " 1799 1800 1801 1802 1803 1804 1805 1806 1807 1808 1809 1810 1811 1812\n",
      " 1813 1814 1815 1816 1817 1818 1819 1820 1821 1822 1823 1824 1825 1826\n",
      " 1827 1828 1829 1830 1831 1832 1833 1834 1835 1836 1837 1838 1839 1840\n",
      " 1841 1842 1843 1844 1845 1846 1847 1848 1849 1850 1851 1852 1853 1854\n",
      " 1855 1856 1857 1858 1859 1860 1861 1862 1863 1864 1865 1866 1867 1868\n",
      " 1869 1870 1871 1872 1873 1874 1875 1876 1877 1878 1879 1880 1881 1882\n",
      " 1883 1884 1885 1886 1887 1888 1889 1890 1891 1892 1893 1894 1895 1896\n",
      " 1897 1898 1899 1900 1901 1902 1903 1904 1905 1906 1907 1908 1909 1910\n",
      " 1911 1912 1913 1914 1915 1916 1917 1918 1919 1920 1921 1922 1923 1924\n",
      " 1925 1926 1927 1928 1929 1930 1931 1932 1933 1934 1935 1936 1937 1938\n",
      " 1939 1940 1941 1942 1943 1944 1945 1946 1947 1948 1949 1950 1951 1952\n",
      " 1953 1954 1955 1956 1957 1958 1959 1960 1961 1962 1963 1964 1965 1966\n",
      " 1967 1968 1969 1970 1971 1972 1973 1974 1975 1976 1977 1978 1979 1980\n",
      " 1981 1982 1983 1984 1985]\n",
      "[   0    1    2 ... 1983 1984 1985] [1986 1987 1988 1989 1990 1991 1992 1993 1994 1995 1996 1997 1998 1999\n",
      " 2000 2001 2002 2003 2004 2005 2006 2007 2008 2009 2010 2011 2012 2013\n",
      " 2014 2015 2016 2017 2018 2019 2020 2021 2022 2023 2024 2025 2026 2027\n",
      " 2028 2029 2030 2031 2032 2033 2034 2035 2036 2037 2038 2039 2040 2041\n",
      " 2042 2043 2044 2045 2046 2047 2048 2049 2050 2051 2052 2053 2054 2055\n",
      " 2056 2057 2058 2059 2060 2061 2062 2063 2064 2065 2066 2067 2068 2069\n",
      " 2070 2071 2072 2073 2074 2075 2076 2077 2078 2079 2080 2081 2082 2083\n",
      " 2084 2085 2086 2087 2088 2089 2090 2091 2092 2093 2094 2095 2096 2097\n",
      " 2098 2099 2100 2101 2102 2103 2104 2105 2106 2107 2108 2109 2110 2111\n",
      " 2112 2113 2114 2115 2116 2117 2118 2119 2120 2121 2122 2123 2124 2125\n",
      " 2126 2127 2128 2129 2130 2131 2132 2133 2134 2135 2136 2137 2138 2139\n",
      " 2140 2141 2142 2143 2144 2145 2146 2147 2148 2149 2150 2151 2152 2153\n",
      " 2154 2155 2156 2157 2158 2159 2160 2161 2162 2163 2164 2165 2166 2167\n",
      " 2168 2169 2170 2171 2172 2173 2174 2175 2176 2177 2178 2179 2180 2181\n",
      " 2182 2183 2184 2185 2186 2187 2188 2189 2190 2191 2192 2193 2194 2195\n",
      " 2196 2197 2198 2199 2200 2201 2202 2203 2204 2205 2206 2207 2208 2209\n",
      " 2210 2211 2212 2213 2214 2215 2216 2217 2218 2219 2220 2221 2222 2223\n",
      " 2224 2225 2226 2227 2228 2229 2230 2231 2232 2233 2234 2235 2236 2237\n",
      " 2238 2239 2240 2241 2242 2243 2244 2245 2246 2247 2248 2249 2250 2251\n",
      " 2252 2253 2254 2255 2256 2257 2258 2259 2260 2261 2262 2263 2264 2265\n",
      " 2266 2267 2268 2269 2270 2271 2272 2273 2274 2275 2276 2277 2278 2279\n",
      " 2280 2281 2282 2283 2284 2285 2286 2287 2288 2289 2290 2291 2292 2293\n",
      " 2294 2295 2296 2297 2298 2299 2300 2301 2302 2303 2304 2305 2306 2307\n",
      " 2308 2309 2310 2311 2312 2313 2314 2315 2316 2317 2318 2319 2320 2321\n",
      " 2322 2323 2324 2325 2326 2327 2328 2329 2330 2331 2332 2333 2334 2335\n",
      " 2336 2337 2338 2339 2340 2341 2342 2343 2344 2345 2346 2347 2348 2349\n",
      " 2350 2351 2352 2353 2354 2355 2356 2357 2358 2359 2360 2361 2362 2363\n",
      " 2364 2365 2366 2367 2368 2369 2370 2371 2372 2373 2374 2375 2376 2377\n",
      " 2378 2379 2380 2381 2382 2383 2384 2385 2386 2387 2388 2389 2390 2391\n",
      " 2392 2393 2394 2395 2396 2397 2398 2399 2400 2401 2402 2403 2404 2405\n",
      " 2406 2407 2408 2409 2410 2411 2412 2413 2414 2415 2416 2417 2418 2419\n",
      " 2420 2421 2422 2423 2424 2425 2426 2427 2428 2429 2430 2431 2432 2433\n",
      " 2434 2435 2436 2437 2438 2439 2440 2441 2442 2443 2444 2445 2446 2447\n",
      " 2448 2449 2450 2451 2452 2453 2454 2455 2456 2457 2458 2459 2460 2461\n",
      " 2462 2463 2464 2465 2466 2467 2468 2469 2470 2471 2472 2473 2474 2475\n",
      " 2476 2477 2478 2479 2480]\n",
      "[   0    1    2 ... 2478 2479 2480] [2481 2482 2483 2484 2485 2486 2487 2488 2489 2490 2491 2492 2493 2494\n",
      " 2495 2496 2497 2498 2499 2500 2501 2502 2503 2504 2505 2506 2507 2508\n",
      " 2509 2510 2511 2512 2513 2514 2515 2516 2517 2518 2519 2520 2521 2522\n",
      " 2523 2524 2525 2526 2527 2528 2529 2530 2531 2532 2533 2534 2535 2536\n",
      " 2537 2538 2539 2540 2541 2542 2543 2544 2545 2546 2547 2548 2549 2550\n",
      " 2551 2552 2553 2554 2555 2556 2557 2558 2559 2560 2561 2562 2563 2564\n",
      " 2565 2566 2567 2568 2569 2570 2571 2572 2573 2574 2575 2576 2577 2578\n",
      " 2579 2580 2581 2582 2583 2584 2585 2586 2587 2588 2589 2590 2591 2592\n",
      " 2593 2594 2595 2596 2597 2598 2599 2600 2601 2602 2603 2604 2605 2606\n",
      " 2607 2608 2609 2610 2611 2612 2613 2614 2615 2616 2617 2618 2619 2620\n",
      " 2621 2622 2623 2624 2625 2626 2627 2628 2629 2630 2631 2632 2633 2634\n",
      " 2635 2636 2637 2638 2639 2640 2641 2642 2643 2644 2645 2646 2647 2648\n",
      " 2649 2650 2651 2652 2653 2654 2655 2656 2657 2658 2659 2660 2661 2662\n",
      " 2663 2664 2665 2666 2667 2668 2669 2670 2671 2672 2673 2674 2675 2676\n",
      " 2677 2678 2679 2680 2681 2682 2683 2684 2685 2686 2687 2688 2689 2690\n",
      " 2691 2692 2693 2694 2695 2696 2697 2698 2699 2700 2701 2702 2703 2704\n",
      " 2705 2706 2707 2708 2709 2710 2711 2712 2713 2714 2715 2716 2717 2718\n",
      " 2719 2720 2721 2722 2723 2724 2725 2726 2727 2728 2729 2730 2731 2732\n",
      " 2733 2734 2735 2736 2737 2738 2739 2740 2741 2742 2743 2744 2745 2746\n",
      " 2747 2748 2749 2750 2751 2752 2753 2754 2755 2756 2757 2758 2759 2760\n",
      " 2761 2762 2763 2764 2765 2766 2767 2768 2769 2770 2771 2772 2773 2774\n",
      " 2775 2776 2777 2778 2779 2780 2781 2782 2783 2784 2785 2786 2787 2788\n",
      " 2789 2790 2791 2792 2793 2794 2795 2796 2797 2798 2799 2800 2801 2802\n",
      " 2803 2804 2805 2806 2807 2808 2809 2810 2811 2812 2813 2814 2815 2816\n",
      " 2817 2818 2819 2820 2821 2822 2823 2824 2825 2826 2827 2828 2829 2830\n",
      " 2831 2832 2833 2834 2835 2836 2837 2838 2839 2840 2841 2842 2843 2844\n",
      " 2845 2846 2847 2848 2849 2850 2851 2852 2853 2854 2855 2856 2857 2858\n",
      " 2859 2860 2861 2862 2863 2864 2865 2866 2867 2868 2869 2870 2871 2872\n",
      " 2873 2874 2875 2876 2877 2878 2879 2880 2881 2882 2883 2884 2885 2886\n",
      " 2887 2888 2889 2890 2891 2892 2893 2894 2895 2896 2897 2898 2899 2900\n",
      " 2901 2902 2903 2904 2905 2906 2907 2908 2909 2910 2911 2912 2913 2914\n",
      " 2915 2916 2917 2918 2919 2920 2921 2922 2923 2924 2925 2926 2927 2928\n",
      " 2929 2930 2931 2932 2933 2934 2935 2936 2937 2938 2939 2940 2941 2942\n",
      " 2943 2944 2945 2946 2947 2948 2949 2950 2951 2952 2953 2954 2955 2956\n",
      " 2957 2958 2959 2960 2961 2962 2963 2964 2965 2966 2967 2968 2969 2970\n",
      " 2971 2972 2973 2974 2975]\n",
      "[   0    1    2 ... 2973 2974 2975] [2976 2977 2978 2979 2980 2981 2982 2983 2984 2985 2986 2987 2988 2989\n",
      " 2990 2991 2992 2993 2994 2995 2996 2997 2998 2999 3000 3001 3002 3003\n",
      " 3004 3005 3006 3007 3008 3009 3010 3011 3012 3013 3014 3015 3016 3017\n",
      " 3018 3019 3020 3021 3022 3023 3024 3025 3026 3027 3028 3029 3030 3031\n",
      " 3032 3033 3034 3035 3036 3037 3038 3039 3040 3041 3042 3043 3044 3045\n",
      " 3046 3047 3048 3049 3050 3051 3052 3053 3054 3055 3056 3057 3058 3059\n",
      " 3060 3061 3062 3063 3064 3065 3066 3067 3068 3069 3070 3071 3072 3073\n",
      " 3074 3075 3076 3077 3078 3079 3080 3081 3082 3083 3084 3085 3086 3087\n",
      " 3088 3089 3090 3091 3092 3093 3094 3095 3096 3097 3098 3099 3100 3101\n",
      " 3102 3103 3104 3105 3106 3107 3108 3109 3110 3111 3112 3113 3114 3115\n",
      " 3116 3117 3118 3119 3120 3121 3122 3123 3124 3125 3126 3127 3128 3129\n",
      " 3130 3131 3132 3133 3134 3135 3136 3137 3138 3139 3140 3141 3142 3143\n",
      " 3144 3145 3146 3147 3148 3149 3150 3151 3152 3153 3154 3155 3156 3157\n",
      " 3158 3159 3160 3161 3162 3163 3164 3165 3166 3167 3168 3169 3170 3171\n",
      " 3172 3173 3174 3175 3176 3177 3178 3179 3180 3181 3182 3183 3184 3185\n",
      " 3186 3187 3188 3189 3190 3191 3192 3193 3194 3195 3196 3197 3198 3199\n",
      " 3200 3201 3202 3203 3204 3205 3206 3207 3208 3209 3210 3211 3212 3213\n",
      " 3214 3215 3216 3217 3218 3219 3220 3221 3222 3223 3224 3225 3226 3227\n",
      " 3228 3229 3230 3231 3232 3233 3234 3235 3236 3237 3238 3239 3240 3241\n",
      " 3242 3243 3244 3245 3246 3247 3248 3249 3250 3251 3252 3253 3254 3255\n",
      " 3256 3257 3258 3259 3260 3261 3262 3263 3264 3265 3266 3267 3268 3269\n",
      " 3270 3271 3272 3273 3274 3275 3276 3277 3278 3279 3280 3281 3282 3283\n",
      " 3284 3285 3286 3287 3288 3289 3290 3291 3292 3293 3294 3295 3296 3297\n",
      " 3298 3299 3300 3301 3302 3303 3304 3305 3306 3307 3308 3309 3310 3311\n",
      " 3312 3313 3314 3315 3316 3317 3318 3319 3320 3321 3322 3323 3324 3325\n",
      " 3326 3327 3328 3329 3330 3331 3332 3333 3334 3335 3336 3337 3338 3339\n",
      " 3340 3341 3342 3343 3344 3345 3346 3347 3348 3349 3350 3351 3352 3353\n",
      " 3354 3355 3356 3357 3358 3359 3360 3361 3362 3363 3364 3365 3366 3367\n",
      " 3368 3369 3370 3371 3372 3373 3374 3375 3376 3377 3378 3379 3380 3381\n",
      " 3382 3383 3384 3385 3386 3387 3388 3389 3390 3391 3392 3393 3394 3395\n",
      " 3396 3397 3398 3399 3400 3401 3402 3403 3404 3405 3406 3407 3408 3409\n",
      " 3410 3411 3412 3413 3414 3415 3416 3417 3418 3419 3420 3421 3422 3423\n",
      " 3424 3425 3426 3427 3428 3429 3430 3431 3432 3433 3434 3435 3436 3437\n",
      " 3438 3439 3440 3441 3442 3443 3444 3445 3446 3447 3448 3449 3450 3451\n",
      " 3452 3453 3454 3455 3456 3457 3458 3459 3460 3461 3462 3463 3464 3465\n",
      " 3466 3467 3468 3469 3470]\n",
      "[   0    1    2 ... 3468 3469 3470] [3471 3472 3473 3474 3475 3476 3477 3478 3479 3480 3481 3482 3483 3484\n",
      " 3485 3486 3487 3488 3489 3490 3491 3492 3493 3494 3495 3496 3497 3498\n",
      " 3499 3500 3501 3502 3503 3504 3505 3506 3507 3508 3509 3510 3511 3512\n",
      " 3513 3514 3515 3516 3517 3518 3519 3520 3521 3522 3523 3524 3525 3526\n",
      " 3527 3528 3529 3530 3531 3532 3533 3534 3535 3536 3537 3538 3539 3540\n",
      " 3541 3542 3543 3544 3545 3546 3547 3548 3549 3550 3551 3552 3553 3554\n",
      " 3555 3556 3557 3558 3559 3560 3561 3562 3563 3564 3565 3566 3567 3568\n",
      " 3569 3570 3571 3572 3573 3574 3575 3576 3577 3578 3579 3580 3581 3582\n",
      " 3583 3584 3585 3586 3587 3588 3589 3590 3591 3592 3593 3594 3595 3596\n",
      " 3597 3598 3599 3600 3601 3602 3603 3604 3605 3606 3607 3608 3609 3610\n",
      " 3611 3612 3613 3614 3615 3616 3617 3618 3619 3620 3621 3622 3623 3624\n",
      " 3625 3626 3627 3628 3629 3630 3631 3632 3633 3634 3635 3636 3637 3638\n",
      " 3639 3640 3641 3642 3643 3644 3645 3646 3647 3648 3649 3650 3651 3652\n",
      " 3653 3654 3655 3656 3657 3658 3659 3660 3661 3662 3663 3664 3665 3666\n",
      " 3667 3668 3669 3670 3671 3672 3673 3674 3675 3676 3677 3678 3679 3680\n",
      " 3681 3682 3683 3684 3685 3686 3687 3688 3689 3690 3691 3692 3693 3694\n",
      " 3695 3696 3697 3698 3699 3700 3701 3702 3703 3704 3705 3706 3707 3708\n",
      " 3709 3710 3711 3712 3713 3714 3715 3716 3717 3718 3719 3720 3721 3722\n",
      " 3723 3724 3725 3726 3727 3728 3729 3730 3731 3732 3733 3734 3735 3736\n",
      " 3737 3738 3739 3740 3741 3742 3743 3744 3745 3746 3747 3748 3749 3750\n",
      " 3751 3752 3753 3754 3755 3756 3757 3758 3759 3760 3761 3762 3763 3764\n",
      " 3765 3766 3767 3768 3769 3770 3771 3772 3773 3774 3775 3776 3777 3778\n",
      " 3779 3780 3781 3782 3783 3784 3785 3786 3787 3788 3789 3790 3791 3792\n",
      " 3793 3794 3795 3796 3797 3798 3799 3800 3801 3802 3803 3804 3805 3806\n",
      " 3807 3808 3809 3810 3811 3812 3813 3814 3815 3816 3817 3818 3819 3820\n",
      " 3821 3822 3823 3824 3825 3826 3827 3828 3829 3830 3831 3832 3833 3834\n",
      " 3835 3836 3837 3838 3839 3840 3841 3842 3843 3844 3845 3846 3847 3848\n",
      " 3849 3850 3851 3852 3853 3854 3855 3856 3857 3858 3859 3860 3861 3862\n",
      " 3863 3864 3865 3866 3867 3868 3869 3870 3871 3872 3873 3874 3875 3876\n",
      " 3877 3878 3879 3880 3881 3882 3883 3884 3885 3886 3887 3888 3889 3890\n",
      " 3891 3892 3893 3894 3895 3896 3897 3898 3899 3900 3901 3902 3903 3904\n",
      " 3905 3906 3907 3908 3909 3910 3911 3912 3913 3914 3915 3916 3917 3918\n",
      " 3919 3920 3921 3922 3923 3924 3925 3926 3927 3928 3929 3930 3931 3932\n",
      " 3933 3934 3935 3936 3937 3938 3939 3940 3941 3942 3943 3944 3945 3946\n",
      " 3947 3948 3949 3950 3951 3952 3953 3954 3955 3956 3957 3958 3959 3960\n",
      " 3961 3962 3963 3964 3965]\n",
      "[   0    1    2 ... 3963 3964 3965] [3966 3967 3968 3969 3970 3971 3972 3973 3974 3975 3976 3977 3978 3979\n",
      " 3980 3981 3982 3983 3984 3985 3986 3987 3988 3989 3990 3991 3992 3993\n",
      " 3994 3995 3996 3997 3998 3999 4000 4001 4002 4003 4004 4005 4006 4007\n",
      " 4008 4009 4010 4011 4012 4013 4014 4015 4016 4017 4018 4019 4020 4021\n",
      " 4022 4023 4024 4025 4026 4027 4028 4029 4030 4031 4032 4033 4034 4035\n",
      " 4036 4037 4038 4039 4040 4041 4042 4043 4044 4045 4046 4047 4048 4049\n",
      " 4050 4051 4052 4053 4054 4055 4056 4057 4058 4059 4060 4061 4062 4063\n",
      " 4064 4065 4066 4067 4068 4069 4070 4071 4072 4073 4074 4075 4076 4077\n",
      " 4078 4079 4080 4081 4082 4083 4084 4085 4086 4087 4088 4089 4090 4091\n",
      " 4092 4093 4094 4095 4096 4097 4098 4099 4100 4101 4102 4103 4104 4105\n",
      " 4106 4107 4108 4109 4110 4111 4112 4113 4114 4115 4116 4117 4118 4119\n",
      " 4120 4121 4122 4123 4124 4125 4126 4127 4128 4129 4130 4131 4132 4133\n",
      " 4134 4135 4136 4137 4138 4139 4140 4141 4142 4143 4144 4145 4146 4147\n",
      " 4148 4149 4150 4151 4152 4153 4154 4155 4156 4157 4158 4159 4160 4161\n",
      " 4162 4163 4164 4165 4166 4167 4168 4169 4170 4171 4172 4173 4174 4175\n",
      " 4176 4177 4178 4179 4180 4181 4182 4183 4184 4185 4186 4187 4188 4189\n",
      " 4190 4191 4192 4193 4194 4195 4196 4197 4198 4199 4200 4201 4202 4203\n",
      " 4204 4205 4206 4207 4208 4209 4210 4211 4212 4213 4214 4215 4216 4217\n",
      " 4218 4219 4220 4221 4222 4223 4224 4225 4226 4227 4228 4229 4230 4231\n",
      " 4232 4233 4234 4235 4236 4237 4238 4239 4240 4241 4242 4243 4244 4245\n",
      " 4246 4247 4248 4249 4250 4251 4252 4253 4254 4255 4256 4257 4258 4259\n",
      " 4260 4261 4262 4263 4264 4265 4266 4267 4268 4269 4270 4271 4272 4273\n",
      " 4274 4275 4276 4277 4278 4279 4280 4281 4282 4283 4284 4285 4286 4287\n",
      " 4288 4289 4290 4291 4292 4293 4294 4295 4296 4297 4298 4299 4300 4301\n",
      " 4302 4303 4304 4305 4306 4307 4308 4309 4310 4311 4312 4313 4314 4315\n",
      " 4316 4317 4318 4319 4320 4321 4322 4323 4324 4325 4326 4327 4328 4329\n",
      " 4330 4331 4332 4333 4334 4335 4336 4337 4338 4339 4340 4341 4342 4343\n",
      " 4344 4345 4346 4347 4348 4349 4350 4351 4352 4353 4354 4355 4356 4357\n",
      " 4358 4359 4360 4361 4362 4363 4364 4365 4366 4367 4368 4369 4370 4371\n",
      " 4372 4373 4374 4375 4376 4377 4378 4379 4380 4381 4382 4383 4384 4385\n",
      " 4386 4387 4388 4389 4390 4391 4392 4393 4394 4395 4396 4397 4398 4399\n",
      " 4400 4401 4402 4403 4404 4405 4406 4407 4408 4409 4410 4411 4412 4413\n",
      " 4414 4415 4416 4417 4418 4419 4420 4421 4422 4423 4424 4425 4426 4427\n",
      " 4428 4429 4430 4431 4432 4433 4434 4435 4436 4437 4438 4439 4440 4441\n",
      " 4442 4443 4444 4445 4446 4447 4448 4449 4450 4451 4452 4453 4454 4455\n",
      " 4456 4457 4458 4459 4460]\n",
      "[   0    1    2 ... 4458 4459 4460] [4461 4462 4463 4464 4465 4466 4467 4468 4469 4470 4471 4472 4473 4474\n",
      " 4475 4476 4477 4478 4479 4480 4481 4482 4483 4484 4485 4486 4487 4488\n",
      " 4489 4490 4491 4492 4493 4494 4495 4496 4497 4498 4499 4500 4501 4502\n",
      " 4503 4504 4505 4506 4507 4508 4509 4510 4511 4512 4513 4514 4515 4516\n",
      " 4517 4518 4519 4520 4521 4522 4523 4524 4525 4526 4527 4528 4529 4530\n",
      " 4531 4532 4533 4534 4535 4536 4537 4538 4539 4540 4541 4542 4543 4544\n",
      " 4545 4546 4547 4548 4549 4550 4551 4552 4553 4554 4555 4556 4557 4558\n",
      " 4559 4560 4561 4562 4563 4564 4565 4566 4567 4568 4569 4570 4571 4572\n",
      " 4573 4574 4575 4576 4577 4578 4579 4580 4581 4582 4583 4584 4585 4586\n",
      " 4587 4588 4589 4590 4591 4592 4593 4594 4595 4596 4597 4598 4599 4600\n",
      " 4601 4602 4603 4604 4605 4606 4607 4608 4609 4610 4611 4612 4613 4614\n",
      " 4615 4616 4617 4618 4619 4620 4621 4622 4623 4624 4625 4626 4627 4628\n",
      " 4629 4630 4631 4632 4633 4634 4635 4636 4637 4638 4639 4640 4641 4642\n",
      " 4643 4644 4645 4646 4647 4648 4649 4650 4651 4652 4653 4654 4655 4656\n",
      " 4657 4658 4659 4660 4661 4662 4663 4664 4665 4666 4667 4668 4669 4670\n",
      " 4671 4672 4673 4674 4675 4676 4677 4678 4679 4680 4681 4682 4683 4684\n",
      " 4685 4686 4687 4688 4689 4690 4691 4692 4693 4694 4695 4696 4697 4698\n",
      " 4699 4700 4701 4702 4703 4704 4705 4706 4707 4708 4709 4710 4711 4712\n",
      " 4713 4714 4715 4716 4717 4718 4719 4720 4721 4722 4723 4724 4725 4726\n",
      " 4727 4728 4729 4730 4731 4732 4733 4734 4735 4736 4737 4738 4739 4740\n",
      " 4741 4742 4743 4744 4745 4746 4747 4748 4749 4750 4751 4752 4753 4754\n",
      " 4755 4756 4757 4758 4759 4760 4761 4762 4763 4764 4765 4766 4767 4768\n",
      " 4769 4770 4771 4772 4773 4774 4775 4776 4777 4778 4779 4780 4781 4782\n",
      " 4783 4784 4785 4786 4787 4788 4789 4790 4791 4792 4793 4794 4795 4796\n",
      " 4797 4798 4799 4800 4801 4802 4803 4804 4805 4806 4807 4808 4809 4810\n",
      " 4811 4812 4813 4814 4815 4816 4817 4818 4819 4820 4821 4822 4823 4824\n",
      " 4825 4826 4827 4828 4829 4830 4831 4832 4833 4834 4835 4836 4837 4838\n",
      " 4839 4840 4841 4842 4843 4844 4845 4846 4847 4848 4849 4850 4851 4852\n",
      " 4853 4854 4855 4856 4857 4858 4859 4860 4861 4862 4863 4864 4865 4866\n",
      " 4867 4868 4869 4870 4871 4872 4873 4874 4875 4876 4877 4878 4879 4880\n",
      " 4881 4882 4883 4884 4885 4886 4887 4888 4889 4890 4891 4892 4893 4894\n",
      " 4895 4896 4897 4898 4899 4900 4901 4902 4903 4904 4905 4906 4907 4908\n",
      " 4909 4910 4911 4912 4913 4914 4915 4916 4917 4918 4919 4920 4921 4922\n",
      " 4923 4924 4925 4926 4927 4928 4929 4930 4931 4932 4933 4934 4935 4936\n",
      " 4937 4938 4939 4940 4941 4942 4943 4944 4945 4946 4947 4948 4949 4950\n",
      " 4951 4952 4953 4954 4955]\n",
      "[   0    1    2 ... 4953 4954 4955] [4956 4957 4958 4959 4960 4961 4962 4963 4964 4965 4966 4967 4968 4969\n",
      " 4970 4971 4972 4973 4974 4975 4976 4977 4978 4979 4980 4981 4982 4983\n",
      " 4984 4985 4986 4987 4988 4989 4990 4991 4992 4993 4994 4995 4996 4997\n",
      " 4998 4999 5000 5001 5002 5003 5004 5005 5006 5007 5008 5009 5010 5011\n",
      " 5012 5013 5014 5015 5016 5017 5018 5019 5020 5021 5022 5023 5024 5025\n",
      " 5026 5027 5028 5029 5030 5031 5032 5033 5034 5035 5036 5037 5038 5039\n",
      " 5040 5041 5042 5043 5044 5045 5046 5047 5048 5049 5050 5051 5052 5053\n",
      " 5054 5055 5056 5057 5058 5059 5060 5061 5062 5063 5064 5065 5066 5067\n",
      " 5068 5069 5070 5071 5072 5073 5074 5075 5076 5077 5078 5079 5080 5081\n",
      " 5082 5083 5084 5085 5086 5087 5088 5089 5090 5091 5092 5093 5094 5095\n",
      " 5096 5097 5098 5099 5100 5101 5102 5103 5104 5105 5106 5107 5108 5109\n",
      " 5110 5111 5112 5113 5114 5115 5116 5117 5118 5119 5120 5121 5122 5123\n",
      " 5124 5125 5126 5127 5128 5129 5130 5131 5132 5133 5134 5135 5136 5137\n",
      " 5138 5139 5140 5141 5142 5143 5144 5145 5146 5147 5148 5149 5150 5151\n",
      " 5152 5153 5154 5155 5156 5157 5158 5159 5160 5161 5162 5163 5164 5165\n",
      " 5166 5167 5168 5169 5170 5171 5172 5173 5174 5175 5176 5177 5178 5179\n",
      " 5180 5181 5182 5183 5184 5185 5186 5187 5188 5189 5190 5191 5192 5193\n",
      " 5194 5195 5196 5197 5198 5199 5200 5201 5202 5203 5204 5205 5206 5207\n",
      " 5208 5209 5210 5211 5212 5213 5214 5215 5216 5217 5218 5219 5220 5221\n",
      " 5222 5223 5224 5225 5226 5227 5228 5229 5230 5231 5232 5233 5234 5235\n",
      " 5236 5237 5238 5239 5240 5241 5242 5243 5244 5245 5246 5247 5248 5249\n",
      " 5250 5251 5252 5253 5254 5255 5256 5257 5258 5259 5260 5261 5262 5263\n",
      " 5264 5265 5266 5267 5268 5269 5270 5271 5272 5273 5274 5275 5276 5277\n",
      " 5278 5279 5280 5281 5282 5283 5284 5285 5286 5287 5288 5289 5290 5291\n",
      " 5292 5293 5294 5295 5296 5297 5298 5299 5300 5301 5302 5303 5304 5305\n",
      " 5306 5307 5308 5309 5310 5311 5312 5313 5314 5315 5316 5317 5318 5319\n",
      " 5320 5321 5322 5323 5324 5325 5326 5327 5328 5329 5330 5331 5332 5333\n",
      " 5334 5335 5336 5337 5338 5339 5340 5341 5342 5343 5344 5345 5346 5347\n",
      " 5348 5349 5350 5351 5352 5353 5354 5355 5356 5357 5358 5359 5360 5361\n",
      " 5362 5363 5364 5365 5366 5367 5368 5369 5370 5371 5372 5373 5374 5375\n",
      " 5376 5377 5378 5379 5380 5381 5382 5383 5384 5385 5386 5387 5388 5389\n",
      " 5390 5391 5392 5393 5394 5395 5396 5397 5398 5399 5400 5401 5402 5403\n",
      " 5404 5405 5406 5407 5408 5409 5410 5411 5412 5413 5414 5415 5416 5417\n",
      " 5418 5419 5420 5421 5422 5423 5424 5425 5426 5427 5428 5429 5430 5431\n",
      " 5432 5433 5434 5435 5436 5437 5438 5439 5440 5441 5442 5443 5444 5445\n",
      " 5446 5447 5448 5449 5450]\n"
     ]
    }
   ],
   "source": [
    "#To show how Time Series Split splits the data\n",
    "from sklearn.model_selection import TimeSeriesSplit\n",
    "tscv1 = TimeSeriesSplit(n_splits=10)\n",
    "for train, cv in tscv1.split(x_tr_final_counts_tfidf):\n",
    "    print(\"%s %s\" % (train, cv))\n",
    "#    print(x_tr_final_counts_bigram[train].shape,x_tr_final_counts_bigram[cv].shape)"
   ]
  },
  {
   "cell_type": "code",
   "execution_count": 54,
   "metadata": {},
   "outputs": [
    {
     "name": "stdout",
     "output_type": "stream",
     "text": [
      "Fitting 10 folds for each of 10 candidates, totalling 100 fits\n"
     ]
    },
    {
     "name": "stderr",
     "output_type": "stream",
     "text": [
      "[Parallel(n_jobs=1)]: Using backend SequentialBackend with 1 concurrent workers.\n",
      "[Parallel(n_jobs=1)]: Done 100 out of 100 | elapsed:  2.2min finished\n"
     ]
    },
    {
     "name": "stdout",
     "output_type": "stream",
     "text": [
      "Best C is:- 10.0\n"
     ]
    },
    {
     "data": {
      "image/png": "[encoded data removed]",
      "text/plain": [
       "<Figure size 432x288 with 1 Axes>"
      ]
     },
     "metadata": {
      "needs_background": "light"
     },
     "output_type": "display_data"
    }
   ],
   "source": [
    "# Please write all the code with proper documentation\n",
    "from sklearn.linear_model import LogisticRegression\n",
    "from sklearn.metrics import f1_score\n",
    "from sklearn.metrics import roc_auc_score\n",
    "from sklearn.metrics import accuracy_score\n",
    "from math import log\n",
    "from sklearn.model_selection import RandomizedSearchCV\n",
    "from sklearn.model_selection import GridSearchCV\n",
    "\n",
    "alpha_values = np.arange(10)\n",
    "C = np.array([0.0001,0.001,0.01,0.1,1,10,100,500,1000,10000])\n",
    "cv_auc = []\n",
    "train_auc = []\n",
    "\n",
    "\n",
    "neigh = LogisticRegression(solver='liblinear')\n",
    "#params we need to try on classifier\n",
    "param_grid = {'C':[0.0001,0.001,0.01,0.1,1,10,100,500,1000,10000],\n",
    "             'penalty':['l1'],'class_weight':['balanced']} \n",
    "tscv1 = TimeSeriesSplit(n_splits=10) #For time based splitting\n",
    "clf = RandomizedSearchCV(neigh,param_grid,cv=tscv1,verbose=1,return_train_score=True)\n",
    "clf.fit(x_tr_final_counts_tfidf,y_train)\n",
    "\n",
    "\n",
    "train_auc= clf.cv_results_['mean_train_score']\n",
    "train_auc_std= clf.cv_results_['std_train_score']\n",
    "cv_auc = clf.cv_results_['mean_test_score'] \n",
    "cv_auc_std= clf.cv_results_['std_test_score']\n",
    "\n",
    "\n",
    "\n",
    "d = max(cv_auc)\n",
    "\n",
    "i = np.where(cv_auc == d)\n",
    "\n",
    "i = i[0][0]\n",
    "best_alpha = float(C[i])\n",
    "print(\"Best C is:-\",best_alpha)     \n",
    "    \n",
    "    \n",
    "C = np.log(C)    \n",
    "    \n",
    "plt.plot(C, train_auc, label='Train AUC')\n",
    "plt.plot(C, cv_auc, label='CV AUC')\n",
    "plt.legend()\n",
    "plt.xlabel(\"C: hyperparameter\")\n",
    "plt.ylabel(\"AUC\")\n",
    "plt.title(\"Performance PLOT\")\n",
    "plt.show()"
   ]
  },
  {
   "cell_type": "code",
   "execution_count": 55,
   "metadata": {},
   "outputs": [
    {
     "name": "stdout",
     "output_type": "stream",
     "text": [
      "\n",
      "The AUC of the Logistic Regression classifier of best C = 10.000000 is 95.285364%\n"
     ]
    }
   ],
   "source": [
    "# LogisticRegression with best best \"C\" for l1 penalty of bow\n",
    "model = LogisticRegression(penalty='l1',C = best_alpha,solver='liblinear')\n",
    "model.fit(x_tr_final_counts_tfidf,y_train)\n",
    "#pred = model.predict_proba(x_ts_final_counts_bigram)\n",
    "pred=model.predict(x_ts_final_counts_tfidf)    \n",
    "    # evaluate CV AUC\n",
    "auc_score_tfidf_l1 = roc_auc_score(y_true=np.array(y_ts), y_score=model.predict_proba(x_ts_final_counts_tfidf)[:,1])*100\n",
    "auc_score_tfidf_lambda_l1 = best_alpha\n",
    "print('\\nThe AUC of the Logistic Regression classifier of best C = %f is %f%%' % (best_alpha, auc_score_tfidf_l1))    "
   ]
  },
  {
   "cell_type": "code",
   "execution_count": 56,
   "metadata": {},
   "outputs": [
    {
     "data": {
      "text/plain": [
       "<matplotlib.axes._subplots.AxesSubplot at 0xfe9a057128>"
      ]
     },
     "execution_count": 56,
     "metadata": {},
     "output_type": "execute_result"
    },
    {
     "data": {
      "image/png": "[encoded data removed]",
      "text/plain": [
       "<Figure size 432x288 with 2 Axes>"
      ]
     },
     "metadata": {
      "needs_background": "light"
     },
     "output_type": "display_data"
    }
   ],
   "source": [
    "import scikitplot.metrics as skplt\n",
    "skplt.plot_confusion_matrix(y_ts,pred)\n"
   ]
  },
  {
   "cell_type": "code",
   "execution_count": 57,
   "metadata": {},
   "outputs": [
    {
     "name": "stdout",
     "output_type": "stream",
     "text": [
      "              precision    recall  f1-score   support\n",
      "\n",
      "           0       0.79      0.70      0.74       404\n",
      "           1       0.95      0.97      0.96      2281\n",
      "\n",
      "    accuracy                           0.93      2685\n",
      "   macro avg       0.87      0.83      0.85      2685\n",
      "weighted avg       0.92      0.93      0.92      2685\n",
      "\n"
     ]
    }
   ],
   "source": [
    "print(classification_report(y_ts, pred))"
   ]
  },
  {
   "cell_type": "markdown",
   "metadata": {},
   "source": [
    "False Positive rate --> when it is actually -ve, how often does it predicted +ve = fp/actual-ve = 123/404 = 0.30"
   ]
  },
  {
   "cell_type": "code",
   "execution_count": 95,
   "metadata": {},
   "outputs": [],
   "source": [
    "# FPR for tfidf_l1\n",
    "tfidf_FPR_l1 = .30"
   ]
  },
  {
   "cell_type": "markdown",
   "metadata": {},
   "source": [
    "### Applying Logistic Regression with L2 regularization on TFIDF,<font color='red'> SET 2</font>"
   ]
  },
  {
   "cell_type": "code",
   "execution_count": 59,
   "metadata": {},
   "outputs": [
    {
     "data": {
      "image/png": "[encoded data removed]",
      "text/plain": [
       "<Figure size 432x288 with 1 Axes>"
      ]
     },
     "metadata": {
      "needs_background": "light"
     },
     "output_type": "display_data"
    }
   ],
   "source": [
    "from sklearn.metrics import roc_curve, auc\n",
    "\n",
    "train_fpr, train_tpr, thresholds = roc_curve(y_train, model.predict_proba(x_tr_final_counts_tfidf)[:,1])\n",
    "test_fpr, test_tpr, thresholds = roc_curve(y_ts, model.predict_proba(x_ts_final_counts_tfidf)[:,1])\n",
    "\n",
    "plt.plot(train_fpr, train_tpr, label=\"train AUC =\"+str(auc(train_fpr, train_tpr)))\n",
    "plt.plot(test_fpr, test_tpr, label=\"test AUC =\"+str(auc(test_fpr, test_tpr)))\n",
    "plt.legend()\n",
    "plt.xlabel(\"C: hyperparameter\")\n",
    "plt.ylabel(\"AUC\")\n",
    "plt.title(\"ROC_Curve PLOT\")\n",
    "plt.show()\n",
    "\n",
    "\n"
   ]
  },
  {
   "cell_type": "code",
   "execution_count": 60,
   "metadata": {},
   "outputs": [
    {
     "name": "stdout",
     "output_type": "stream",
     "text": [
      "Fitting 10 folds for each of 10 candidates, totalling 100 fits\n"
     ]
    },
    {
     "name": "stderr",
     "output_type": "stream",
     "text": [
      "[Parallel(n_jobs=1)]: Using backend SequentialBackend with 1 concurrent workers.\n",
      "[Parallel(n_jobs=1)]: Done 100 out of 100 | elapsed:    8.7s finished\n"
     ]
    },
    {
     "name": "stdout",
     "output_type": "stream",
     "text": [
      "Best C is:- 100.0\n"
     ]
    },
    {
     "data": {
      "image/png": "[encoded data removed]",
      "text/plain": [
       "<Figure size 432x288 with 1 Axes>"
      ]
     },
     "metadata": {
      "needs_background": "light"
     },
     "output_type": "display_data"
    }
   ],
   "source": [
    "# Please write all the code with proper documentation\n",
    "from sklearn.linear_model import LogisticRegression\n",
    "from sklearn.metrics import f1_score\n",
    "from sklearn.metrics import roc_auc_score\n",
    "from sklearn.metrics import accuracy_score\n",
    "from math import log\n",
    "from sklearn.model_selection import RandomizedSearchCV\n",
    "from sklearn.model_selection import GridSearchCV\n",
    "\n",
    "alpha_values = np.arange(10)\n",
    "C = np.array([0.0001,0.001,0.01,0.1,1,10,100,500,1000,10000])\n",
    "cv_auc = []\n",
    "train_auc = []\n",
    "\n",
    "\n",
    "neigh = LogisticRegression(solver='liblinear')\n",
    "#params we need to try on classifier\n",
    "param_grid = {'C':[0.0001,0.001,0.01,0.1,1,10,100,500,1000,10000],\n",
    "             'penalty':['l2'],'class_weight':['balanced']} \n",
    "tscv1 = TimeSeriesSplit(n_splits=10) #For time based splitting\n",
    "clf = RandomizedSearchCV(neigh,param_grid,cv=tscv1,verbose=1,return_train_score=True)\n",
    "clf.fit(x_tr_final_counts_tfidf,y_train)\n",
    "\n",
    "\n",
    "train_auc= clf.cv_results_['mean_train_score']\n",
    "train_auc_std= clf.cv_results_['std_train_score']\n",
    "cv_auc = clf.cv_results_['mean_test_score'] \n",
    "cv_auc_std= clf.cv_results_['std_test_score']\n",
    "\n",
    "\n",
    "\n",
    "d = max(cv_auc)\n",
    "\n",
    "i = np.where(cv_auc == d)\n",
    "\n",
    "i = i[0][0]\n",
    "best_alpha = float(C[i])\n",
    "print(\"Best C is:-\",best_alpha)     \n",
    "    \n",
    "    \n",
    "C = np.log(C)    \n",
    "    \n",
    "plt.plot(C, train_auc, label='Train AUC')\n",
    "plt.plot(C, cv_auc, label='CV AUC')\n",
    "plt.legend()\n",
    "plt.xlabel(\"C: hyperparameter\")\n",
    "plt.ylabel(\"AUC\")\n",
    "plt.title(\"Performance PLOT\")\n",
    "plt.show()"
   ]
  },
  {
   "cell_type": "code",
   "execution_count": 61,
   "metadata": {},
   "outputs": [
    {
     "name": "stdout",
     "output_type": "stream",
     "text": [
      "\n",
      "The AUC of the Logistic Regression classifier of best C = 100.000000 is 95.326275%\n"
     ]
    },
    {
     "name": "stderr",
     "output_type": "stream",
     "text": [
      "C:\\Users\\hemant\\AnacondaNew\\lib\\site-packages\\sklearn\\linear_model\\_logistic.py:939: ConvergenceWarning: lbfgs failed to converge (status=1):\n",
      "STOP: TOTAL NO. of ITERATIONS REACHED LIMIT.\n",
      "\n",
      "Increase the number of iterations (max_iter) or scale the data as shown in:\n",
      "    https://scikit-learn.org/stable/modules/preprocessing.html.\n",
      "Please also refer to the documentation for alternative solver options:\n",
      "    https://scikit-learn.org/stable/modules/linear_model.html#logistic-regression\n",
      "  extra_warning_msg=_LOGISTIC_SOLVER_CONVERGENCE_MSG)\n"
     ]
    }
   ],
   "source": [
    "# LogisticRegression with best best \"C\" for l2 penalty of bow\n",
    "model = LogisticRegression(penalty='l2',C = best_alpha)\n",
    "model.fit(x_tr_final_counts_tfidf,y_train)\n",
    "#pred = model.predict_proba(x_ts_final_counts_bigram)\n",
    "pred=model.predict(x_ts_final_counts_tfidf)    \n",
    "    # evaluate CV AUC\n",
    "auc_score_tfidf_l2 = roc_auc_score(y_true=np.array(y_ts), y_score=model.predict_proba(x_ts_final_counts_tfidf)[:,1])*100\n",
    "auc_score_tfidf_lambda_l2 = best_alpha\n",
    "print('\\nThe AUC of the Logistic Regression classifier of best C = %f is %f%%' % (best_alpha, auc_score_tfidf_l2))    "
   ]
  },
  {
   "cell_type": "code",
   "execution_count": 62,
   "metadata": {},
   "outputs": [
    {
     "data": {
      "text/plain": [
       "<matplotlib.axes._subplots.AxesSubplot at 0xfe927aed68>"
      ]
     },
     "execution_count": 62,
     "metadata": {},
     "output_type": "execute_result"
    },
    {
     "data": {
      "image/png": "[encoded data removed]",
      "text/plain": [
       "<Figure size 432x288 with 2 Axes>"
      ]
     },
     "metadata": {
      "needs_background": "light"
     },
     "output_type": "display_data"
    }
   ],
   "source": [
    "import scikitplot.metrics as skplt\n",
    "skplt.plot_confusion_matrix(y_ts ,pred)"
   ]
  },
  {
   "cell_type": "code",
   "execution_count": 63,
   "metadata": {},
   "outputs": [
    {
     "data": {
      "image/png": "[encoded data removed]",
      "text/plain": [
       "<Figure size 432x288 with 1 Axes>"
      ]
     },
     "metadata": {
      "needs_background": "light"
     },
     "output_type": "display_data"
    }
   ],
   "source": [
    "from sklearn.metrics import roc_curve, auc\n",
    "\n",
    "train_fpr, train_tpr, thresholds = roc_curve(y_train, model.predict_proba(x_tr_final_counts_tfidf)[:,1])\n",
    "test_fpr, test_tpr, thresholds = roc_curve(y_ts, model.predict_proba(x_ts_final_counts_tfidf)[:,1])\n",
    "\n",
    "plt.plot(train_fpr, train_tpr, label=\"train AUC =\"+str(auc(train_fpr, train_tpr)))\n",
    "plt.plot(test_fpr, test_tpr, label=\"test AUC =\"+str(auc(test_fpr, test_tpr)))\n",
    "plt.legend()\n",
    "plt.xlabel(\"C: hyperparameter\")\n",
    "plt.ylabel(\"AUC\")\n",
    "plt.title(\"Roc_Curve PLOT\")\n",
    "plt.show()\n",
    "\n"
   ]
  },
  {
   "cell_type": "code",
   "execution_count": 64,
   "metadata": {},
   "outputs": [
    {
     "name": "stdout",
     "output_type": "stream",
     "text": [
      "              precision    recall  f1-score   support\n",
      "\n",
      "           0       0.79      0.70      0.74       404\n",
      "           1       0.95      0.97      0.96      2281\n",
      "\n",
      "    accuracy                           0.93      2685\n",
      "   macro avg       0.87      0.83      0.85      2685\n",
      "weighted avg       0.92      0.93      0.92      2685\n",
      "\n"
     ]
    }
   ],
   "source": [
    "print(classification_report(y_ts, pred))"
   ]
  },
  {
   "cell_type": "markdown",
   "metadata": {},
   "source": [
    "False Positive rate --> when it is actually -ve, how often does it predicted +ve = fp/actual-ve = 123/404 = .30"
   ]
  },
  {
   "cell_type": "code",
   "execution_count": 96,
   "metadata": {},
   "outputs": [],
   "source": [
    "# FPR for tfidf_l2\n",
    "tfidf_FPR_l2 = .30"
   ]
  },
  {
   "cell_type": "markdown",
   "metadata": {},
   "source": [
    "### Applying Logistic Regression with L1 regularization on AVG W2V<font color='red'> SET 3</font>"
   ]
  },
  {
   "cell_type": "code",
   "execution_count": 66,
   "metadata": {},
   "outputs": [
    {
     "name": "stdout",
     "output_type": "stream",
     "text": [
      "[  0   1   2   3   4   5   6   7   8   9  10  11  12  13  14  15  16  17\n",
      "  18  19  20  21  22  23  24  25  26  27  28  29  30  31  32  33  34  35\n",
      "  36  37  38  39  40  41  42  43  44  45  46  47  48  49  50  51  52  53\n",
      "  54  55  56  57  58  59  60  61  62  63  64  65  66  67  68  69  70  71\n",
      "  72  73  74  75  76  77  78  79  80  81  82  83  84  85  86  87  88  89\n",
      "  90  91  92  93  94  95  96  97  98  99 100 101 102 103 104 105 106 107\n",
      " 108 109 110 111 112 113 114 115 116 117 118 119 120 121 122 123 124 125\n",
      " 126 127 128 129 130 131 132 133 134 135 136 137 138 139 140 141 142 143\n",
      " 144 145 146 147 148 149 150 151 152 153 154 155 156 157 158 159 160 161\n",
      " 162 163 164 165 166 167 168 169 170 171 172 173 174 175 176 177 178 179\n",
      " 180 181 182 183 184 185 186 187 188 189 190 191 192 193 194 195 196 197\n",
      " 198 199 200 201 202 203 204 205 206 207 208 209 210 211 212 213 214 215\n",
      " 216 217 218 219 220 221 222 223 224 225 226 227 228 229 230 231 232 233\n",
      " 234 235 236 237 238 239 240 241 242 243 244 245 246 247 248 249 250 251\n",
      " 252 253 254 255 256 257 258 259 260 261 262 263 264 265 266 267 268 269\n",
      " 270 271 272 273 274 275 276 277 278 279 280 281 282 283 284 285 286 287\n",
      " 288 289 290 291 292 293 294 295 296 297 298 299 300 301 302 303 304 305\n",
      " 306 307 308 309 310 311 312 313 314 315 316 317 318 319 320 321 322 323\n",
      " 324 325 326 327 328 329 330 331 332 333 334 335 336 337 338 339 340 341\n",
      " 342 343 344 345 346 347 348 349 350 351 352 353 354 355 356 357 358 359\n",
      " 360 361 362 363 364 365 366 367 368 369 370 371 372 373 374 375 376 377\n",
      " 378 379 380 381 382 383 384 385 386 387 388 389 390 391 392 393 394 395\n",
      " 396 397 398 399 400 401 402 403 404 405 406 407 408 409 410 411 412 413\n",
      " 414 415 416 417 418 419 420 421 422 423 424 425 426 427 428 429 430 431\n",
      " 432 433 434 435 436 437 438 439 440 441 442 443 444 445 446 447 448 449\n",
      " 450 451 452 453 454 455 456 457 458 459 460 461 462 463 464 465 466 467\n",
      " 468 469 470 471 472 473 474 475 476 477 478 479 480 481 482 483 484 485\n",
      " 486 487 488 489 490 491 492 493 494 495 496 497 498 499 500] [501 502 503 504 505 506 507 508 509 510 511 512 513 514 515 516 517 518\n",
      " 519 520 521 522 523 524 525 526 527 528 529 530 531 532 533 534 535 536\n",
      " 537 538 539 540 541 542 543 544 545 546 547 548 549 550 551 552 553 554\n",
      " 555 556 557 558 559 560 561 562 563 564 565 566 567 568 569 570 571 572\n",
      " 573 574 575 576 577 578 579 580 581 582 583 584 585 586 587 588 589 590\n",
      " 591 592 593 594 595 596 597 598 599 600 601 602 603 604 605 606 607 608\n",
      " 609 610 611 612 613 614 615 616 617 618 619 620 621 622 623 624 625 626\n",
      " 627 628 629 630 631 632 633 634 635 636 637 638 639 640 641 642 643 644\n",
      " 645 646 647 648 649 650 651 652 653 654 655 656 657 658 659 660 661 662\n",
      " 663 664 665 666 667 668 669 670 671 672 673 674 675 676 677 678 679 680\n",
      " 681 682 683 684 685 686 687 688 689 690 691 692 693 694 695 696 697 698\n",
      " 699 700 701 702 703 704 705 706 707 708 709 710 711 712 713 714 715 716\n",
      " 717 718 719 720 721 722 723 724 725 726 727 728 729 730 731 732 733 734\n",
      " 735 736 737 738 739 740 741 742 743 744 745 746 747 748 749 750 751 752\n",
      " 753 754 755 756 757 758 759 760 761 762 763 764 765 766 767 768 769 770\n",
      " 771 772 773 774 775 776 777 778 779 780 781 782 783 784 785 786 787 788\n",
      " 789 790 791 792 793 794 795 796 797 798 799 800 801 802 803 804 805 806\n",
      " 807 808 809 810 811 812 813 814 815 816 817 818 819 820 821 822 823 824\n",
      " 825 826 827 828 829 830 831 832 833 834 835 836 837 838 839 840 841 842\n",
      " 843 844 845 846 847 848 849 850 851 852 853 854 855 856 857 858 859 860\n",
      " 861 862 863 864 865 866 867 868 869 870 871 872 873 874 875 876 877 878\n",
      " 879 880 881 882 883 884 885 886 887 888 889 890 891 892 893 894 895 896\n",
      " 897 898 899 900 901 902 903 904 905 906 907 908 909 910 911 912 913 914\n",
      " 915 916 917 918 919 920 921 922 923 924 925 926 927 928 929 930 931 932\n",
      " 933 934 935 936 937 938 939 940 941 942 943 944 945 946 947 948 949 950\n",
      " 951 952 953 954 955 956 957 958 959 960 961 962 963 964 965 966 967 968\n",
      " 969 970 971 972 973 974 975 976 977 978 979 980 981 982 983 984 985 986\n",
      " 987 988 989 990 991 992 993 994 995]\n",
      "[  0   1   2   3   4   5   6   7   8   9  10  11  12  13  14  15  16  17\n",
      "  18  19  20  21  22  23  24  25  26  27  28  29  30  31  32  33  34  35\n",
      "  36  37  38  39  40  41  42  43  44  45  46  47  48  49  50  51  52  53\n",
      "  54  55  56  57  58  59  60  61  62  63  64  65  66  67  68  69  70  71\n",
      "  72  73  74  75  76  77  78  79  80  81  82  83  84  85  86  87  88  89\n",
      "  90  91  92  93  94  95  96  97  98  99 100 101 102 103 104 105 106 107\n",
      " 108 109 110 111 112 113 114 115 116 117 118 119 120 121 122 123 124 125\n",
      " 126 127 128 129 130 131 132 133 134 135 136 137 138 139 140 141 142 143\n",
      " 144 145 146 147 148 149 150 151 152 153 154 155 156 157 158 159 160 161\n",
      " 162 163 164 165 166 167 168 169 170 171 172 173 174 175 176 177 178 179\n",
      " 180 181 182 183 184 185 186 187 188 189 190 191 192 193 194 195 196 197\n",
      " 198 199 200 201 202 203 204 205 206 207 208 209 210 211 212 213 214 215\n",
      " 216 217 218 219 220 221 222 223 224 225 226 227 228 229 230 231 232 233\n",
      " 234 235 236 237 238 239 240 241 242 243 244 245 246 247 248 249 250 251\n",
      " 252 253 254 255 256 257 258 259 260 261 262 263 264 265 266 267 268 269\n",
      " 270 271 272 273 274 275 276 277 278 279 280 281 282 283 284 285 286 287\n",
      " 288 289 290 291 292 293 294 295 296 297 298 299 300 301 302 303 304 305\n",
      " 306 307 308 309 310 311 312 313 314 315 316 317 318 319 320 321 322 323\n",
      " 324 325 326 327 328 329 330 331 332 333 334 335 336 337 338 339 340 341\n",
      " 342 343 344 345 346 347 348 349 350 351 352 353 354 355 356 357 358 359\n",
      " 360 361 362 363 364 365 366 367 368 369 370 371 372 373 374 375 376 377\n",
      " 378 379 380 381 382 383 384 385 386 387 388 389 390 391 392 393 394 395\n",
      " 396 397 398 399 400 401 402 403 404 405 406 407 408 409 410 411 412 413\n",
      " 414 415 416 417 418 419 420 421 422 423 424 425 426 427 428 429 430 431\n",
      " 432 433 434 435 436 437 438 439 440 441 442 443 444 445 446 447 448 449\n",
      " 450 451 452 453 454 455 456 457 458 459 460 461 462 463 464 465 466 467\n",
      " 468 469 470 471 472 473 474 475 476 477 478 479 480 481 482 483 484 485\n",
      " 486 487 488 489 490 491 492 493 494 495 496 497 498 499 500 501 502 503\n",
      " 504 505 506 507 508 509 510 511 512 513 514 515 516 517 518 519 520 521\n",
      " 522 523 524 525 526 527 528 529 530 531 532 533 534 535 536 537 538 539\n",
      " 540 541 542 543 544 545 546 547 548 549 550 551 552 553 554 555 556 557\n",
      " 558 559 560 561 562 563 564 565 566 567 568 569 570 571 572 573 574 575\n",
      " 576 577 578 579 580 581 582 583 584 585 586 587 588 589 590 591 592 593\n",
      " 594 595 596 597 598 599 600 601 602 603 604 605 606 607 608 609 610 611\n",
      " 612 613 614 615 616 617 618 619 620 621 622 623 624 625 626 627 628 629\n",
      " 630 631 632 633 634 635 636 637 638 639 640 641 642 643 644 645 646 647\n",
      " 648 649 650 651 652 653 654 655 656 657 658 659 660 661 662 663 664 665\n",
      " 666 667 668 669 670 671 672 673 674 675 676 677 678 679 680 681 682 683\n",
      " 684 685 686 687 688 689 690 691 692 693 694 695 696 697 698 699 700 701\n",
      " 702 703 704 705 706 707 708 709 710 711 712 713 714 715 716 717 718 719\n",
      " 720 721 722 723 724 725 726 727 728 729 730 731 732 733 734 735 736 737\n",
      " 738 739 740 741 742 743 744 745 746 747 748 749 750 751 752 753 754 755\n",
      " 756 757 758 759 760 761 762 763 764 765 766 767 768 769 770 771 772 773\n",
      " 774 775 776 777 778 779 780 781 782 783 784 785 786 787 788 789 790 791\n",
      " 792 793 794 795 796 797 798 799 800 801 802 803 804 805 806 807 808 809\n",
      " 810 811 812 813 814 815 816 817 818 819 820 821 822 823 824 825 826 827\n",
      " 828 829 830 831 832 833 834 835 836 837 838 839 840 841 842 843 844 845\n",
      " 846 847 848 849 850 851 852 853 854 855 856 857 858 859 860 861 862 863\n",
      " 864 865 866 867 868 869 870 871 872 873 874 875 876 877 878 879 880 881\n",
      " 882 883 884 885 886 887 888 889 890 891 892 893 894 895 896 897 898 899\n",
      " 900 901 902 903 904 905 906 907 908 909 910 911 912 913 914 915 916 917\n",
      " 918 919 920 921 922 923 924 925 926 927 928 929 930 931 932 933 934 935\n",
      " 936 937 938 939 940 941 942 943 944 945 946 947 948 949 950 951 952 953\n",
      " 954 955 956 957 958 959 960 961 962 963 964 965 966 967 968 969 970 971\n",
      " 972 973 974 975 976 977 978 979 980 981 982 983 984 985 986 987 988 989\n",
      " 990 991 992 993 994 995] [ 996  997  998  999 1000 1001 1002 1003 1004 1005 1006 1007 1008 1009\n",
      " 1010 1011 1012 1013 1014 1015 1016 1017 1018 1019 1020 1021 1022 1023\n",
      " 1024 1025 1026 1027 1028 1029 1030 1031 1032 1033 1034 1035 1036 1037\n",
      " 1038 1039 1040 1041 1042 1043 1044 1045 1046 1047 1048 1049 1050 1051\n",
      " 1052 1053 1054 1055 1056 1057 1058 1059 1060 1061 1062 1063 1064 1065\n",
      " 1066 1067 1068 1069 1070 1071 1072 1073 1074 1075 1076 1077 1078 1079\n",
      " 1080 1081 1082 1083 1084 1085 1086 1087 1088 1089 1090 1091 1092 1093\n",
      " 1094 1095 1096 1097 1098 1099 1100 1101 1102 1103 1104 1105 1106 1107\n",
      " 1108 1109 1110 1111 1112 1113 1114 1115 1116 1117 1118 1119 1120 1121\n",
      " 1122 1123 1124 1125 1126 1127 1128 1129 1130 1131 1132 1133 1134 1135\n",
      " 1136 1137 1138 1139 1140 1141 1142 1143 1144 1145 1146 1147 1148 1149\n",
      " 1150 1151 1152 1153 1154 1155 1156 1157 1158 1159 1160 1161 1162 1163\n",
      " 1164 1165 1166 1167 1168 1169 1170 1171 1172 1173 1174 1175 1176 1177\n",
      " 1178 1179 1180 1181 1182 1183 1184 1185 1186 1187 1188 1189 1190 1191\n",
      " 1192 1193 1194 1195 1196 1197 1198 1199 1200 1201 1202 1203 1204 1205\n",
      " 1206 1207 1208 1209 1210 1211 1212 1213 1214 1215 1216 1217 1218 1219\n",
      " 1220 1221 1222 1223 1224 1225 1226 1227 1228 1229 1230 1231 1232 1233\n",
      " 1234 1235 1236 1237 1238 1239 1240 1241 1242 1243 1244 1245 1246 1247\n",
      " 1248 1249 1250 1251 1252 1253 1254 1255 1256 1257 1258 1259 1260 1261\n",
      " 1262 1263 1264 1265 1266 1267 1268 1269 1270 1271 1272 1273 1274 1275\n",
      " 1276 1277 1278 1279 1280 1281 1282 1283 1284 1285 1286 1287 1288 1289\n",
      " 1290 1291 1292 1293 1294 1295 1296 1297 1298 1299 1300 1301 1302 1303\n",
      " 1304 1305 1306 1307 1308 1309 1310 1311 1312 1313 1314 1315 1316 1317\n",
      " 1318 1319 1320 1321 1322 1323 1324 1325 1326 1327 1328 1329 1330 1331\n",
      " 1332 1333 1334 1335 1336 1337 1338 1339 1340 1341 1342 1343 1344 1345\n",
      " 1346 1347 1348 1349 1350 1351 1352 1353 1354 1355 1356 1357 1358 1359\n",
      " 1360 1361 1362 1363 1364 1365 1366 1367 1368 1369 1370 1371 1372 1373\n",
      " 1374 1375 1376 1377 1378 1379 1380 1381 1382 1383 1384 1385 1386 1387\n",
      " 1388 1389 1390 1391 1392 1393 1394 1395 1396 1397 1398 1399 1400 1401\n",
      " 1402 1403 1404 1405 1406 1407 1408 1409 1410 1411 1412 1413 1414 1415\n",
      " 1416 1417 1418 1419 1420 1421 1422 1423 1424 1425 1426 1427 1428 1429\n",
      " 1430 1431 1432 1433 1434 1435 1436 1437 1438 1439 1440 1441 1442 1443\n",
      " 1444 1445 1446 1447 1448 1449 1450 1451 1452 1453 1454 1455 1456 1457\n",
      " 1458 1459 1460 1461 1462 1463 1464 1465 1466 1467 1468 1469 1470 1471\n",
      " 1472 1473 1474 1475 1476 1477 1478 1479 1480 1481 1482 1483 1484 1485\n",
      " 1486 1487 1488 1489 1490]\n",
      "[   0    1    2 ... 1488 1489 1490] [1491 1492 1493 1494 1495 1496 1497 1498 1499 1500 1501 1502 1503 1504\n",
      " 1505 1506 1507 1508 1509 1510 1511 1512 1513 1514 1515 1516 1517 1518\n",
      " 1519 1520 1521 1522 1523 1524 1525 1526 1527 1528 1529 1530 1531 1532\n",
      " 1533 1534 1535 1536 1537 1538 1539 1540 1541 1542 1543 1544 1545 1546\n",
      " 1547 1548 1549 1550 1551 1552 1553 1554 1555 1556 1557 1558 1559 1560\n",
      " 1561 1562 1563 1564 1565 1566 1567 1568 1569 1570 1571 1572 1573 1574\n",
      " 1575 1576 1577 1578 1579 1580 1581 1582 1583 1584 1585 1586 1587 1588\n",
      " 1589 1590 1591 1592 1593 1594 1595 1596 1597 1598 1599 1600 1601 1602\n",
      " 1603 1604 1605 1606 1607 1608 1609 1610 1611 1612 1613 1614 1615 1616\n",
      " 1617 1618 1619 1620 1621 1622 1623 1624 1625 1626 1627 1628 1629 1630\n",
      " 1631 1632 1633 1634 1635 1636 1637 1638 1639 1640 1641 1642 1643 1644\n",
      " 1645 1646 1647 1648 1649 1650 1651 1652 1653 1654 1655 1656 1657 1658\n",
      " 1659 1660 1661 1662 1663 1664 1665 1666 1667 1668 1669 1670 1671 1672\n",
      " 1673 1674 1675 1676 1677 1678 1679 1680 1681 1682 1683 1684 1685 1686\n",
      " 1687 1688 1689 1690 1691 1692 1693 1694 1695 1696 1697 1698 1699 1700\n",
      " 1701 1702 1703 1704 1705 1706 1707 1708 1709 1710 1711 1712 1713 1714\n",
      " 1715 1716 1717 1718 1719 1720 1721 1722 1723 1724 1725 1726 1727 1728\n",
      " 1729 1730 1731 1732 1733 1734 1735 1736 1737 1738 1739 1740 1741 1742\n",
      " 1743 1744 1745 1746 1747 1748 1749 1750 1751 1752 1753 1754 1755 1756\n",
      " 1757 1758 1759 1760 1761 1762 1763 1764 1765 1766 1767 1768 1769 1770\n",
      " 1771 1772 1773 1774 1775 1776 1777 1778 1779 1780 1781 1782 1783 1784\n",
      " 1785 1786 1787 1788 1789 1790 1791 1792 1793 1794 1795 1796 1797 1798\n",
      " 1799 1800 1801 1802 1803 1804 1805 1806 1807 1808 1809 1810 1811 1812\n",
      " 1813 1814 1815 1816 1817 1818 1819 1820 1821 1822 1823 1824 1825 1826\n",
      " 1827 1828 1829 1830 1831 1832 1833 1834 1835 1836 1837 1838 1839 1840\n",
      " 1841 1842 1843 1844 1845 1846 1847 1848 1849 1850 1851 1852 1853 1854\n",
      " 1855 1856 1857 1858 1859 1860 1861 1862 1863 1864 1865 1866 1867 1868\n",
      " 1869 1870 1871 1872 1873 1874 1875 1876 1877 1878 1879 1880 1881 1882\n",
      " 1883 1884 1885 1886 1887 1888 1889 1890 1891 1892 1893 1894 1895 1896\n",
      " 1897 1898 1899 1900 1901 1902 1903 1904 1905 1906 1907 1908 1909 1910\n",
      " 1911 1912 1913 1914 1915 1916 1917 1918 1919 1920 1921 1922 1923 1924\n",
      " 1925 1926 1927 1928 1929 1930 1931 1932 1933 1934 1935 1936 1937 1938\n",
      " 1939 1940 1941 1942 1943 1944 1945 1946 1947 1948 1949 1950 1951 1952\n",
      " 1953 1954 1955 1956 1957 1958 1959 1960 1961 1962 1963 1964 1965 1966\n",
      " 1967 1968 1969 1970 1971 1972 1973 1974 1975 1976 1977 1978 1979 1980\n",
      " 1981 1982 1983 1984 1985]\n",
      "[   0    1    2 ... 1983 1984 1985] [1986 1987 1988 1989 1990 1991 1992 1993 1994 1995 1996 1997 1998 1999\n",
      " 2000 2001 2002 2003 2004 2005 2006 2007 2008 2009 2010 2011 2012 2013\n",
      " 2014 2015 2016 2017 2018 2019 2020 2021 2022 2023 2024 2025 2026 2027\n",
      " 2028 2029 2030 2031 2032 2033 2034 2035 2036 2037 2038 2039 2040 2041\n",
      " 2042 2043 2044 2045 2046 2047 2048 2049 2050 2051 2052 2053 2054 2055\n",
      " 2056 2057 2058 2059 2060 2061 2062 2063 2064 2065 2066 2067 2068 2069\n",
      " 2070 2071 2072 2073 2074 2075 2076 2077 2078 2079 2080 2081 2082 2083\n",
      " 2084 2085 2086 2087 2088 2089 2090 2091 2092 2093 2094 2095 2096 2097\n",
      " 2098 2099 2100 2101 2102 2103 2104 2105 2106 2107 2108 2109 2110 2111\n",
      " 2112 2113 2114 2115 2116 2117 2118 2119 2120 2121 2122 2123 2124 2125\n",
      " 2126 2127 2128 2129 2130 2131 2132 2133 2134 2135 2136 2137 2138 2139\n",
      " 2140 2141 2142 2143 2144 2145 2146 2147 2148 2149 2150 2151 2152 2153\n",
      " 2154 2155 2156 2157 2158 2159 2160 2161 2162 2163 2164 2165 2166 2167\n",
      " 2168 2169 2170 2171 2172 2173 2174 2175 2176 2177 2178 2179 2180 2181\n",
      " 2182 2183 2184 2185 2186 2187 2188 2189 2190 2191 2192 2193 2194 2195\n",
      " 2196 2197 2198 2199 2200 2201 2202 2203 2204 2205 2206 2207 2208 2209\n",
      " 2210 2211 2212 2213 2214 2215 2216 2217 2218 2219 2220 2221 2222 2223\n",
      " 2224 2225 2226 2227 2228 2229 2230 2231 2232 2233 2234 2235 2236 2237\n",
      " 2238 2239 2240 2241 2242 2243 2244 2245 2246 2247 2248 2249 2250 2251\n",
      " 2252 2253 2254 2255 2256 2257 2258 2259 2260 2261 2262 2263 2264 2265\n",
      " 2266 2267 2268 2269 2270 2271 2272 2273 2274 2275 2276 2277 2278 2279\n",
      " 2280 2281 2282 2283 2284 2285 2286 2287 2288 2289 2290 2291 2292 2293\n",
      " 2294 2295 2296 2297 2298 2299 2300 2301 2302 2303 2304 2305 2306 2307\n",
      " 2308 2309 2310 2311 2312 2313 2314 2315 2316 2317 2318 2319 2320 2321\n",
      " 2322 2323 2324 2325 2326 2327 2328 2329 2330 2331 2332 2333 2334 2335\n",
      " 2336 2337 2338 2339 2340 2341 2342 2343 2344 2345 2346 2347 2348 2349\n",
      " 2350 2351 2352 2353 2354 2355 2356 2357 2358 2359 2360 2361 2362 2363\n",
      " 2364 2365 2366 2367 2368 2369 2370 2371 2372 2373 2374 2375 2376 2377\n",
      " 2378 2379 2380 2381 2382 2383 2384 2385 2386 2387 2388 2389 2390 2391\n",
      " 2392 2393 2394 2395 2396 2397 2398 2399 2400 2401 2402 2403 2404 2405\n",
      " 2406 2407 2408 2409 2410 2411 2412 2413 2414 2415 2416 2417 2418 2419\n",
      " 2420 2421 2422 2423 2424 2425 2426 2427 2428 2429 2430 2431 2432 2433\n",
      " 2434 2435 2436 2437 2438 2439 2440 2441 2442 2443 2444 2445 2446 2447\n",
      " 2448 2449 2450 2451 2452 2453 2454 2455 2456 2457 2458 2459 2460 2461\n",
      " 2462 2463 2464 2465 2466 2467 2468 2469 2470 2471 2472 2473 2474 2475\n",
      " 2476 2477 2478 2479 2480]\n",
      "[   0    1    2 ... 2478 2479 2480] [2481 2482 2483 2484 2485 2486 2487 2488 2489 2490 2491 2492 2493 2494\n",
      " 2495 2496 2497 2498 2499 2500 2501 2502 2503 2504 2505 2506 2507 2508\n",
      " 2509 2510 2511 2512 2513 2514 2515 2516 2517 2518 2519 2520 2521 2522\n",
      " 2523 2524 2525 2526 2527 2528 2529 2530 2531 2532 2533 2534 2535 2536\n",
      " 2537 2538 2539 2540 2541 2542 2543 2544 2545 2546 2547 2548 2549 2550\n",
      " 2551 2552 2553 2554 2555 2556 2557 2558 2559 2560 2561 2562 2563 2564\n",
      " 2565 2566 2567 2568 2569 2570 2571 2572 2573 2574 2575 2576 2577 2578\n",
      " 2579 2580 2581 2582 2583 2584 2585 2586 2587 2588 2589 2590 2591 2592\n",
      " 2593 2594 2595 2596 2597 2598 2599 2600 2601 2602 2603 2604 2605 2606\n",
      " 2607 2608 2609 2610 2611 2612 2613 2614 2615 2616 2617 2618 2619 2620\n",
      " 2621 2622 2623 2624 2625 2626 2627 2628 2629 2630 2631 2632 2633 2634\n",
      " 2635 2636 2637 2638 2639 2640 2641 2642 2643 2644 2645 2646 2647 2648\n",
      " 2649 2650 2651 2652 2653 2654 2655 2656 2657 2658 2659 2660 2661 2662\n",
      " 2663 2664 2665 2666 2667 2668 2669 2670 2671 2672 2673 2674 2675 2676\n",
      " 2677 2678 2679 2680 2681 2682 2683 2684 2685 2686 2687 2688 2689 2690\n",
      " 2691 2692 2693 2694 2695 2696 2697 2698 2699 2700 2701 2702 2703 2704\n",
      " 2705 2706 2707 2708 2709 2710 2711 2712 2713 2714 2715 2716 2717 2718\n",
      " 2719 2720 2721 2722 2723 2724 2725 2726 2727 2728 2729 2730 2731 2732\n",
      " 2733 2734 2735 2736 2737 2738 2739 2740 2741 2742 2743 2744 2745 2746\n",
      " 2747 2748 2749 2750 2751 2752 2753 2754 2755 2756 2757 2758 2759 2760\n",
      " 2761 2762 2763 2764 2765 2766 2767 2768 2769 2770 2771 2772 2773 2774\n",
      " 2775 2776 2777 2778 2779 2780 2781 2782 2783 2784 2785 2786 2787 2788\n",
      " 2789 2790 2791 2792 2793 2794 2795 2796 2797 2798 2799 2800 2801 2802\n",
      " 2803 2804 2805 2806 2807 2808 2809 2810 2811 2812 2813 2814 2815 2816\n",
      " 2817 2818 2819 2820 2821 2822 2823 2824 2825 2826 2827 2828 2829 2830\n",
      " 2831 2832 2833 2834 2835 2836 2837 2838 2839 2840 2841 2842 2843 2844\n",
      " 2845 2846 2847 2848 2849 2850 2851 2852 2853 2854 2855 2856 2857 2858\n",
      " 2859 2860 2861 2862 2863 2864 2865 2866 2867 2868 2869 2870 2871 2872\n",
      " 2873 2874 2875 2876 2877 2878 2879 2880 2881 2882 2883 2884 2885 2886\n",
      " 2887 2888 2889 2890 2891 2892 2893 2894 2895 2896 2897 2898 2899 2900\n",
      " 2901 2902 2903 2904 2905 2906 2907 2908 2909 2910 2911 2912 2913 2914\n",
      " 2915 2916 2917 2918 2919 2920 2921 2922 2923 2924 2925 2926 2927 2928\n",
      " 2929 2930 2931 2932 2933 2934 2935 2936 2937 2938 2939 2940 2941 2942\n",
      " 2943 2944 2945 2946 2947 2948 2949 2950 2951 2952 2953 2954 2955 2956\n",
      " 2957 2958 2959 2960 2961 2962 2963 2964 2965 2966 2967 2968 2969 2970\n",
      " 2971 2972 2973 2974 2975]\n",
      "[   0    1    2 ... 2973 2974 2975] [2976 2977 2978 2979 2980 2981 2982 2983 2984 2985 2986 2987 2988 2989\n",
      " 2990 2991 2992 2993 2994 2995 2996 2997 2998 2999 3000 3001 3002 3003\n",
      " 3004 3005 3006 3007 3008 3009 3010 3011 3012 3013 3014 3015 3016 3017\n",
      " 3018 3019 3020 3021 3022 3023 3024 3025 3026 3027 3028 3029 3030 3031\n",
      " 3032 3033 3034 3035 3036 3037 3038 3039 3040 3041 3042 3043 3044 3045\n",
      " 3046 3047 3048 3049 3050 3051 3052 3053 3054 3055 3056 3057 3058 3059\n",
      " 3060 3061 3062 3063 3064 3065 3066 3067 3068 3069 3070 3071 3072 3073\n",
      " 3074 3075 3076 3077 3078 3079 3080 3081 3082 3083 3084 3085 3086 3087\n",
      " 3088 3089 3090 3091 3092 3093 3094 3095 3096 3097 3098 3099 3100 3101\n",
      " 3102 3103 3104 3105 3106 3107 3108 3109 3110 3111 3112 3113 3114 3115\n",
      " 3116 3117 3118 3119 3120 3121 3122 3123 3124 3125 3126 3127 3128 3129\n",
      " 3130 3131 3132 3133 3134 3135 3136 3137 3138 3139 3140 3141 3142 3143\n",
      " 3144 3145 3146 3147 3148 3149 3150 3151 3152 3153 3154 3155 3156 3157\n",
      " 3158 3159 3160 3161 3162 3163 3164 3165 3166 3167 3168 3169 3170 3171\n",
      " 3172 3173 3174 3175 3176 3177 3178 3179 3180 3181 3182 3183 3184 3185\n",
      " 3186 3187 3188 3189 3190 3191 3192 3193 3194 3195 3196 3197 3198 3199\n",
      " 3200 3201 3202 3203 3204 3205 3206 3207 3208 3209 3210 3211 3212 3213\n",
      " 3214 3215 3216 3217 3218 3219 3220 3221 3222 3223 3224 3225 3226 3227\n",
      " 3228 3229 3230 3231 3232 3233 3234 3235 3236 3237 3238 3239 3240 3241\n",
      " 3242 3243 3244 3245 3246 3247 3248 3249 3250 3251 3252 3253 3254 3255\n",
      " 3256 3257 3258 3259 3260 3261 3262 3263 3264 3265 3266 3267 3268 3269\n",
      " 3270 3271 3272 3273 3274 3275 3276 3277 3278 3279 3280 3281 3282 3283\n",
      " 3284 3285 3286 3287 3288 3289 3290 3291 3292 3293 3294 3295 3296 3297\n",
      " 3298 3299 3300 3301 3302 3303 3304 3305 3306 3307 3308 3309 3310 3311\n",
      " 3312 3313 3314 3315 3316 3317 3318 3319 3320 3321 3322 3323 3324 3325\n",
      " 3326 3327 3328 3329 3330 3331 3332 3333 3334 3335 3336 3337 3338 3339\n",
      " 3340 3341 3342 3343 3344 3345 3346 3347 3348 3349 3350 3351 3352 3353\n",
      " 3354 3355 3356 3357 3358 3359 3360 3361 3362 3363 3364 3365 3366 3367\n",
      " 3368 3369 3370 3371 3372 3373 3374 3375 3376 3377 3378 3379 3380 3381\n",
      " 3382 3383 3384 3385 3386 3387 3388 3389 3390 3391 3392 3393 3394 3395\n",
      " 3396 3397 3398 3399 3400 3401 3402 3403 3404 3405 3406 3407 3408 3409\n",
      " 3410 3411 3412 3413 3414 3415 3416 3417 3418 3419 3420 3421 3422 3423\n",
      " 3424 3425 3426 3427 3428 3429 3430 3431 3432 3433 3434 3435 3436 3437\n",
      " 3438 3439 3440 3441 3442 3443 3444 3445 3446 3447 3448 3449 3450 3451\n",
      " 3452 3453 3454 3455 3456 3457 3458 3459 3460 3461 3462 3463 3464 3465\n",
      " 3466 3467 3468 3469 3470]\n",
      "[   0    1    2 ... 3468 3469 3470] [3471 3472 3473 3474 3475 3476 3477 3478 3479 3480 3481 3482 3483 3484\n",
      " 3485 3486 3487 3488 3489 3490 3491 3492 3493 3494 3495 3496 3497 3498\n",
      " 3499 3500 3501 3502 3503 3504 3505 3506 3507 3508 3509 3510 3511 3512\n",
      " 3513 3514 3515 3516 3517 3518 3519 3520 3521 3522 3523 3524 3525 3526\n",
      " 3527 3528 3529 3530 3531 3532 3533 3534 3535 3536 3537 3538 3539 3540\n",
      " 3541 3542 3543 3544 3545 3546 3547 3548 3549 3550 3551 3552 3553 3554\n",
      " 3555 3556 3557 3558 3559 3560 3561 3562 3563 3564 3565 3566 3567 3568\n",
      " 3569 3570 3571 3572 3573 3574 3575 3576 3577 3578 3579 3580 3581 3582\n",
      " 3583 3584 3585 3586 3587 3588 3589 3590 3591 3592 3593 3594 3595 3596\n",
      " 3597 3598 3599 3600 3601 3602 3603 3604 3605 3606 3607 3608 3609 3610\n",
      " 3611 3612 3613 3614 3615 3616 3617 3618 3619 3620 3621 3622 3623 3624\n",
      " 3625 3626 3627 3628 3629 3630 3631 3632 3633 3634 3635 3636 3637 3638\n",
      " 3639 3640 3641 3642 3643 3644 3645 3646 3647 3648 3649 3650 3651 3652\n",
      " 3653 3654 3655 3656 3657 3658 3659 3660 3661 3662 3663 3664 3665 3666\n",
      " 3667 3668 3669 3670 3671 3672 3673 3674 3675 3676 3677 3678 3679 3680\n",
      " 3681 3682 3683 3684 3685 3686 3687 3688 3689 3690 3691 3692 3693 3694\n",
      " 3695 3696 3697 3698 3699 3700 3701 3702 3703 3704 3705 3706 3707 3708\n",
      " 3709 3710 3711 3712 3713 3714 3715 3716 3717 3718 3719 3720 3721 3722\n",
      " 3723 3724 3725 3726 3727 3728 3729 3730 3731 3732 3733 3734 3735 3736\n",
      " 3737 3738 3739 3740 3741 3742 3743 3744 3745 3746 3747 3748 3749 3750\n",
      " 3751 3752 3753 3754 3755 3756 3757 3758 3759 3760 3761 3762 3763 3764\n",
      " 3765 3766 3767 3768 3769 3770 3771 3772 3773 3774 3775 3776 3777 3778\n",
      " 3779 3780 3781 3782 3783 3784 3785 3786 3787 3788 3789 3790 3791 3792\n",
      " 3793 3794 3795 3796 3797 3798 3799 3800 3801 3802 3803 3804 3805 3806\n",
      " 3807 3808 3809 3810 3811 3812 3813 3814 3815 3816 3817 3818 3819 3820\n",
      " 3821 3822 3823 3824 3825 3826 3827 3828 3829 3830 3831 3832 3833 3834\n",
      " 3835 3836 3837 3838 3839 3840 3841 3842 3843 3844 3845 3846 3847 3848\n",
      " 3849 3850 3851 3852 3853 3854 3855 3856 3857 3858 3859 3860 3861 3862\n",
      " 3863 3864 3865 3866 3867 3868 3869 3870 3871 3872 3873 3874 3875 3876\n",
      " 3877 3878 3879 3880 3881 3882 3883 3884 3885 3886 3887 3888 3889 3890\n",
      " 3891 3892 3893 3894 3895 3896 3897 3898 3899 3900 3901 3902 3903 3904\n",
      " 3905 3906 3907 3908 3909 3910 3911 3912 3913 3914 3915 3916 3917 3918\n",
      " 3919 3920 3921 3922 3923 3924 3925 3926 3927 3928 3929 3930 3931 3932\n",
      " 3933 3934 3935 3936 3937 3938 3939 3940 3941 3942 3943 3944 3945 3946\n",
      " 3947 3948 3949 3950 3951 3952 3953 3954 3955 3956 3957 3958 3959 3960\n",
      " 3961 3962 3963 3964 3965]\n",
      "[   0    1    2 ... 3963 3964 3965] [3966 3967 3968 3969 3970 3971 3972 3973 3974 3975 3976 3977 3978 3979\n",
      " 3980 3981 3982 3983 3984 3985 3986 3987 3988 3989 3990 3991 3992 3993\n",
      " 3994 3995 3996 3997 3998 3999 4000 4001 4002 4003 4004 4005 4006 4007\n",
      " 4008 4009 4010 4011 4012 4013 4014 4015 4016 4017 4018 4019 4020 4021\n",
      " 4022 4023 4024 4025 4026 4027 4028 4029 4030 4031 4032 4033 4034 4035\n",
      " 4036 4037 4038 4039 4040 4041 4042 4043 4044 4045 4046 4047 4048 4049\n",
      " 4050 4051 4052 4053 4054 4055 4056 4057 4058 4059 4060 4061 4062 4063\n",
      " 4064 4065 4066 4067 4068 4069 4070 4071 4072 4073 4074 4075 4076 4077\n",
      " 4078 4079 4080 4081 4082 4083 4084 4085 4086 4087 4088 4089 4090 4091\n",
      " 4092 4093 4094 4095 4096 4097 4098 4099 4100 4101 4102 4103 4104 4105\n",
      " 4106 4107 4108 4109 4110 4111 4112 4113 4114 4115 4116 4117 4118 4119\n",
      " 4120 4121 4122 4123 4124 4125 4126 4127 4128 4129 4130 4131 4132 4133\n",
      " 4134 4135 4136 4137 4138 4139 4140 4141 4142 4143 4144 4145 4146 4147\n",
      " 4148 4149 4150 4151 4152 4153 4154 4155 4156 4157 4158 4159 4160 4161\n",
      " 4162 4163 4164 4165 4166 4167 4168 4169 4170 4171 4172 4173 4174 4175\n",
      " 4176 4177 4178 4179 4180 4181 4182 4183 4184 4185 4186 4187 4188 4189\n",
      " 4190 4191 4192 4193 4194 4195 4196 4197 4198 4199 4200 4201 4202 4203\n",
      " 4204 4205 4206 4207 4208 4209 4210 4211 4212 4213 4214 4215 4216 4217\n",
      " 4218 4219 4220 4221 4222 4223 4224 4225 4226 4227 4228 4229 4230 4231\n",
      " 4232 4233 4234 4235 4236 4237 4238 4239 4240 4241 4242 4243 4244 4245\n",
      " 4246 4247 4248 4249 4250 4251 4252 4253 4254 4255 4256 4257 4258 4259\n",
      " 4260 4261 4262 4263 4264 4265 4266 4267 4268 4269 4270 4271 4272 4273\n",
      " 4274 4275 4276 4277 4278 4279 4280 4281 4282 4283 4284 4285 4286 4287\n",
      " 4288 4289 4290 4291 4292 4293 4294 4295 4296 4297 4298 4299 4300 4301\n",
      " 4302 4303 4304 4305 4306 4307 4308 4309 4310 4311 4312 4313 4314 4315\n",
      " 4316 4317 4318 4319 4320 4321 4322 4323 4324 4325 4326 4327 4328 4329\n",
      " 4330 4331 4332 4333 4334 4335 4336 4337 4338 4339 4340 4341 4342 4343\n",
      " 4344 4345 4346 4347 4348 4349 4350 4351 4352 4353 4354 4355 4356 4357\n",
      " 4358 4359 4360 4361 4362 4363 4364 4365 4366 4367 4368 4369 4370 4371\n",
      " 4372 4373 4374 4375 4376 4377 4378 4379 4380 4381 4382 4383 4384 4385\n",
      " 4386 4387 4388 4389 4390 4391 4392 4393 4394 4395 4396 4397 4398 4399\n",
      " 4400 4401 4402 4403 4404 4405 4406 4407 4408 4409 4410 4411 4412 4413\n",
      " 4414 4415 4416 4417 4418 4419 4420 4421 4422 4423 4424 4425 4426 4427\n",
      " 4428 4429 4430 4431 4432 4433 4434 4435 4436 4437 4438 4439 4440 4441\n",
      " 4442 4443 4444 4445 4446 4447 4448 4449 4450 4451 4452 4453 4454 4455\n",
      " 4456 4457 4458 4459 4460]\n",
      "[   0    1    2 ... 4458 4459 4460] [4461 4462 4463 4464 4465 4466 4467 4468 4469 4470 4471 4472 4473 4474\n",
      " 4475 4476 4477 4478 4479 4480 4481 4482 4483 4484 4485 4486 4487 4488\n",
      " 4489 4490 4491 4492 4493 4494 4495 4496 4497 4498 4499 4500 4501 4502\n",
      " 4503 4504 4505 4506 4507 4508 4509 4510 4511 4512 4513 4514 4515 4516\n",
      " 4517 4518 4519 4520 4521 4522 4523 4524 4525 4526 4527 4528 4529 4530\n",
      " 4531 4532 4533 4534 4535 4536 4537 4538 4539 4540 4541 4542 4543 4544\n",
      " 4545 4546 4547 4548 4549 4550 4551 4552 4553 4554 4555 4556 4557 4558\n",
      " 4559 4560 4561 4562 4563 4564 4565 4566 4567 4568 4569 4570 4571 4572\n",
      " 4573 4574 4575 4576 4577 4578 4579 4580 4581 4582 4583 4584 4585 4586\n",
      " 4587 4588 4589 4590 4591 4592 4593 4594 4595 4596 4597 4598 4599 4600\n",
      " 4601 4602 4603 4604 4605 4606 4607 4608 4609 4610 4611 4612 4613 4614\n",
      " 4615 4616 4617 4618 4619 4620 4621 4622 4623 4624 4625 4626 4627 4628\n",
      " 4629 4630 4631 4632 4633 4634 4635 4636 4637 4638 4639 4640 4641 4642\n",
      " 4643 4644 4645 4646 4647 4648 4649 4650 4651 4652 4653 4654 4655 4656\n",
      " 4657 4658 4659 4660 4661 4662 4663 4664 4665 4666 4667 4668 4669 4670\n",
      " 4671 4672 4673 4674 4675 4676 4677 4678 4679 4680 4681 4682 4683 4684\n",
      " 4685 4686 4687 4688 4689 4690 4691 4692 4693 4694 4695 4696 4697 4698\n",
      " 4699 4700 4701 4702 4703 4704 4705 4706 4707 4708 4709 4710 4711 4712\n",
      " 4713 4714 4715 4716 4717 4718 4719 4720 4721 4722 4723 4724 4725 4726\n",
      " 4727 4728 4729 4730 4731 4732 4733 4734 4735 4736 4737 4738 4739 4740\n",
      " 4741 4742 4743 4744 4745 4746 4747 4748 4749 4750 4751 4752 4753 4754\n",
      " 4755 4756 4757 4758 4759 4760 4761 4762 4763 4764 4765 4766 4767 4768\n",
      " 4769 4770 4771 4772 4773 4774 4775 4776 4777 4778 4779 4780 4781 4782\n",
      " 4783 4784 4785 4786 4787 4788 4789 4790 4791 4792 4793 4794 4795 4796\n",
      " 4797 4798 4799 4800 4801 4802 4803 4804 4805 4806 4807 4808 4809 4810\n",
      " 4811 4812 4813 4814 4815 4816 4817 4818 4819 4820 4821 4822 4823 4824\n",
      " 4825 4826 4827 4828 4829 4830 4831 4832 4833 4834 4835 4836 4837 4838\n",
      " 4839 4840 4841 4842 4843 4844 4845 4846 4847 4848 4849 4850 4851 4852\n",
      " 4853 4854 4855 4856 4857 4858 4859 4860 4861 4862 4863 4864 4865 4866\n",
      " 4867 4868 4869 4870 4871 4872 4873 4874 4875 4876 4877 4878 4879 4880\n",
      " 4881 4882 4883 4884 4885 4886 4887 4888 4889 4890 4891 4892 4893 4894\n",
      " 4895 4896 4897 4898 4899 4900 4901 4902 4903 4904 4905 4906 4907 4908\n",
      " 4909 4910 4911 4912 4913 4914 4915 4916 4917 4918 4919 4920 4921 4922\n",
      " 4923 4924 4925 4926 4927 4928 4929 4930 4931 4932 4933 4934 4935 4936\n",
      " 4937 4938 4939 4940 4941 4942 4943 4944 4945 4946 4947 4948 4949 4950\n",
      " 4951 4952 4953 4954 4955]\n",
      "[   0    1    2 ... 4953 4954 4955] [4956 4957 4958 4959 4960 4961 4962 4963 4964 4965 4966 4967 4968 4969\n",
      " 4970 4971 4972 4973 4974 4975 4976 4977 4978 4979 4980 4981 4982 4983\n",
      " 4984 4985 4986 4987 4988 4989 4990 4991 4992 4993 4994 4995 4996 4997\n",
      " 4998 4999 5000 5001 5002 5003 5004 5005 5006 5007 5008 5009 5010 5011\n",
      " 5012 5013 5014 5015 5016 5017 5018 5019 5020 5021 5022 5023 5024 5025\n",
      " 5026 5027 5028 5029 5030 5031 5032 5033 5034 5035 5036 5037 5038 5039\n",
      " 5040 5041 5042 5043 5044 5045 5046 5047 5048 5049 5050 5051 5052 5053\n",
      " 5054 5055 5056 5057 5058 5059 5060 5061 5062 5063 5064 5065 5066 5067\n",
      " 5068 5069 5070 5071 5072 5073 5074 5075 5076 5077 5078 5079 5080 5081\n",
      " 5082 5083 5084 5085 5086 5087 5088 5089 5090 5091 5092 5093 5094 5095\n",
      " 5096 5097 5098 5099 5100 5101 5102 5103 5104 5105 5106 5107 5108 5109\n",
      " 5110 5111 5112 5113 5114 5115 5116 5117 5118 5119 5120 5121 5122 5123\n",
      " 5124 5125 5126 5127 5128 5129 5130 5131 5132 5133 5134 5135 5136 5137\n",
      " 5138 5139 5140 5141 5142 5143 5144 5145 5146 5147 5148 5149 5150 5151\n",
      " 5152 5153 5154 5155 5156 5157 5158 5159 5160 5161 5162 5163 5164 5165\n",
      " 5166 5167 5168 5169 5170 5171 5172 5173 5174 5175 5176 5177 5178 5179\n",
      " 5180 5181 5182 5183 5184 5185 5186 5187 5188 5189 5190 5191 5192 5193\n",
      " 5194 5195 5196 5197 5198 5199 5200 5201 5202 5203 5204 5205 5206 5207\n",
      " 5208 5209 5210 5211 5212 5213 5214 5215 5216 5217 5218 5219 5220 5221\n",
      " 5222 5223 5224 5225 5226 5227 5228 5229 5230 5231 5232 5233 5234 5235\n",
      " 5236 5237 5238 5239 5240 5241 5242 5243 5244 5245 5246 5247 5248 5249\n",
      " 5250 5251 5252 5253 5254 5255 5256 5257 5258 5259 5260 5261 5262 5263\n",
      " 5264 5265 5266 5267 5268 5269 5270 5271 5272 5273 5274 5275 5276 5277\n",
      " 5278 5279 5280 5281 5282 5283 5284 5285 5286 5287 5288 5289 5290 5291\n",
      " 5292 5293 5294 5295 5296 5297 5298 5299 5300 5301 5302 5303 5304 5305\n",
      " 5306 5307 5308 5309 5310 5311 5312 5313 5314 5315 5316 5317 5318 5319\n",
      " 5320 5321 5322 5323 5324 5325 5326 5327 5328 5329 5330 5331 5332 5333\n",
      " 5334 5335 5336 5337 5338 5339 5340 5341 5342 5343 5344 5345 5346 5347\n",
      " 5348 5349 5350 5351 5352 5353 5354 5355 5356 5357 5358 5359 5360 5361\n",
      " 5362 5363 5364 5365 5366 5367 5368 5369 5370 5371 5372 5373 5374 5375\n",
      " 5376 5377 5378 5379 5380 5381 5382 5383 5384 5385 5386 5387 5388 5389\n",
      " 5390 5391 5392 5393 5394 5395 5396 5397 5398 5399 5400 5401 5402 5403\n",
      " 5404 5405 5406 5407 5408 5409 5410 5411 5412 5413 5414 5415 5416 5417\n",
      " 5418 5419 5420 5421 5422 5423 5424 5425 5426 5427 5428 5429 5430 5431\n",
      " 5432 5433 5434 5435 5436 5437 5438 5439 5440 5441 5442 5443 5444 5445\n",
      " 5446 5447 5448 5449 5450]\n"
     ]
    }
   ],
   "source": [
    "#To show how Time Series Split splits the data\n",
    "from sklearn.model_selection import TimeSeriesSplit\n",
    "tscv2 = TimeSeriesSplit(n_splits=10)\n",
    "for train, cv in tscv1.split(train_avgw2v):\n",
    "    print(\"%s %s\" % (train, cv))\n",
    "#    print(x_tr_final_counts_bigram[train].shape,x_tr_final_counts_bigram[cv].shape)"
   ]
  },
  {
   "cell_type": "code",
   "execution_count": 67,
   "metadata": {},
   "outputs": [
    {
     "name": "stdout",
     "output_type": "stream",
     "text": [
      "Fitting 10 folds for each of 10 candidates, totalling 100 fits\n"
     ]
    },
    {
     "name": "stderr",
     "output_type": "stream",
     "text": [
      "[Parallel(n_jobs=1)]: Using backend SequentialBackend with 1 concurrent workers.\n",
      "C:\\Users\\hemant\\AnacondaNew\\lib\\site-packages\\sklearn\\svm\\_base.py:947: ConvergenceWarning: Liblinear failed to converge, increase the number of iterations.\n",
      "  \"the number of iterations.\", ConvergenceWarning)\n",
      "C:\\Users\\hemant\\AnacondaNew\\lib\\site-packages\\sklearn\\svm\\_base.py:947: ConvergenceWarning: Liblinear failed to converge, increase the number of iterations.\n",
      "  \"the number of iterations.\", ConvergenceWarning)\n",
      "C:\\Users\\hemant\\AnacondaNew\\lib\\site-packages\\sklearn\\svm\\_base.py:947: ConvergenceWarning: Liblinear failed to converge, increase the number of iterations.\n",
      "  \"the number of iterations.\", ConvergenceWarning)\n",
      "C:\\Users\\hemant\\AnacondaNew\\lib\\site-packages\\sklearn\\svm\\_base.py:947: ConvergenceWarning: Liblinear failed to converge, increase the number of iterations.\n",
      "  \"the number of iterations.\", ConvergenceWarning)\n",
      "C:\\Users\\hemant\\AnacondaNew\\lib\\site-packages\\sklearn\\svm\\_base.py:947: ConvergenceWarning: Liblinear failed to converge, increase the number of iterations.\n",
      "  \"the number of iterations.\", ConvergenceWarning)\n",
      "C:\\Users\\hemant\\AnacondaNew\\lib\\site-packages\\sklearn\\svm\\_base.py:947: ConvergenceWarning: Liblinear failed to converge, increase the number of iterations.\n",
      "  \"the number of iterations.\", ConvergenceWarning)\n",
      "C:\\Users\\hemant\\AnacondaNew\\lib\\site-packages\\sklearn\\svm\\_base.py:947: ConvergenceWarning: Liblinear failed to converge, increase the number of iterations.\n",
      "  \"the number of iterations.\", ConvergenceWarning)\n",
      "C:\\Users\\hemant\\AnacondaNew\\lib\\site-packages\\sklearn\\svm\\_base.py:947: ConvergenceWarning: Liblinear failed to converge, increase the number of iterations.\n",
      "  \"the number of iterations.\", ConvergenceWarning)\n",
      "C:\\Users\\hemant\\AnacondaNew\\lib\\site-packages\\sklearn\\svm\\_base.py:947: ConvergenceWarning: Liblinear failed to converge, increase the number of iterations.\n",
      "  \"the number of iterations.\", ConvergenceWarning)\n",
      "C:\\Users\\hemant\\AnacondaNew\\lib\\site-packages\\sklearn\\svm\\_base.py:947: ConvergenceWarning: Liblinear failed to converge, increase the number of iterations.\n",
      "  \"the number of iterations.\", ConvergenceWarning)\n",
      "C:\\Users\\hemant\\AnacondaNew\\lib\\site-packages\\sklearn\\svm\\_base.py:947: ConvergenceWarning: Liblinear failed to converge, increase the number of iterations.\n",
      "  \"the number of iterations.\", ConvergenceWarning)\n",
      "C:\\Users\\hemant\\AnacondaNew\\lib\\site-packages\\sklearn\\svm\\_base.py:947: ConvergenceWarning: Liblinear failed to converge, increase the number of iterations.\n",
      "  \"the number of iterations.\", ConvergenceWarning)\n",
      "C:\\Users\\hemant\\AnacondaNew\\lib\\site-packages\\sklearn\\svm\\_base.py:947: ConvergenceWarning: Liblinear failed to converge, increase the number of iterations.\n",
      "  \"the number of iterations.\", ConvergenceWarning)\n",
      "C:\\Users\\hemant\\AnacondaNew\\lib\\site-packages\\sklearn\\svm\\_base.py:947: ConvergenceWarning: Liblinear failed to converge, increase the number of iterations.\n",
      "  \"the number of iterations.\", ConvergenceWarning)\n",
      "C:\\Users\\hemant\\AnacondaNew\\lib\\site-packages\\sklearn\\svm\\_base.py:947: ConvergenceWarning: Liblinear failed to converge, increase the number of iterations.\n",
      "  \"the number of iterations.\", ConvergenceWarning)\n",
      "C:\\Users\\hemant\\AnacondaNew\\lib\\site-packages\\sklearn\\svm\\_base.py:947: ConvergenceWarning: Liblinear failed to converge, increase the number of iterations.\n",
      "  \"the number of iterations.\", ConvergenceWarning)\n",
      "C:\\Users\\hemant\\AnacondaNew\\lib\\site-packages\\sklearn\\svm\\_base.py:947: ConvergenceWarning: Liblinear failed to converge, increase the number of iterations.\n",
      "  \"the number of iterations.\", ConvergenceWarning)\n",
      "C:\\Users\\hemant\\AnacondaNew\\lib\\site-packages\\sklearn\\svm\\_base.py:947: ConvergenceWarning: Liblinear failed to converge, increase the number of iterations.\n",
      "  \"the number of iterations.\", ConvergenceWarning)\n",
      "C:\\Users\\hemant\\AnacondaNew\\lib\\site-packages\\sklearn\\svm\\_base.py:947: ConvergenceWarning: Liblinear failed to converge, increase the number of iterations.\n",
      "  \"the number of iterations.\", ConvergenceWarning)\n",
      "C:\\Users\\hemant\\AnacondaNew\\lib\\site-packages\\sklearn\\svm\\_base.py:947: ConvergenceWarning: Liblinear failed to converge, increase the number of iterations.\n",
      "  \"the number of iterations.\", ConvergenceWarning)\n",
      "C:\\Users\\hemant\\AnacondaNew\\lib\\site-packages\\sklearn\\svm\\_base.py:947: ConvergenceWarning: Liblinear failed to converge, increase the number of iterations.\n",
      "  \"the number of iterations.\", ConvergenceWarning)\n",
      "C:\\Users\\hemant\\AnacondaNew\\lib\\site-packages\\sklearn\\svm\\_base.py:947: ConvergenceWarning: Liblinear failed to converge, increase the number of iterations.\n",
      "  \"the number of iterations.\", ConvergenceWarning)\n",
      "C:\\Users\\hemant\\AnacondaNew\\lib\\site-packages\\sklearn\\svm\\_base.py:947: ConvergenceWarning: Liblinear failed to converge, increase the number of iterations.\n",
      "  \"the number of iterations.\", ConvergenceWarning)\n",
      "C:\\Users\\hemant\\AnacondaNew\\lib\\site-packages\\sklearn\\svm\\_base.py:947: ConvergenceWarning: Liblinear failed to converge, increase the number of iterations.\n",
      "  \"the number of iterations.\", ConvergenceWarning)\n",
      "C:\\Users\\hemant\\AnacondaNew\\lib\\site-packages\\sklearn\\svm\\_base.py:947: ConvergenceWarning: Liblinear failed to converge, increase the number of iterations.\n",
      "  \"the number of iterations.\", ConvergenceWarning)\n",
      "C:\\Users\\hemant\\AnacondaNew\\lib\\site-packages\\sklearn\\svm\\_base.py:947: ConvergenceWarning: Liblinear failed to converge, increase the number of iterations.\n",
      "  \"the number of iterations.\", ConvergenceWarning)\n",
      "C:\\Users\\hemant\\AnacondaNew\\lib\\site-packages\\sklearn\\svm\\_base.py:947: ConvergenceWarning: Liblinear failed to converge, increase the number of iterations.\n",
      "  \"the number of iterations.\", ConvergenceWarning)\n",
      "C:\\Users\\hemant\\AnacondaNew\\lib\\site-packages\\sklearn\\svm\\_base.py:947: ConvergenceWarning: Liblinear failed to converge, increase the number of iterations.\n",
      "  \"the number of iterations.\", ConvergenceWarning)\n",
      "C:\\Users\\hemant\\AnacondaNew\\lib\\site-packages\\sklearn\\svm\\_base.py:947: ConvergenceWarning: Liblinear failed to converge, increase the number of iterations.\n",
      "  \"the number of iterations.\", ConvergenceWarning)\n",
      "C:\\Users\\hemant\\AnacondaNew\\lib\\site-packages\\sklearn\\svm\\_base.py:947: ConvergenceWarning: Liblinear failed to converge, increase the number of iterations.\n",
      "  \"the number of iterations.\", ConvergenceWarning)\n",
      "C:\\Users\\hemant\\AnacondaNew\\lib\\site-packages\\sklearn\\svm\\_base.py:947: ConvergenceWarning: Liblinear failed to converge, increase the number of iterations.\n",
      "  \"the number of iterations.\", ConvergenceWarning)\n",
      "C:\\Users\\hemant\\AnacondaNew\\lib\\site-packages\\sklearn\\svm\\_base.py:947: ConvergenceWarning: Liblinear failed to converge, increase the number of iterations.\n",
      "  \"the number of iterations.\", ConvergenceWarning)\n",
      "C:\\Users\\hemant\\AnacondaNew\\lib\\site-packages\\sklearn\\svm\\_base.py:947: ConvergenceWarning: Liblinear failed to converge, increase the number of iterations.\n",
      "  \"the number of iterations.\", ConvergenceWarning)\n",
      "C:\\Users\\hemant\\AnacondaNew\\lib\\site-packages\\sklearn\\svm\\_base.py:947: ConvergenceWarning: Liblinear failed to converge, increase the number of iterations.\n",
      "  \"the number of iterations.\", ConvergenceWarning)\n",
      "C:\\Users\\hemant\\AnacondaNew\\lib\\site-packages\\sklearn\\svm\\_base.py:947: ConvergenceWarning: Liblinear failed to converge, increase the number of iterations.\n",
      "  \"the number of iterations.\", ConvergenceWarning)\n",
      "C:\\Users\\hemant\\AnacondaNew\\lib\\site-packages\\sklearn\\svm\\_base.py:947: ConvergenceWarning: Liblinear failed to converge, increase the number of iterations.\n",
      "  \"the number of iterations.\", ConvergenceWarning)\n",
      "C:\\Users\\hemant\\AnacondaNew\\lib\\site-packages\\sklearn\\svm\\_base.py:947: ConvergenceWarning: Liblinear failed to converge, increase the number of iterations.\n",
      "  \"the number of iterations.\", ConvergenceWarning)\n",
      "C:\\Users\\hemant\\AnacondaNew\\lib\\site-packages\\sklearn\\svm\\_base.py:947: ConvergenceWarning: Liblinear failed to converge, increase the number of iterations.\n",
      "  \"the number of iterations.\", ConvergenceWarning)\n",
      "C:\\Users\\hemant\\AnacondaNew\\lib\\site-packages\\sklearn\\svm\\_base.py:947: ConvergenceWarning: Liblinear failed to converge, increase the number of iterations.\n",
      "  \"the number of iterations.\", ConvergenceWarning)\n"
     ]
    },
    {
     "name": "stderr",
     "output_type": "stream",
     "text": [
      "C:\\Users\\hemant\\AnacondaNew\\lib\\site-packages\\sklearn\\svm\\_base.py:947: ConvergenceWarning: Liblinear failed to converge, increase the number of iterations.\n",
      "  \"the number of iterations.\", ConvergenceWarning)\n",
      "C:\\Users\\hemant\\AnacondaNew\\lib\\site-packages\\sklearn\\svm\\_base.py:947: ConvergenceWarning: Liblinear failed to converge, increase the number of iterations.\n",
      "  \"the number of iterations.\", ConvergenceWarning)\n",
      "C:\\Users\\hemant\\AnacondaNew\\lib\\site-packages\\sklearn\\svm\\_base.py:947: ConvergenceWarning: Liblinear failed to converge, increase the number of iterations.\n",
      "  \"the number of iterations.\", ConvergenceWarning)\n",
      "C:\\Users\\hemant\\AnacondaNew\\lib\\site-packages\\sklearn\\svm\\_base.py:947: ConvergenceWarning: Liblinear failed to converge, increase the number of iterations.\n",
      "  \"the number of iterations.\", ConvergenceWarning)\n",
      "C:\\Users\\hemant\\AnacondaNew\\lib\\site-packages\\sklearn\\svm\\_base.py:947: ConvergenceWarning: Liblinear failed to converge, increase the number of iterations.\n",
      "  \"the number of iterations.\", ConvergenceWarning)\n",
      "C:\\Users\\hemant\\AnacondaNew\\lib\\site-packages\\sklearn\\svm\\_base.py:947: ConvergenceWarning: Liblinear failed to converge, increase the number of iterations.\n",
      "  \"the number of iterations.\", ConvergenceWarning)\n",
      "C:\\Users\\hemant\\AnacondaNew\\lib\\site-packages\\sklearn\\svm\\_base.py:947: ConvergenceWarning: Liblinear failed to converge, increase the number of iterations.\n",
      "  \"the number of iterations.\", ConvergenceWarning)\n",
      "C:\\Users\\hemant\\AnacondaNew\\lib\\site-packages\\sklearn\\svm\\_base.py:947: ConvergenceWarning: Liblinear failed to converge, increase the number of iterations.\n",
      "  \"the number of iterations.\", ConvergenceWarning)\n",
      "C:\\Users\\hemant\\AnacondaNew\\lib\\site-packages\\sklearn\\svm\\_base.py:947: ConvergenceWarning: Liblinear failed to converge, increase the number of iterations.\n",
      "  \"the number of iterations.\", ConvergenceWarning)\n",
      "[Parallel(n_jobs=1)]: Done 100 out of 100 | elapsed: 20.3min finished\n",
      "C:\\Users\\hemant\\AnacondaNew\\lib\\site-packages\\sklearn\\svm\\_base.py:947: ConvergenceWarning: Liblinear failed to converge, increase the number of iterations.\n",
      "  \"the number of iterations.\", ConvergenceWarning)\n"
     ]
    },
    {
     "name": "stdout",
     "output_type": "stream",
     "text": [
      "Best C is:- 100.0\n"
     ]
    },
    {
     "data": {
      "image/png": "[encoded data removed]",
      "text/plain": [
       "<Figure size 432x288 with 1 Axes>"
      ]
     },
     "metadata": {
      "needs_background": "light"
     },
     "output_type": "display_data"
    }
   ],
   "source": [
    "# Please write all the code with proper documentation\n",
    "from sklearn.linear_model import LogisticRegression\n",
    "from sklearn.metrics import f1_score\n",
    "from sklearn.metrics import roc_auc_score\n",
    "from sklearn.metrics import accuracy_score\n",
    "from math import log\n",
    "from sklearn.model_selection import RandomizedSearchCV\n",
    "from sklearn.model_selection import GridSearchCV\n",
    "\n",
    "alpha_values = np.arange(10)\n",
    "C = np.array([0.00001,0.0001,0.001,0.01,0.1,1,10,100,1000,10000])\n",
    "cv_auc = []\n",
    "train_auc = []\n",
    "\n",
    "\n",
    "neigh = LogisticRegression(solver='liblinear')\n",
    "#params we need to try on classifier\n",
    "param_grid = {'C':[0.00001,0.0001,0.001,0.01,0.1,1,10,100,1000,10000],\n",
    "             'penalty':['l1'],'class_weight':['balanced']} \n",
    "tscv2 = TimeSeriesSplit(n_splits=10) #For time based splitting\n",
    "clf = RandomizedSearchCV(neigh,param_grid,cv=tscv2,verbose=1,return_train_score=True)\n",
    "clf.fit(train_avgw2v,y_train)\n",
    "\n",
    "\n",
    "train_auc= clf.cv_results_['mean_train_score']\n",
    "train_auc_std= clf.cv_results_['std_train_score']\n",
    "cv_auc = clf.cv_results_['mean_test_score'] \n",
    "cv_auc_std= clf.cv_results_['std_test_score']\n",
    "\n",
    "\n",
    "\n",
    "d = max(cv_auc)\n",
    "\n",
    "i = np.where(cv_auc == d)\n",
    "\n",
    "i = i[0][0]\n",
    "best_alpha = float(C[i])\n",
    "print(\"Best C is:-\",best_alpha)     \n",
    "    \n",
    "    \n",
    "C = np.log(C)    \n",
    "    \n",
    "plt.plot(C, train_auc, label='Train AUC')\n",
    "plt.plot(C, cv_auc, label='CV AUC')\n",
    "plt.legend()\n",
    "plt.xlabel(\"C: hyperparameter\")\n",
    "plt.ylabel(\"AUC\")\n",
    "plt.title(\"Performance PLOT\")\n",
    "plt.show()"
   ]
  },
  {
   "cell_type": "code",
   "execution_count": 68,
   "metadata": {},
   "outputs": [
    {
     "name": "stdout",
     "output_type": "stream",
     "text": [
      "\n",
      "The AUC of the Logistic Regression classifier of best C = 100.000000 is 89.449705%\n"
     ]
    },
    {
     "name": "stderr",
     "output_type": "stream",
     "text": [
      "C:\\Users\\hemant\\AnacondaNew\\lib\\site-packages\\sklearn\\svm\\_base.py:947: ConvergenceWarning: Liblinear failed to converge, increase the number of iterations.\n",
      "  \"the number of iterations.\", ConvergenceWarning)\n"
     ]
    }
   ],
   "source": [
    "# LogisticRegression with best best \"C\" for l1 penalty of bow\n",
    "model = LogisticRegression(penalty='l1',C = best_alpha,solver='liblinear')\n",
    "model.fit(train_avgw2v,y_train)\n",
    "#pred = model.predict_proba(x_ts_final_counts_bigram)\n",
    "pred=model.predict(test_avgw2v)    \n",
    "    # evaluate CV AUC\n",
    "auc_score_word2vec_l1 = roc_auc_score(y_true=np.array(y_ts), y_score=model.predict_proba(test_avgw2v)[:,1])*100\n",
    "auc_score_word2vec_lambda_l1 = best_alpha\n",
    "print('\\nThe AUC of the Logistic Regression classifier of best C = %f is %f%%' % (best_alpha, auc_score_word2vec_l1))    "
   ]
  },
  {
   "cell_type": "code",
   "execution_count": 69,
   "metadata": {},
   "outputs": [
    {
     "data": {
      "text/plain": [
       "<matplotlib.axes._subplots.AxesSubplot at 0xfe9a02a518>"
      ]
     },
     "execution_count": 69,
     "metadata": {},
     "output_type": "execute_result"
    },
    {
     "data": {
      "image/png": "[encoded data removed]",
      "text/plain": [
       "<Figure size 432x288 with 2 Axes>"
      ]
     },
     "metadata": {
      "needs_background": "light"
     },
     "output_type": "display_data"
    }
   ],
   "source": [
    "import scikitplot.metrics as skplt\n",
    "skplt.plot_confusion_matrix(y_ts ,pred)"
   ]
  },
  {
   "cell_type": "code",
   "execution_count": 70,
   "metadata": {},
   "outputs": [
    {
     "data": {
      "image/png": "[encoded data removed]",
      "text/plain": [
       "<Figure size 432x288 with 1 Axes>"
      ]
     },
     "metadata": {
      "needs_background": "light"
     },
     "output_type": "display_data"
    }
   ],
   "source": [
    "from sklearn.metrics import roc_curve, auc\n",
    "\n",
    "train_fpr, train_tpr, thresholds = roc_curve(y_train, model.predict_proba(train_avgw2v)[:,1])\n",
    "test_fpr, test_tpr, thresholds = roc_curve(y_ts, model.predict_proba(test_avgw2v)[:,1])\n",
    "\n",
    "plt.plot(train_fpr, train_tpr, label=\"train AUC =\"+str(auc(train_fpr, train_tpr)))\n",
    "plt.plot(test_fpr, test_tpr, label=\"test AUC =\"+str(auc(test_fpr, test_tpr)))\n",
    "plt.legend()\n",
    "plt.xlabel(\"C: hyperparameter\")\n",
    "plt.ylabel(\"AUC\")\n",
    "plt.title(\"ROC_Curve PLOT\")\n",
    "plt.show()\n",
    "\n"
   ]
  },
  {
   "cell_type": "code",
   "execution_count": 71,
   "metadata": {},
   "outputs": [
    {
     "name": "stdout",
     "output_type": "stream",
     "text": [
      "              precision    recall  f1-score   support\n",
      "\n",
      "           0       0.67      0.40      0.50       404\n",
      "           1       0.90      0.97      0.93      2281\n",
      "\n",
      "    accuracy                           0.88      2685\n",
      "   macro avg       0.79      0.68      0.72      2685\n",
      "weighted avg       0.87      0.88      0.87      2685\n",
      "\n"
     ]
    }
   ],
   "source": [
    "print(classification_report(y_ts, pred))"
   ]
  },
  {
   "cell_type": "markdown",
   "metadata": {},
   "source": [
    "False Positive rate --> when it is actually -ve, how often does it predicted +ve = fp/actual-ve = 242/404 = .59"
   ]
  },
  {
   "cell_type": "code",
   "execution_count": 97,
   "metadata": {},
   "outputs": [],
   "source": [
    "# FPR for avgw2vec_l1\n",
    "avgw2vec_FPR_l1 = .59"
   ]
  },
  {
   "cell_type": "markdown",
   "metadata": {},
   "source": [
    "### Applying Logistic Regression with L2 regularization on AVG W2V,<font color='red'> SET 3</font>"
   ]
  },
  {
   "cell_type": "code",
   "execution_count": 73,
   "metadata": {},
   "outputs": [
    {
     "name": "stdout",
     "output_type": "stream",
     "text": [
      "Fitting 10 folds for each of 10 candidates, totalling 100 fits\n"
     ]
    },
    {
     "name": "stderr",
     "output_type": "stream",
     "text": [
      "[Parallel(n_jobs=1)]: Using backend SequentialBackend with 1 concurrent workers.\n",
      "[Parallel(n_jobs=1)]: Done 100 out of 100 | elapsed:    7.8s finished\n"
     ]
    },
    {
     "name": "stdout",
     "output_type": "stream",
     "text": [
      "Best C is:- 1e-05\n"
     ]
    },
    {
     "data": {
      "image/png": "[encoded data removed]",
      "text/plain": [
       "<Figure size 432x288 with 1 Axes>"
      ]
     },
     "metadata": {
      "needs_background": "light"
     },
     "output_type": "display_data"
    }
   ],
   "source": [
    "# Please write all the code with proper documentation\n",
    "from sklearn.linear_model import LogisticRegression\n",
    "from sklearn.metrics import f1_score\n",
    "from sklearn.metrics import roc_auc_score\n",
    "from sklearn.metrics import accuracy_score\n",
    "from math import log\n",
    "from sklearn.model_selection import RandomizedSearchCV\n",
    "from sklearn.model_selection import GridSearchCV\n",
    "\n",
    "alpha_values = np.arange(10)\n",
    "C = np.array([0.00001,0.0001,0.001,0.01,0.1,1,10,100,1000,10000])\n",
    "cv_auc = []\n",
    "train_auc = []\n",
    "\n",
    "\n",
    "neigh = LogisticRegression(solver='liblinear')\n",
    "#params we need to try on classifier\n",
    "param_grid = {'C':[0.00001,0.0001,0.001,0.01,0.1,1,10,100,1000,10000],\n",
    "             'penalty':['l2'],'class_weight':['balanced']} \n",
    "tscv2 = TimeSeriesSplit(n_splits=10) #For time based splitting\n",
    "clf = RandomizedSearchCV(neigh,param_grid,cv=tscv2,verbose=1,return_train_score=True)\n",
    "clf.fit(train_avgw2v,y_train)\n",
    "\n",
    "\n",
    "train_auc= clf.cv_results_['mean_train_score']\n",
    "train_auc_std= clf.cv_results_['std_train_score']\n",
    "cv_auc = clf.cv_results_['mean_test_score'] \n",
    "cv_auc_std= clf.cv_results_['std_test_score']\n",
    "\n",
    "\n",
    "\n",
    "d = max(cv_auc)\n",
    "\n",
    "i = np.where(cv_auc == d)\n",
    "\n",
    "i = i[0][0]\n",
    "best_alpha = float(C[i])\n",
    "print(\"Best C is:-\",best_alpha)     \n",
    "    \n",
    "    \n",
    "C = np.log(C)    \n",
    "    \n",
    "plt.plot(C, train_auc, label='Train AUC')\n",
    "plt.plot(C, cv_auc, label='CV AUC')\n",
    "plt.legend()\n",
    "plt.xlabel(\"C: hyperparameter\")\n",
    "plt.ylabel(\"AUC\")\n",
    "plt.title(\"Performance PLOT\")\n",
    "plt.show()"
   ]
  },
  {
   "cell_type": "code",
   "execution_count": 74,
   "metadata": {},
   "outputs": [
    {
     "name": "stdout",
     "output_type": "stream",
     "text": [
      "\n",
      "The AUC of the Logistic Regression classifier of best C = 0.000010 is 69.250774%\n"
     ]
    }
   ],
   "source": [
    "# LogisticRegression with best best \"C\" for l2 penalty of bow\n",
    "model = LogisticRegression(penalty='l2',C = best_alpha,solver='liblinear')\n",
    "model.fit(train_avgw2v,y_train)\n",
    "#pred = model.predict_proba(x_ts_final_counts_bigram)\n",
    "pred=model.predict(test_avgw2v)    \n",
    "    # evaluate CV AUC\n",
    "auc_score_word2vec_l2 = roc_auc_score(y_true=np.array(y_ts), y_score=model.predict_proba(test_avgw2v)[:,1])*100\n",
    "auc_score_word2vec_lambda_l2 = best_alpha\n",
    "print('\\nThe AUC of the Logistic Regression classifier of best C = %f is %f%%' % (best_alpha, auc_score_word2vec_l2))    "
   ]
  },
  {
   "cell_type": "code",
   "execution_count": 75,
   "metadata": {},
   "outputs": [
    {
     "data": {
      "text/plain": [
       "<matplotlib.axes._subplots.AxesSubplot at 0xfe9a2ffd30>"
      ]
     },
     "execution_count": 75,
     "metadata": {},
     "output_type": "execute_result"
    },
    {
     "data": {
      "image/png": "[encoded data removed]",
      "text/plain": [
       "<Figure size 432x288 with 2 Axes>"
      ]
     },
     "metadata": {
      "needs_background": "light"
     },
     "output_type": "display_data"
    }
   ],
   "source": [
    "import scikitplot.metrics as skplt\n",
    "skplt.plot_confusion_matrix(y_ts ,pred)"
   ]
  },
  {
   "cell_type": "code",
   "execution_count": 76,
   "metadata": {},
   "outputs": [
    {
     "name": "stdout",
     "output_type": "stream",
     "text": [
      "              precision    recall  f1-score   support\n",
      "\n",
      "           0       0.00      0.00      0.00       404\n",
      "           1       0.85      1.00      0.92      2281\n",
      "\n",
      "    accuracy                           0.85      2685\n",
      "   macro avg       0.42      0.50      0.46      2685\n",
      "weighted avg       0.72      0.85      0.78      2685\n",
      "\n"
     ]
    },
    {
     "name": "stderr",
     "output_type": "stream",
     "text": [
      "C:\\Users\\hemant\\AnacondaNew\\lib\\site-packages\\sklearn\\metrics\\_classification.py:1268: UndefinedMetricWarning: Precision and F-score are ill-defined and being set to 0.0 in labels with no predicted samples. Use `zero_division` parameter to control this behavior.\n",
      "  _warn_prf(average, modifier, msg_start, len(result))\n",
      "C:\\Users\\hemant\\AnacondaNew\\lib\\site-packages\\sklearn\\metrics\\_classification.py:1268: UndefinedMetricWarning: Precision and F-score are ill-defined and being set to 0.0 in labels with no predicted samples. Use `zero_division` parameter to control this behavior.\n",
      "  _warn_prf(average, modifier, msg_start, len(result))\n",
      "C:\\Users\\hemant\\AnacondaNew\\lib\\site-packages\\sklearn\\metrics\\_classification.py:1268: UndefinedMetricWarning: Precision and F-score are ill-defined and being set to 0.0 in labels with no predicted samples. Use `zero_division` parameter to control this behavior.\n",
      "  _warn_prf(average, modifier, msg_start, len(result))\n"
     ]
    }
   ],
   "source": [
    "print(classification_report(y_ts, pred))"
   ]
  },
  {
   "cell_type": "markdown",
   "metadata": {},
   "source": [
    "False Positive rate --> when it is actually -ve, how often does it predicted +ve = fp/actual-ve = 404/404 = 1"
   ]
  },
  {
   "cell_type": "code",
   "execution_count": 98,
   "metadata": {},
   "outputs": [],
   "source": [
    "# FPR for avgw2vec_l2\n",
    "avgw2vec_FPR_l2 = 1"
   ]
  },
  {
   "cell_type": "code",
   "execution_count": 78,
   "metadata": {},
   "outputs": [
    {
     "data": {
      "image/png": "[encoded data removed]",
      "text/plain": [
       "<Figure size 432x288 with 1 Axes>"
      ]
     },
     "metadata": {
      "needs_background": "light"
     },
     "output_type": "display_data"
    }
   ],
   "source": [
    "from sklearn.metrics import roc_curve, auc\n",
    "\n",
    "train_fpr, train_tpr, thresholds = roc_curve(y_train, model.predict_proba(train_avgw2v)[:,1])\n",
    "test_fpr, test_tpr, thresholds = roc_curve(y_ts, model.predict_proba(test_avgw2v)[:,1])\n",
    "\n",
    "plt.plot(train_fpr, train_tpr, label=\"train AUC =\"+str(auc(train_fpr, train_tpr)))\n",
    "plt.plot(test_fpr, test_tpr, label=\"test AUC =\"+str(auc(test_fpr, test_tpr)))\n",
    "plt.legend()\n",
    "plt.xlabel(\"C: hyperparameter\")\n",
    "plt.ylabel(\"AUC\")\n",
    "plt.title(\"Roc_Curve PLOT\")\n",
    "plt.show()\n",
    "\n"
   ]
  },
  {
   "cell_type": "markdown",
   "metadata": {},
   "source": [
    "### Applying Logistic Regression with L1 regularization on TFIDF W2V,<font color='red'> SET 4</font>"
   ]
  },
  {
   "cell_type": "code",
   "execution_count": 79,
   "metadata": {},
   "outputs": [
    {
     "name": "stdout",
     "output_type": "stream",
     "text": [
      "[  0   1   2   3   4   5   6   7   8   9  10  11  12  13  14  15  16  17\n",
      "  18  19  20  21  22  23  24  25  26  27  28  29  30  31  32  33  34  35\n",
      "  36  37  38  39  40  41  42  43  44  45  46  47  48  49  50  51  52  53\n",
      "  54  55  56  57  58  59  60  61  62  63  64  65  66  67  68  69  70  71\n",
      "  72  73  74  75  76  77  78  79  80  81  82  83  84  85  86  87  88  89\n",
      "  90  91  92  93  94  95  96  97  98  99 100 101 102 103 104 105 106 107\n",
      " 108 109 110 111 112 113 114 115 116 117 118 119 120 121 122 123 124 125\n",
      " 126 127 128 129 130 131 132 133 134 135 136 137 138 139 140 141 142 143\n",
      " 144 145 146 147 148 149 150 151 152 153 154 155 156 157 158 159 160 161\n",
      " 162 163 164 165 166 167 168 169 170 171 172 173 174 175 176 177 178 179\n",
      " 180 181 182 183 184 185 186 187 188 189 190 191 192 193 194 195 196 197\n",
      " 198 199 200 201 202 203 204 205 206 207 208 209 210 211 212 213 214 215\n",
      " 216 217 218 219 220 221 222 223 224 225 226 227 228 229 230 231 232 233\n",
      " 234 235 236 237 238 239 240 241 242 243 244 245 246 247 248 249 250 251\n",
      " 252 253 254 255 256 257 258 259 260 261 262 263 264 265 266 267 268 269\n",
      " 270 271 272 273 274 275 276 277 278 279 280 281 282 283 284 285 286 287\n",
      " 288 289 290 291 292 293 294 295 296 297 298 299 300 301 302 303 304 305\n",
      " 306 307 308 309 310 311 312 313 314 315 316 317 318 319 320 321 322 323\n",
      " 324 325 326 327 328 329 330 331 332 333 334 335 336 337 338 339 340 341\n",
      " 342 343 344 345 346 347 348 349 350 351 352 353 354 355 356 357 358 359\n",
      " 360 361 362 363 364 365 366 367 368 369 370 371 372 373 374 375 376 377\n",
      " 378 379 380 381 382 383 384 385 386 387 388 389 390 391 392 393 394 395\n",
      " 396 397 398 399 400 401 402 403 404 405 406 407 408 409 410 411 412 413\n",
      " 414 415 416 417 418 419 420 421 422 423 424 425 426 427 428 429 430 431\n",
      " 432 433 434 435 436 437 438 439 440 441 442 443 444 445 446 447 448 449\n",
      " 450 451 452 453 454 455 456 457 458 459 460 461 462 463 464 465 466 467\n",
      " 468 469 470 471 472 473 474 475 476 477 478 479 480 481 482 483 484 485\n",
      " 486 487 488 489 490 491 492 493 494 495 496 497 498 499 500] [501 502 503 504 505 506 507 508 509 510 511 512 513 514 515 516 517 518\n",
      " 519 520 521 522 523 524 525 526 527 528 529 530 531 532 533 534 535 536\n",
      " 537 538 539 540 541 542 543 544 545 546 547 548 549 550 551 552 553 554\n",
      " 555 556 557 558 559 560 561 562 563 564 565 566 567 568 569 570 571 572\n",
      " 573 574 575 576 577 578 579 580 581 582 583 584 585 586 587 588 589 590\n",
      " 591 592 593 594 595 596 597 598 599 600 601 602 603 604 605 606 607 608\n",
      " 609 610 611 612 613 614 615 616 617 618 619 620 621 622 623 624 625 626\n",
      " 627 628 629 630 631 632 633 634 635 636 637 638 639 640 641 642 643 644\n",
      " 645 646 647 648 649 650 651 652 653 654 655 656 657 658 659 660 661 662\n",
      " 663 664 665 666 667 668 669 670 671 672 673 674 675 676 677 678 679 680\n",
      " 681 682 683 684 685 686 687 688 689 690 691 692 693 694 695 696 697 698\n",
      " 699 700 701 702 703 704 705 706 707 708 709 710 711 712 713 714 715 716\n",
      " 717 718 719 720 721 722 723 724 725 726 727 728 729 730 731 732 733 734\n",
      " 735 736 737 738 739 740 741 742 743 744 745 746 747 748 749 750 751 752\n",
      " 753 754 755 756 757 758 759 760 761 762 763 764 765 766 767 768 769 770\n",
      " 771 772 773 774 775 776 777 778 779 780 781 782 783 784 785 786 787 788\n",
      " 789 790 791 792 793 794 795 796 797 798 799 800 801 802 803 804 805 806\n",
      " 807 808 809 810 811 812 813 814 815 816 817 818 819 820 821 822 823 824\n",
      " 825 826 827 828 829 830 831 832 833 834 835 836 837 838 839 840 841 842\n",
      " 843 844 845 846 847 848 849 850 851 852 853 854 855 856 857 858 859 860\n",
      " 861 862 863 864 865 866 867 868 869 870 871 872 873 874 875 876 877 878\n",
      " 879 880 881 882 883 884 885 886 887 888 889 890 891 892 893 894 895 896\n",
      " 897 898 899 900 901 902 903 904 905 906 907 908 909 910 911 912 913 914\n",
      " 915 916 917 918 919 920 921 922 923 924 925 926 927 928 929 930 931 932\n",
      " 933 934 935 936 937 938 939 940 941 942 943 944 945 946 947 948 949 950\n",
      " 951 952 953 954 955 956 957 958 959 960 961 962 963 964 965 966 967 968\n",
      " 969 970 971 972 973 974 975 976 977 978 979 980 981 982 983 984 985 986\n",
      " 987 988 989 990 991 992 993 994 995]\n",
      "[  0   1   2   3   4   5   6   7   8   9  10  11  12  13  14  15  16  17\n",
      "  18  19  20  21  22  23  24  25  26  27  28  29  30  31  32  33  34  35\n",
      "  36  37  38  39  40  41  42  43  44  45  46  47  48  49  50  51  52  53\n",
      "  54  55  56  57  58  59  60  61  62  63  64  65  66  67  68  69  70  71\n",
      "  72  73  74  75  76  77  78  79  80  81  82  83  84  85  86  87  88  89\n",
      "  90  91  92  93  94  95  96  97  98  99 100 101 102 103 104 105 106 107\n",
      " 108 109 110 111 112 113 114 115 116 117 118 119 120 121 122 123 124 125\n",
      " 126 127 128 129 130 131 132 133 134 135 136 137 138 139 140 141 142 143\n",
      " 144 145 146 147 148 149 150 151 152 153 154 155 156 157 158 159 160 161\n",
      " 162 163 164 165 166 167 168 169 170 171 172 173 174 175 176 177 178 179\n",
      " 180 181 182 183 184 185 186 187 188 189 190 191 192 193 194 195 196 197\n",
      " 198 199 200 201 202 203 204 205 206 207 208 209 210 211 212 213 214 215\n",
      " 216 217 218 219 220 221 222 223 224 225 226 227 228 229 230 231 232 233\n",
      " 234 235 236 237 238 239 240 241 242 243 244 245 246 247 248 249 250 251\n",
      " 252 253 254 255 256 257 258 259 260 261 262 263 264 265 266 267 268 269\n",
      " 270 271 272 273 274 275 276 277 278 279 280 281 282 283 284 285 286 287\n",
      " 288 289 290 291 292 293 294 295 296 297 298 299 300 301 302 303 304 305\n",
      " 306 307 308 309 310 311 312 313 314 315 316 317 318 319 320 321 322 323\n",
      " 324 325 326 327 328 329 330 331 332 333 334 335 336 337 338 339 340 341\n",
      " 342 343 344 345 346 347 348 349 350 351 352 353 354 355 356 357 358 359\n",
      " 360 361 362 363 364 365 366 367 368 369 370 371 372 373 374 375 376 377\n",
      " 378 379 380 381 382 383 384 385 386 387 388 389 390 391 392 393 394 395\n",
      " 396 397 398 399 400 401 402 403 404 405 406 407 408 409 410 411 412 413\n",
      " 414 415 416 417 418 419 420 421 422 423 424 425 426 427 428 429 430 431\n",
      " 432 433 434 435 436 437 438 439 440 441 442 443 444 445 446 447 448 449\n",
      " 450 451 452 453 454 455 456 457 458 459 460 461 462 463 464 465 466 467\n",
      " 468 469 470 471 472 473 474 475 476 477 478 479 480 481 482 483 484 485\n",
      " 486 487 488 489 490 491 492 493 494 495 496 497 498 499 500 501 502 503\n",
      " 504 505 506 507 508 509 510 511 512 513 514 515 516 517 518 519 520 521\n",
      " 522 523 524 525 526 527 528 529 530 531 532 533 534 535 536 537 538 539\n",
      " 540 541 542 543 544 545 546 547 548 549 550 551 552 553 554 555 556 557\n",
      " 558 559 560 561 562 563 564 565 566 567 568 569 570 571 572 573 574 575\n",
      " 576 577 578 579 580 581 582 583 584 585 586 587 588 589 590 591 592 593\n",
      " 594 595 596 597 598 599 600 601 602 603 604 605 606 607 608 609 610 611\n",
      " 612 613 614 615 616 617 618 619 620 621 622 623 624 625 626 627 628 629\n",
      " 630 631 632 633 634 635 636 637 638 639 640 641 642 643 644 645 646 647\n",
      " 648 649 650 651 652 653 654 655 656 657 658 659 660 661 662 663 664 665\n",
      " 666 667 668 669 670 671 672 673 674 675 676 677 678 679 680 681 682 683\n",
      " 684 685 686 687 688 689 690 691 692 693 694 695 696 697 698 699 700 701\n",
      " 702 703 704 705 706 707 708 709 710 711 712 713 714 715 716 717 718 719\n",
      " 720 721 722 723 724 725 726 727 728 729 730 731 732 733 734 735 736 737\n",
      " 738 739 740 741 742 743 744 745 746 747 748 749 750 751 752 753 754 755\n",
      " 756 757 758 759 760 761 762 763 764 765 766 767 768 769 770 771 772 773\n",
      " 774 775 776 777 778 779 780 781 782 783 784 785 786 787 788 789 790 791\n",
      " 792 793 794 795 796 797 798 799 800 801 802 803 804 805 806 807 808 809\n",
      " 810 811 812 813 814 815 816 817 818 819 820 821 822 823 824 825 826 827\n",
      " 828 829 830 831 832 833 834 835 836 837 838 839 840 841 842 843 844 845\n",
      " 846 847 848 849 850 851 852 853 854 855 856 857 858 859 860 861 862 863\n",
      " 864 865 866 867 868 869 870 871 872 873 874 875 876 877 878 879 880 881\n",
      " 882 883 884 885 886 887 888 889 890 891 892 893 894 895 896 897 898 899\n",
      " 900 901 902 903 904 905 906 907 908 909 910 911 912 913 914 915 916 917\n",
      " 918 919 920 921 922 923 924 925 926 927 928 929 930 931 932 933 934 935\n",
      " 936 937 938 939 940 941 942 943 944 945 946 947 948 949 950 951 952 953\n",
      " 954 955 956 957 958 959 960 961 962 963 964 965 966 967 968 969 970 971\n",
      " 972 973 974 975 976 977 978 979 980 981 982 983 984 985 986 987 988 989\n",
      " 990 991 992 993 994 995] [ 996  997  998  999 1000 1001 1002 1003 1004 1005 1006 1007 1008 1009\n",
      " 1010 1011 1012 1013 1014 1015 1016 1017 1018 1019 1020 1021 1022 1023\n",
      " 1024 1025 1026 1027 1028 1029 1030 1031 1032 1033 1034 1035 1036 1037\n",
      " 1038 1039 1040 1041 1042 1043 1044 1045 1046 1047 1048 1049 1050 1051\n",
      " 1052 1053 1054 1055 1056 1057 1058 1059 1060 1061 1062 1063 1064 1065\n",
      " 1066 1067 1068 1069 1070 1071 1072 1073 1074 1075 1076 1077 1078 1079\n",
      " 1080 1081 1082 1083 1084 1085 1086 1087 1088 1089 1090 1091 1092 1093\n",
      " 1094 1095 1096 1097 1098 1099 1100 1101 1102 1103 1104 1105 1106 1107\n",
      " 1108 1109 1110 1111 1112 1113 1114 1115 1116 1117 1118 1119 1120 1121\n",
      " 1122 1123 1124 1125 1126 1127 1128 1129 1130 1131 1132 1133 1134 1135\n",
      " 1136 1137 1138 1139 1140 1141 1142 1143 1144 1145 1146 1147 1148 1149\n",
      " 1150 1151 1152 1153 1154 1155 1156 1157 1158 1159 1160 1161 1162 1163\n",
      " 1164 1165 1166 1167 1168 1169 1170 1171 1172 1173 1174 1175 1176 1177\n",
      " 1178 1179 1180 1181 1182 1183 1184 1185 1186 1187 1188 1189 1190 1191\n",
      " 1192 1193 1194 1195 1196 1197 1198 1199 1200 1201 1202 1203 1204 1205\n",
      " 1206 1207 1208 1209 1210 1211 1212 1213 1214 1215 1216 1217 1218 1219\n",
      " 1220 1221 1222 1223 1224 1225 1226 1227 1228 1229 1230 1231 1232 1233\n",
      " 1234 1235 1236 1237 1238 1239 1240 1241 1242 1243 1244 1245 1246 1247\n",
      " 1248 1249 1250 1251 1252 1253 1254 1255 1256 1257 1258 1259 1260 1261\n",
      " 1262 1263 1264 1265 1266 1267 1268 1269 1270 1271 1272 1273 1274 1275\n",
      " 1276 1277 1278 1279 1280 1281 1282 1283 1284 1285 1286 1287 1288 1289\n",
      " 1290 1291 1292 1293 1294 1295 1296 1297 1298 1299 1300 1301 1302 1303\n",
      " 1304 1305 1306 1307 1308 1309 1310 1311 1312 1313 1314 1315 1316 1317\n",
      " 1318 1319 1320 1321 1322 1323 1324 1325 1326 1327 1328 1329 1330 1331\n",
      " 1332 1333 1334 1335 1336 1337 1338 1339 1340 1341 1342 1343 1344 1345\n",
      " 1346 1347 1348 1349 1350 1351 1352 1353 1354 1355 1356 1357 1358 1359\n",
      " 1360 1361 1362 1363 1364 1365 1366 1367 1368 1369 1370 1371 1372 1373\n",
      " 1374 1375 1376 1377 1378 1379 1380 1381 1382 1383 1384 1385 1386 1387\n",
      " 1388 1389 1390 1391 1392 1393 1394 1395 1396 1397 1398 1399 1400 1401\n",
      " 1402 1403 1404 1405 1406 1407 1408 1409 1410 1411 1412 1413 1414 1415\n",
      " 1416 1417 1418 1419 1420 1421 1422 1423 1424 1425 1426 1427 1428 1429\n",
      " 1430 1431 1432 1433 1434 1435 1436 1437 1438 1439 1440 1441 1442 1443\n",
      " 1444 1445 1446 1447 1448 1449 1450 1451 1452 1453 1454 1455 1456 1457\n",
      " 1458 1459 1460 1461 1462 1463 1464 1465 1466 1467 1468 1469 1470 1471\n",
      " 1472 1473 1474 1475 1476 1477 1478 1479 1480 1481 1482 1483 1484 1485\n",
      " 1486 1487 1488 1489 1490]\n",
      "[   0    1    2 ... 1488 1489 1490] [1491 1492 1493 1494 1495 1496 1497 1498 1499 1500 1501 1502 1503 1504\n",
      " 1505 1506 1507 1508 1509 1510 1511 1512 1513 1514 1515 1516 1517 1518\n",
      " 1519 1520 1521 1522 1523 1524 1525 1526 1527 1528 1529 1530 1531 1532\n",
      " 1533 1534 1535 1536 1537 1538 1539 1540 1541 1542 1543 1544 1545 1546\n",
      " 1547 1548 1549 1550 1551 1552 1553 1554 1555 1556 1557 1558 1559 1560\n",
      " 1561 1562 1563 1564 1565 1566 1567 1568 1569 1570 1571 1572 1573 1574\n",
      " 1575 1576 1577 1578 1579 1580 1581 1582 1583 1584 1585 1586 1587 1588\n",
      " 1589 1590 1591 1592 1593 1594 1595 1596 1597 1598 1599 1600 1601 1602\n",
      " 1603 1604 1605 1606 1607 1608 1609 1610 1611 1612 1613 1614 1615 1616\n",
      " 1617 1618 1619 1620 1621 1622 1623 1624 1625 1626 1627 1628 1629 1630\n",
      " 1631 1632 1633 1634 1635 1636 1637 1638 1639 1640 1641 1642 1643 1644\n",
      " 1645 1646 1647 1648 1649 1650 1651 1652 1653 1654 1655 1656 1657 1658\n",
      " 1659 1660 1661 1662 1663 1664 1665 1666 1667 1668 1669 1670 1671 1672\n",
      " 1673 1674 1675 1676 1677 1678 1679 1680 1681 1682 1683 1684 1685 1686\n",
      " 1687 1688 1689 1690 1691 1692 1693 1694 1695 1696 1697 1698 1699 1700\n",
      " 1701 1702 1703 1704 1705 1706 1707 1708 1709 1710 1711 1712 1713 1714\n",
      " 1715 1716 1717 1718 1719 1720 1721 1722 1723 1724 1725 1726 1727 1728\n",
      " 1729 1730 1731 1732 1733 1734 1735 1736 1737 1738 1739 1740 1741 1742\n",
      " 1743 1744 1745 1746 1747 1748 1749 1750 1751 1752 1753 1754 1755 1756\n",
      " 1757 1758 1759 1760 1761 1762 1763 1764 1765 1766 1767 1768 1769 1770\n",
      " 1771 1772 1773 1774 1775 1776 1777 1778 1779 1780 1781 1782 1783 1784\n",
      " 1785 1786 1787 1788 1789 1790 1791 1792 1793 1794 1795 1796 1797 1798\n",
      " 1799 1800 1801 1802 1803 1804 1805 1806 1807 1808 1809 1810 1811 1812\n",
      " 1813 1814 1815 1816 1817 1818 1819 1820 1821 1822 1823 1824 1825 1826\n",
      " 1827 1828 1829 1830 1831 1832 1833 1834 1835 1836 1837 1838 1839 1840\n",
      " 1841 1842 1843 1844 1845 1846 1847 1848 1849 1850 1851 1852 1853 1854\n",
      " 1855 1856 1857 1858 1859 1860 1861 1862 1863 1864 1865 1866 1867 1868\n",
      " 1869 1870 1871 1872 1873 1874 1875 1876 1877 1878 1879 1880 1881 1882\n",
      " 1883 1884 1885 1886 1887 1888 1889 1890 1891 1892 1893 1894 1895 1896\n",
      " 1897 1898 1899 1900 1901 1902 1903 1904 1905 1906 1907 1908 1909 1910\n",
      " 1911 1912 1913 1914 1915 1916 1917 1918 1919 1920 1921 1922 1923 1924\n",
      " 1925 1926 1927 1928 1929 1930 1931 1932 1933 1934 1935 1936 1937 1938\n",
      " 1939 1940 1941 1942 1943 1944 1945 1946 1947 1948 1949 1950 1951 1952\n",
      " 1953 1954 1955 1956 1957 1958 1959 1960 1961 1962 1963 1964 1965 1966\n",
      " 1967 1968 1969 1970 1971 1972 1973 1974 1975 1976 1977 1978 1979 1980\n",
      " 1981 1982 1983 1984 1985]\n",
      "[   0    1    2 ... 1983 1984 1985] [1986 1987 1988 1989 1990 1991 1992 1993 1994 1995 1996 1997 1998 1999\n",
      " 2000 2001 2002 2003 2004 2005 2006 2007 2008 2009 2010 2011 2012 2013\n",
      " 2014 2015 2016 2017 2018 2019 2020 2021 2022 2023 2024 2025 2026 2027\n",
      " 2028 2029 2030 2031 2032 2033 2034 2035 2036 2037 2038 2039 2040 2041\n",
      " 2042 2043 2044 2045 2046 2047 2048 2049 2050 2051 2052 2053 2054 2055\n",
      " 2056 2057 2058 2059 2060 2061 2062 2063 2064 2065 2066 2067 2068 2069\n",
      " 2070 2071 2072 2073 2074 2075 2076 2077 2078 2079 2080 2081 2082 2083\n",
      " 2084 2085 2086 2087 2088 2089 2090 2091 2092 2093 2094 2095 2096 2097\n",
      " 2098 2099 2100 2101 2102 2103 2104 2105 2106 2107 2108 2109 2110 2111\n",
      " 2112 2113 2114 2115 2116 2117 2118 2119 2120 2121 2122 2123 2124 2125\n",
      " 2126 2127 2128 2129 2130 2131 2132 2133 2134 2135 2136 2137 2138 2139\n",
      " 2140 2141 2142 2143 2144 2145 2146 2147 2148 2149 2150 2151 2152 2153\n",
      " 2154 2155 2156 2157 2158 2159 2160 2161 2162 2163 2164 2165 2166 2167\n",
      " 2168 2169 2170 2171 2172 2173 2174 2175 2176 2177 2178 2179 2180 2181\n",
      " 2182 2183 2184 2185 2186 2187 2188 2189 2190 2191 2192 2193 2194 2195\n",
      " 2196 2197 2198 2199 2200 2201 2202 2203 2204 2205 2206 2207 2208 2209\n",
      " 2210 2211 2212 2213 2214 2215 2216 2217 2218 2219 2220 2221 2222 2223\n",
      " 2224 2225 2226 2227 2228 2229 2230 2231 2232 2233 2234 2235 2236 2237\n",
      " 2238 2239 2240 2241 2242 2243 2244 2245 2246 2247 2248 2249 2250 2251\n",
      " 2252 2253 2254 2255 2256 2257 2258 2259 2260 2261 2262 2263 2264 2265\n",
      " 2266 2267 2268 2269 2270 2271 2272 2273 2274 2275 2276 2277 2278 2279\n",
      " 2280 2281 2282 2283 2284 2285 2286 2287 2288 2289 2290 2291 2292 2293\n",
      " 2294 2295 2296 2297 2298 2299 2300 2301 2302 2303 2304 2305 2306 2307\n",
      " 2308 2309 2310 2311 2312 2313 2314 2315 2316 2317 2318 2319 2320 2321\n",
      " 2322 2323 2324 2325 2326 2327 2328 2329 2330 2331 2332 2333 2334 2335\n",
      " 2336 2337 2338 2339 2340 2341 2342 2343 2344 2345 2346 2347 2348 2349\n",
      " 2350 2351 2352 2353 2354 2355 2356 2357 2358 2359 2360 2361 2362 2363\n",
      " 2364 2365 2366 2367 2368 2369 2370 2371 2372 2373 2374 2375 2376 2377\n",
      " 2378 2379 2380 2381 2382 2383 2384 2385 2386 2387 2388 2389 2390 2391\n",
      " 2392 2393 2394 2395 2396 2397 2398 2399 2400 2401 2402 2403 2404 2405\n",
      " 2406 2407 2408 2409 2410 2411 2412 2413 2414 2415 2416 2417 2418 2419\n",
      " 2420 2421 2422 2423 2424 2425 2426 2427 2428 2429 2430 2431 2432 2433\n",
      " 2434 2435 2436 2437 2438 2439 2440 2441 2442 2443 2444 2445 2446 2447\n",
      " 2448 2449 2450 2451 2452 2453 2454 2455 2456 2457 2458 2459 2460 2461\n",
      " 2462 2463 2464 2465 2466 2467 2468 2469 2470 2471 2472 2473 2474 2475\n",
      " 2476 2477 2478 2479 2480]\n",
      "[   0    1    2 ... 2478 2479 2480] [2481 2482 2483 2484 2485 2486 2487 2488 2489 2490 2491 2492 2493 2494\n",
      " 2495 2496 2497 2498 2499 2500 2501 2502 2503 2504 2505 2506 2507 2508\n",
      " 2509 2510 2511 2512 2513 2514 2515 2516 2517 2518 2519 2520 2521 2522\n",
      " 2523 2524 2525 2526 2527 2528 2529 2530 2531 2532 2533 2534 2535 2536\n",
      " 2537 2538 2539 2540 2541 2542 2543 2544 2545 2546 2547 2548 2549 2550\n",
      " 2551 2552 2553 2554 2555 2556 2557 2558 2559 2560 2561 2562 2563 2564\n",
      " 2565 2566 2567 2568 2569 2570 2571 2572 2573 2574 2575 2576 2577 2578\n",
      " 2579 2580 2581 2582 2583 2584 2585 2586 2587 2588 2589 2590 2591 2592\n",
      " 2593 2594 2595 2596 2597 2598 2599 2600 2601 2602 2603 2604 2605 2606\n",
      " 2607 2608 2609 2610 2611 2612 2613 2614 2615 2616 2617 2618 2619 2620\n",
      " 2621 2622 2623 2624 2625 2626 2627 2628 2629 2630 2631 2632 2633 2634\n",
      " 2635 2636 2637 2638 2639 2640 2641 2642 2643 2644 2645 2646 2647 2648\n",
      " 2649 2650 2651 2652 2653 2654 2655 2656 2657 2658 2659 2660 2661 2662\n",
      " 2663 2664 2665 2666 2667 2668 2669 2670 2671 2672 2673 2674 2675 2676\n",
      " 2677 2678 2679 2680 2681 2682 2683 2684 2685 2686 2687 2688 2689 2690\n",
      " 2691 2692 2693 2694 2695 2696 2697 2698 2699 2700 2701 2702 2703 2704\n",
      " 2705 2706 2707 2708 2709 2710 2711 2712 2713 2714 2715 2716 2717 2718\n",
      " 2719 2720 2721 2722 2723 2724 2725 2726 2727 2728 2729 2730 2731 2732\n",
      " 2733 2734 2735 2736 2737 2738 2739 2740 2741 2742 2743 2744 2745 2746\n",
      " 2747 2748 2749 2750 2751 2752 2753 2754 2755 2756 2757 2758 2759 2760\n",
      " 2761 2762 2763 2764 2765 2766 2767 2768 2769 2770 2771 2772 2773 2774\n",
      " 2775 2776 2777 2778 2779 2780 2781 2782 2783 2784 2785 2786 2787 2788\n",
      " 2789 2790 2791 2792 2793 2794 2795 2796 2797 2798 2799 2800 2801 2802\n",
      " 2803 2804 2805 2806 2807 2808 2809 2810 2811 2812 2813 2814 2815 2816\n",
      " 2817 2818 2819 2820 2821 2822 2823 2824 2825 2826 2827 2828 2829 2830\n",
      " 2831 2832 2833 2834 2835 2836 2837 2838 2839 2840 2841 2842 2843 2844\n",
      " 2845 2846 2847 2848 2849 2850 2851 2852 2853 2854 2855 2856 2857 2858\n",
      " 2859 2860 2861 2862 2863 2864 2865 2866 2867 2868 2869 2870 2871 2872\n",
      " 2873 2874 2875 2876 2877 2878 2879 2880 2881 2882 2883 2884 2885 2886\n",
      " 2887 2888 2889 2890 2891 2892 2893 2894 2895 2896 2897 2898 2899 2900\n",
      " 2901 2902 2903 2904 2905 2906 2907 2908 2909 2910 2911 2912 2913 2914\n",
      " 2915 2916 2917 2918 2919 2920 2921 2922 2923 2924 2925 2926 2927 2928\n",
      " 2929 2930 2931 2932 2933 2934 2935 2936 2937 2938 2939 2940 2941 2942\n",
      " 2943 2944 2945 2946 2947 2948 2949 2950 2951 2952 2953 2954 2955 2956\n",
      " 2957 2958 2959 2960 2961 2962 2963 2964 2965 2966 2967 2968 2969 2970\n",
      " 2971 2972 2973 2974 2975]\n",
      "[   0    1    2 ... 2973 2974 2975] [2976 2977 2978 2979 2980 2981 2982 2983 2984 2985 2986 2987 2988 2989\n",
      " 2990 2991 2992 2993 2994 2995 2996 2997 2998 2999 3000 3001 3002 3003\n",
      " 3004 3005 3006 3007 3008 3009 3010 3011 3012 3013 3014 3015 3016 3017\n",
      " 3018 3019 3020 3021 3022 3023 3024 3025 3026 3027 3028 3029 3030 3031\n",
      " 3032 3033 3034 3035 3036 3037 3038 3039 3040 3041 3042 3043 3044 3045\n",
      " 3046 3047 3048 3049 3050 3051 3052 3053 3054 3055 3056 3057 3058 3059\n",
      " 3060 3061 3062 3063 3064 3065 3066 3067 3068 3069 3070 3071 3072 3073\n",
      " 3074 3075 3076 3077 3078 3079 3080 3081 3082 3083 3084 3085 3086 3087\n",
      " 3088 3089 3090 3091 3092 3093 3094 3095 3096 3097 3098 3099 3100 3101\n",
      " 3102 3103 3104 3105 3106 3107 3108 3109 3110 3111 3112 3113 3114 3115\n",
      " 3116 3117 3118 3119 3120 3121 3122 3123 3124 3125 3126 3127 3128 3129\n",
      " 3130 3131 3132 3133 3134 3135 3136 3137 3138 3139 3140 3141 3142 3143\n",
      " 3144 3145 3146 3147 3148 3149 3150 3151 3152 3153 3154 3155 3156 3157\n",
      " 3158 3159 3160 3161 3162 3163 3164 3165 3166 3167 3168 3169 3170 3171\n",
      " 3172 3173 3174 3175 3176 3177 3178 3179 3180 3181 3182 3183 3184 3185\n",
      " 3186 3187 3188 3189 3190 3191 3192 3193 3194 3195 3196 3197 3198 3199\n",
      " 3200 3201 3202 3203 3204 3205 3206 3207 3208 3209 3210 3211 3212 3213\n",
      " 3214 3215 3216 3217 3218 3219 3220 3221 3222 3223 3224 3225 3226 3227\n",
      " 3228 3229 3230 3231 3232 3233 3234 3235 3236 3237 3238 3239 3240 3241\n",
      " 3242 3243 3244 3245 3246 3247 3248 3249 3250 3251 3252 3253 3254 3255\n",
      " 3256 3257 3258 3259 3260 3261 3262 3263 3264 3265 3266 3267 3268 3269\n",
      " 3270 3271 3272 3273 3274 3275 3276 3277 3278 3279 3280 3281 3282 3283\n",
      " 3284 3285 3286 3287 3288 3289 3290 3291 3292 3293 3294 3295 3296 3297\n",
      " 3298 3299 3300 3301 3302 3303 3304 3305 3306 3307 3308 3309 3310 3311\n",
      " 3312 3313 3314 3315 3316 3317 3318 3319 3320 3321 3322 3323 3324 3325\n",
      " 3326 3327 3328 3329 3330 3331 3332 3333 3334 3335 3336 3337 3338 3339\n",
      " 3340 3341 3342 3343 3344 3345 3346 3347 3348 3349 3350 3351 3352 3353\n",
      " 3354 3355 3356 3357 3358 3359 3360 3361 3362 3363 3364 3365 3366 3367\n",
      " 3368 3369 3370 3371 3372 3373 3374 3375 3376 3377 3378 3379 3380 3381\n",
      " 3382 3383 3384 3385 3386 3387 3388 3389 3390 3391 3392 3393 3394 3395\n",
      " 3396 3397 3398 3399 3400 3401 3402 3403 3404 3405 3406 3407 3408 3409\n",
      " 3410 3411 3412 3413 3414 3415 3416 3417 3418 3419 3420 3421 3422 3423\n",
      " 3424 3425 3426 3427 3428 3429 3430 3431 3432 3433 3434 3435 3436 3437\n",
      " 3438 3439 3440 3441 3442 3443 3444 3445 3446 3447 3448 3449 3450 3451\n",
      " 3452 3453 3454 3455 3456 3457 3458 3459 3460 3461 3462 3463 3464 3465\n",
      " 3466 3467 3468 3469 3470]\n",
      "[   0    1    2 ... 3468 3469 3470] [3471 3472 3473 3474 3475 3476 3477 3478 3479 3480 3481 3482 3483 3484\n",
      " 3485 3486 3487 3488 3489 3490 3491 3492 3493 3494 3495 3496 3497 3498\n",
      " 3499 3500 3501 3502 3503 3504 3505 3506 3507 3508 3509 3510 3511 3512\n",
      " 3513 3514 3515 3516 3517 3518 3519 3520 3521 3522 3523 3524 3525 3526\n",
      " 3527 3528 3529 3530 3531 3532 3533 3534 3535 3536 3537 3538 3539 3540\n",
      " 3541 3542 3543 3544 3545 3546 3547 3548 3549 3550 3551 3552 3553 3554\n",
      " 3555 3556 3557 3558 3559 3560 3561 3562 3563 3564 3565 3566 3567 3568\n",
      " 3569 3570 3571 3572 3573 3574 3575 3576 3577 3578 3579 3580 3581 3582\n",
      " 3583 3584 3585 3586 3587 3588 3589 3590 3591 3592 3593 3594 3595 3596\n",
      " 3597 3598 3599 3600 3601 3602 3603 3604 3605 3606 3607 3608 3609 3610\n",
      " 3611 3612 3613 3614 3615 3616 3617 3618 3619 3620 3621 3622 3623 3624\n",
      " 3625 3626 3627 3628 3629 3630 3631 3632 3633 3634 3635 3636 3637 3638\n",
      " 3639 3640 3641 3642 3643 3644 3645 3646 3647 3648 3649 3650 3651 3652\n",
      " 3653 3654 3655 3656 3657 3658 3659 3660 3661 3662 3663 3664 3665 3666\n",
      " 3667 3668 3669 3670 3671 3672 3673 3674 3675 3676 3677 3678 3679 3680\n",
      " 3681 3682 3683 3684 3685 3686 3687 3688 3689 3690 3691 3692 3693 3694\n",
      " 3695 3696 3697 3698 3699 3700 3701 3702 3703 3704 3705 3706 3707 3708\n",
      " 3709 3710 3711 3712 3713 3714 3715 3716 3717 3718 3719 3720 3721 3722\n",
      " 3723 3724 3725 3726 3727 3728 3729 3730 3731 3732 3733 3734 3735 3736\n",
      " 3737 3738 3739 3740 3741 3742 3743 3744 3745 3746 3747 3748 3749 3750\n",
      " 3751 3752 3753 3754 3755 3756 3757 3758 3759 3760 3761 3762 3763 3764\n",
      " 3765 3766 3767 3768 3769 3770 3771 3772 3773 3774 3775 3776 3777 3778\n",
      " 3779 3780 3781 3782 3783 3784 3785 3786 3787 3788 3789 3790 3791 3792\n",
      " 3793 3794 3795 3796 3797 3798 3799 3800 3801 3802 3803 3804 3805 3806\n",
      " 3807 3808 3809 3810 3811 3812 3813 3814 3815 3816 3817 3818 3819 3820\n",
      " 3821 3822 3823 3824 3825 3826 3827 3828 3829 3830 3831 3832 3833 3834\n",
      " 3835 3836 3837 3838 3839 3840 3841 3842 3843 3844 3845 3846 3847 3848\n",
      " 3849 3850 3851 3852 3853 3854 3855 3856 3857 3858 3859 3860 3861 3862\n",
      " 3863 3864 3865 3866 3867 3868 3869 3870 3871 3872 3873 3874 3875 3876\n",
      " 3877 3878 3879 3880 3881 3882 3883 3884 3885 3886 3887 3888 3889 3890\n",
      " 3891 3892 3893 3894 3895 3896 3897 3898 3899 3900 3901 3902 3903 3904\n",
      " 3905 3906 3907 3908 3909 3910 3911 3912 3913 3914 3915 3916 3917 3918\n",
      " 3919 3920 3921 3922 3923 3924 3925 3926 3927 3928 3929 3930 3931 3932\n",
      " 3933 3934 3935 3936 3937 3938 3939 3940 3941 3942 3943 3944 3945 3946\n",
      " 3947 3948 3949 3950 3951 3952 3953 3954 3955 3956 3957 3958 3959 3960\n",
      " 3961 3962 3963 3964 3965]\n",
      "[   0    1    2 ... 3963 3964 3965] [3966 3967 3968 3969 3970 3971 3972 3973 3974 3975 3976 3977 3978 3979\n",
      " 3980 3981 3982 3983 3984 3985 3986 3987 3988 3989 3990 3991 3992 3993\n",
      " 3994 3995 3996 3997 3998 3999 4000 4001 4002 4003 4004 4005 4006 4007\n",
      " 4008 4009 4010 4011 4012 4013 4014 4015 4016 4017 4018 4019 4020 4021\n",
      " 4022 4023 4024 4025 4026 4027 4028 4029 4030 4031 4032 4033 4034 4035\n",
      " 4036 4037 4038 4039 4040 4041 4042 4043 4044 4045 4046 4047 4048 4049\n",
      " 4050 4051 4052 4053 4054 4055 4056 4057 4058 4059 4060 4061 4062 4063\n",
      " 4064 4065 4066 4067 4068 4069 4070 4071 4072 4073 4074 4075 4076 4077\n",
      " 4078 4079 4080 4081 4082 4083 4084 4085 4086 4087 4088 4089 4090 4091\n",
      " 4092 4093 4094 4095 4096 4097 4098 4099 4100 4101 4102 4103 4104 4105\n",
      " 4106 4107 4108 4109 4110 4111 4112 4113 4114 4115 4116 4117 4118 4119\n",
      " 4120 4121 4122 4123 4124 4125 4126 4127 4128 4129 4130 4131 4132 4133\n",
      " 4134 4135 4136 4137 4138 4139 4140 4141 4142 4143 4144 4145 4146 4147\n",
      " 4148 4149 4150 4151 4152 4153 4154 4155 4156 4157 4158 4159 4160 4161\n",
      " 4162 4163 4164 4165 4166 4167 4168 4169 4170 4171 4172 4173 4174 4175\n",
      " 4176 4177 4178 4179 4180 4181 4182 4183 4184 4185 4186 4187 4188 4189\n",
      " 4190 4191 4192 4193 4194 4195 4196 4197 4198 4199 4200 4201 4202 4203\n",
      " 4204 4205 4206 4207 4208 4209 4210 4211 4212 4213 4214 4215 4216 4217\n",
      " 4218 4219 4220 4221 4222 4223 4224 4225 4226 4227 4228 4229 4230 4231\n",
      " 4232 4233 4234 4235 4236 4237 4238 4239 4240 4241 4242 4243 4244 4245\n",
      " 4246 4247 4248 4249 4250 4251 4252 4253 4254 4255 4256 4257 4258 4259\n",
      " 4260 4261 4262 4263 4264 4265 4266 4267 4268 4269 4270 4271 4272 4273\n",
      " 4274 4275 4276 4277 4278 4279 4280 4281 4282 4283 4284 4285 4286 4287\n",
      " 4288 4289 4290 4291 4292 4293 4294 4295 4296 4297 4298 4299 4300 4301\n",
      " 4302 4303 4304 4305 4306 4307 4308 4309 4310 4311 4312 4313 4314 4315\n",
      " 4316 4317 4318 4319 4320 4321 4322 4323 4324 4325 4326 4327 4328 4329\n",
      " 4330 4331 4332 4333 4334 4335 4336 4337 4338 4339 4340 4341 4342 4343\n",
      " 4344 4345 4346 4347 4348 4349 4350 4351 4352 4353 4354 4355 4356 4357\n",
      " 4358 4359 4360 4361 4362 4363 4364 4365 4366 4367 4368 4369 4370 4371\n",
      " 4372 4373 4374 4375 4376 4377 4378 4379 4380 4381 4382 4383 4384 4385\n",
      " 4386 4387 4388 4389 4390 4391 4392 4393 4394 4395 4396 4397 4398 4399\n",
      " 4400 4401 4402 4403 4404 4405 4406 4407 4408 4409 4410 4411 4412 4413\n",
      " 4414 4415 4416 4417 4418 4419 4420 4421 4422 4423 4424 4425 4426 4427\n",
      " 4428 4429 4430 4431 4432 4433 4434 4435 4436 4437 4438 4439 4440 4441\n",
      " 4442 4443 4444 4445 4446 4447 4448 4449 4450 4451 4452 4453 4454 4455\n",
      " 4456 4457 4458 4459 4460]\n",
      "[   0    1    2 ... 4458 4459 4460] [4461 4462 4463 4464 4465 4466 4467 4468 4469 4470 4471 4472 4473 4474\n",
      " 4475 4476 4477 4478 4479 4480 4481 4482 4483 4484 4485 4486 4487 4488\n",
      " 4489 4490 4491 4492 4493 4494 4495 4496 4497 4498 4499 4500 4501 4502\n",
      " 4503 4504 4505 4506 4507 4508 4509 4510 4511 4512 4513 4514 4515 4516\n",
      " 4517 4518 4519 4520 4521 4522 4523 4524 4525 4526 4527 4528 4529 4530\n",
      " 4531 4532 4533 4534 4535 4536 4537 4538 4539 4540 4541 4542 4543 4544\n",
      " 4545 4546 4547 4548 4549 4550 4551 4552 4553 4554 4555 4556 4557 4558\n",
      " 4559 4560 4561 4562 4563 4564 4565 4566 4567 4568 4569 4570 4571 4572\n",
      " 4573 4574 4575 4576 4577 4578 4579 4580 4581 4582 4583 4584 4585 4586\n",
      " 4587 4588 4589 4590 4591 4592 4593 4594 4595 4596 4597 4598 4599 4600\n",
      " 4601 4602 4603 4604 4605 4606 4607 4608 4609 4610 4611 4612 4613 4614\n",
      " 4615 4616 4617 4618 4619 4620 4621 4622 4623 4624 4625 4626 4627 4628\n",
      " 4629 4630 4631 4632 4633 4634 4635 4636 4637 4638 4639 4640 4641 4642\n",
      " 4643 4644 4645 4646 4647 4648 4649 4650 4651 4652 4653 4654 4655 4656\n",
      " 4657 4658 4659 4660 4661 4662 4663 4664 4665 4666 4667 4668 4669 4670\n",
      " 4671 4672 4673 4674 4675 4676 4677 4678 4679 4680 4681 4682 4683 4684\n",
      " 4685 4686 4687 4688 4689 4690 4691 4692 4693 4694 4695 4696 4697 4698\n",
      " 4699 4700 4701 4702 4703 4704 4705 4706 4707 4708 4709 4710 4711 4712\n",
      " 4713 4714 4715 4716 4717 4718 4719 4720 4721 4722 4723 4724 4725 4726\n",
      " 4727 4728 4729 4730 4731 4732 4733 4734 4735 4736 4737 4738 4739 4740\n",
      " 4741 4742 4743 4744 4745 4746 4747 4748 4749 4750 4751 4752 4753 4754\n",
      " 4755 4756 4757 4758 4759 4760 4761 4762 4763 4764 4765 4766 4767 4768\n",
      " 4769 4770 4771 4772 4773 4774 4775 4776 4777 4778 4779 4780 4781 4782\n",
      " 4783 4784 4785 4786 4787 4788 4789 4790 4791 4792 4793 4794 4795 4796\n",
      " 4797 4798 4799 4800 4801 4802 4803 4804 4805 4806 4807 4808 4809 4810\n",
      " 4811 4812 4813 4814 4815 4816 4817 4818 4819 4820 4821 4822 4823 4824\n",
      " 4825 4826 4827 4828 4829 4830 4831 4832 4833 4834 4835 4836 4837 4838\n",
      " 4839 4840 4841 4842 4843 4844 4845 4846 4847 4848 4849 4850 4851 4852\n",
      " 4853 4854 4855 4856 4857 4858 4859 4860 4861 4862 4863 4864 4865 4866\n",
      " 4867 4868 4869 4870 4871 4872 4873 4874 4875 4876 4877 4878 4879 4880\n",
      " 4881 4882 4883 4884 4885 4886 4887 4888 4889 4890 4891 4892 4893 4894\n",
      " 4895 4896 4897 4898 4899 4900 4901 4902 4903 4904 4905 4906 4907 4908\n",
      " 4909 4910 4911 4912 4913 4914 4915 4916 4917 4918 4919 4920 4921 4922\n",
      " 4923 4924 4925 4926 4927 4928 4929 4930 4931 4932 4933 4934 4935 4936\n",
      " 4937 4938 4939 4940 4941 4942 4943 4944 4945 4946 4947 4948 4949 4950\n",
      " 4951 4952 4953 4954 4955]\n",
      "[   0    1    2 ... 4953 4954 4955] [4956 4957 4958 4959 4960 4961 4962 4963 4964 4965 4966 4967 4968 4969\n",
      " 4970 4971 4972 4973 4974 4975 4976 4977 4978 4979 4980 4981 4982 4983\n",
      " 4984 4985 4986 4987 4988 4989 4990 4991 4992 4993 4994 4995 4996 4997\n",
      " 4998 4999 5000 5001 5002 5003 5004 5005 5006 5007 5008 5009 5010 5011\n",
      " 5012 5013 5014 5015 5016 5017 5018 5019 5020 5021 5022 5023 5024 5025\n",
      " 5026 5027 5028 5029 5030 5031 5032 5033 5034 5035 5036 5037 5038 5039\n",
      " 5040 5041 5042 5043 5044 5045 5046 5047 5048 5049 5050 5051 5052 5053\n",
      " 5054 5055 5056 5057 5058 5059 5060 5061 5062 5063 5064 5065 5066 5067\n",
      " 5068 5069 5070 5071 5072 5073 5074 5075 5076 5077 5078 5079 5080 5081\n",
      " 5082 5083 5084 5085 5086 5087 5088 5089 5090 5091 5092 5093 5094 5095\n",
      " 5096 5097 5098 5099 5100 5101 5102 5103 5104 5105 5106 5107 5108 5109\n",
      " 5110 5111 5112 5113 5114 5115 5116 5117 5118 5119 5120 5121 5122 5123\n",
      " 5124 5125 5126 5127 5128 5129 5130 5131 5132 5133 5134 5135 5136 5137\n",
      " 5138 5139 5140 5141 5142 5143 5144 5145 5146 5147 5148 5149 5150 5151\n",
      " 5152 5153 5154 5155 5156 5157 5158 5159 5160 5161 5162 5163 5164 5165\n",
      " 5166 5167 5168 5169 5170 5171 5172 5173 5174 5175 5176 5177 5178 5179\n",
      " 5180 5181 5182 5183 5184 5185 5186 5187 5188 5189 5190 5191 5192 5193\n",
      " 5194 5195 5196 5197 5198 5199 5200 5201 5202 5203 5204 5205 5206 5207\n",
      " 5208 5209 5210 5211 5212 5213 5214 5215 5216 5217 5218 5219 5220 5221\n",
      " 5222 5223 5224 5225 5226 5227 5228 5229 5230 5231 5232 5233 5234 5235\n",
      " 5236 5237 5238 5239 5240 5241 5242 5243 5244 5245 5246 5247 5248 5249\n",
      " 5250 5251 5252 5253 5254 5255 5256 5257 5258 5259 5260 5261 5262 5263\n",
      " 5264 5265 5266 5267 5268 5269 5270 5271 5272 5273 5274 5275 5276 5277\n",
      " 5278 5279 5280 5281 5282 5283 5284 5285 5286 5287 5288 5289 5290 5291\n",
      " 5292 5293 5294 5295 5296 5297 5298 5299 5300 5301 5302 5303 5304 5305\n",
      " 5306 5307 5308 5309 5310 5311 5312 5313 5314 5315 5316 5317 5318 5319\n",
      " 5320 5321 5322 5323 5324 5325 5326 5327 5328 5329 5330 5331 5332 5333\n",
      " 5334 5335 5336 5337 5338 5339 5340 5341 5342 5343 5344 5345 5346 5347\n",
      " 5348 5349 5350 5351 5352 5353 5354 5355 5356 5357 5358 5359 5360 5361\n",
      " 5362 5363 5364 5365 5366 5367 5368 5369 5370 5371 5372 5373 5374 5375\n",
      " 5376 5377 5378 5379 5380 5381 5382 5383 5384 5385 5386 5387 5388 5389\n",
      " 5390 5391 5392 5393 5394 5395 5396 5397 5398 5399 5400 5401 5402 5403\n",
      " 5404 5405 5406 5407 5408 5409 5410 5411 5412 5413 5414 5415 5416 5417\n",
      " 5418 5419 5420 5421 5422 5423 5424 5425 5426 5427 5428 5429 5430 5431\n",
      " 5432 5433 5434 5435 5436 5437 5438 5439 5440 5441 5442 5443 5444 5445\n",
      " 5446 5447 5448 5449 5450]\n"
     ]
    }
   ],
   "source": [
    "#To show how Time Series Split splits the data\n",
    "from sklearn.model_selection import TimeSeriesSplit\n",
    "tscv3 = TimeSeriesSplit(n_splits=10)\n",
    "for train, cv in tscv1.split(train_avgw2v):\n",
    "    print(\"%s %s\" % (train, cv))\n",
    "#    print(x_tr_final_counts_bigram[train].shape,x_tr_final_counts_bigram[cv].shape)"
   ]
  },
  {
   "cell_type": "code",
   "execution_count": 80,
   "metadata": {},
   "outputs": [
    {
     "name": "stdout",
     "output_type": "stream",
     "text": [
      "Fitting 10 folds for each of 10 candidates, totalling 100 fits\n"
     ]
    },
    {
     "name": "stderr",
     "output_type": "stream",
     "text": [
      "[Parallel(n_jobs=1)]: Using backend SequentialBackend with 1 concurrent workers.\n",
      "C:\\Users\\hemant\\AnacondaNew\\lib\\site-packages\\sklearn\\svm\\_base.py:947: ConvergenceWarning: Liblinear failed to converge, increase the number of iterations.\n",
      "  \"the number of iterations.\", ConvergenceWarning)\n",
      "C:\\Users\\hemant\\AnacondaNew\\lib\\site-packages\\sklearn\\svm\\_base.py:947: ConvergenceWarning: Liblinear failed to converge, increase the number of iterations.\n",
      "  \"the number of iterations.\", ConvergenceWarning)\n",
      "C:\\Users\\hemant\\AnacondaNew\\lib\\site-packages\\sklearn\\svm\\_base.py:947: ConvergenceWarning: Liblinear failed to converge, increase the number of iterations.\n",
      "  \"the number of iterations.\", ConvergenceWarning)\n",
      "C:\\Users\\hemant\\AnacondaNew\\lib\\site-packages\\sklearn\\svm\\_base.py:947: ConvergenceWarning: Liblinear failed to converge, increase the number of iterations.\n",
      "  \"the number of iterations.\", ConvergenceWarning)\n",
      "C:\\Users\\hemant\\AnacondaNew\\lib\\site-packages\\sklearn\\svm\\_base.py:947: ConvergenceWarning: Liblinear failed to converge, increase the number of iterations.\n",
      "  \"the number of iterations.\", ConvergenceWarning)\n",
      "C:\\Users\\hemant\\AnacondaNew\\lib\\site-packages\\sklearn\\svm\\_base.py:947: ConvergenceWarning: Liblinear failed to converge, increase the number of iterations.\n",
      "  \"the number of iterations.\", ConvergenceWarning)\n",
      "C:\\Users\\hemant\\AnacondaNew\\lib\\site-packages\\sklearn\\svm\\_base.py:947: ConvergenceWarning: Liblinear failed to converge, increase the number of iterations.\n",
      "  \"the number of iterations.\", ConvergenceWarning)\n",
      "C:\\Users\\hemant\\AnacondaNew\\lib\\site-packages\\sklearn\\svm\\_base.py:947: ConvergenceWarning: Liblinear failed to converge, increase the number of iterations.\n",
      "  \"the number of iterations.\", ConvergenceWarning)\n",
      "C:\\Users\\hemant\\AnacondaNew\\lib\\site-packages\\sklearn\\svm\\_base.py:947: ConvergenceWarning: Liblinear failed to converge, increase the number of iterations.\n",
      "  \"the number of iterations.\", ConvergenceWarning)\n",
      "C:\\Users\\hemant\\AnacondaNew\\lib\\site-packages\\sklearn\\svm\\_base.py:947: ConvergenceWarning: Liblinear failed to converge, increase the number of iterations.\n",
      "  \"the number of iterations.\", ConvergenceWarning)\n",
      "C:\\Users\\hemant\\AnacondaNew\\lib\\site-packages\\sklearn\\svm\\_base.py:947: ConvergenceWarning: Liblinear failed to converge, increase the number of iterations.\n",
      "  \"the number of iterations.\", ConvergenceWarning)\n",
      "C:\\Users\\hemant\\AnacondaNew\\lib\\site-packages\\sklearn\\svm\\_base.py:947: ConvergenceWarning: Liblinear failed to converge, increase the number of iterations.\n",
      "  \"the number of iterations.\", ConvergenceWarning)\n",
      "C:\\Users\\hemant\\AnacondaNew\\lib\\site-packages\\sklearn\\svm\\_base.py:947: ConvergenceWarning: Liblinear failed to converge, increase the number of iterations.\n",
      "  \"the number of iterations.\", ConvergenceWarning)\n",
      "C:\\Users\\hemant\\AnacondaNew\\lib\\site-packages\\sklearn\\svm\\_base.py:947: ConvergenceWarning: Liblinear failed to converge, increase the number of iterations.\n",
      "  \"the number of iterations.\", ConvergenceWarning)\n",
      "C:\\Users\\hemant\\AnacondaNew\\lib\\site-packages\\sklearn\\svm\\_base.py:947: ConvergenceWarning: Liblinear failed to converge, increase the number of iterations.\n",
      "  \"the number of iterations.\", ConvergenceWarning)\n",
      "C:\\Users\\hemant\\AnacondaNew\\lib\\site-packages\\sklearn\\svm\\_base.py:947: ConvergenceWarning: Liblinear failed to converge, increase the number of iterations.\n",
      "  \"the number of iterations.\", ConvergenceWarning)\n",
      "C:\\Users\\hemant\\AnacondaNew\\lib\\site-packages\\sklearn\\svm\\_base.py:947: ConvergenceWarning: Liblinear failed to converge, increase the number of iterations.\n",
      "  \"the number of iterations.\", ConvergenceWarning)\n",
      "C:\\Users\\hemant\\AnacondaNew\\lib\\site-packages\\sklearn\\svm\\_base.py:947: ConvergenceWarning: Liblinear failed to converge, increase the number of iterations.\n",
      "  \"the number of iterations.\", ConvergenceWarning)\n",
      "C:\\Users\\hemant\\AnacondaNew\\lib\\site-packages\\sklearn\\svm\\_base.py:947: ConvergenceWarning: Liblinear failed to converge, increase the number of iterations.\n",
      "  \"the number of iterations.\", ConvergenceWarning)\n",
      "C:\\Users\\hemant\\AnacondaNew\\lib\\site-packages\\sklearn\\svm\\_base.py:947: ConvergenceWarning: Liblinear failed to converge, increase the number of iterations.\n",
      "  \"the number of iterations.\", ConvergenceWarning)\n",
      "C:\\Users\\hemant\\AnacondaNew\\lib\\site-packages\\sklearn\\svm\\_base.py:947: ConvergenceWarning: Liblinear failed to converge, increase the number of iterations.\n",
      "  \"the number of iterations.\", ConvergenceWarning)\n",
      "C:\\Users\\hemant\\AnacondaNew\\lib\\site-packages\\sklearn\\svm\\_base.py:947: ConvergenceWarning: Liblinear failed to converge, increase the number of iterations.\n",
      "  \"the number of iterations.\", ConvergenceWarning)\n",
      "C:\\Users\\hemant\\AnacondaNew\\lib\\site-packages\\sklearn\\svm\\_base.py:947: ConvergenceWarning: Liblinear failed to converge, increase the number of iterations.\n",
      "  \"the number of iterations.\", ConvergenceWarning)\n",
      "C:\\Users\\hemant\\AnacondaNew\\lib\\site-packages\\sklearn\\svm\\_base.py:947: ConvergenceWarning: Liblinear failed to converge, increase the number of iterations.\n",
      "  \"the number of iterations.\", ConvergenceWarning)\n",
      "C:\\Users\\hemant\\AnacondaNew\\lib\\site-packages\\sklearn\\svm\\_base.py:947: ConvergenceWarning: Liblinear failed to converge, increase the number of iterations.\n",
      "  \"the number of iterations.\", ConvergenceWarning)\n",
      "C:\\Users\\hemant\\AnacondaNew\\lib\\site-packages\\sklearn\\svm\\_base.py:947: ConvergenceWarning: Liblinear failed to converge, increase the number of iterations.\n",
      "  \"the number of iterations.\", ConvergenceWarning)\n",
      "C:\\Users\\hemant\\AnacondaNew\\lib\\site-packages\\sklearn\\svm\\_base.py:947: ConvergenceWarning: Liblinear failed to converge, increase the number of iterations.\n",
      "  \"the number of iterations.\", ConvergenceWarning)\n",
      "C:\\Users\\hemant\\AnacondaNew\\lib\\site-packages\\sklearn\\svm\\_base.py:947: ConvergenceWarning: Liblinear failed to converge, increase the number of iterations.\n",
      "  \"the number of iterations.\", ConvergenceWarning)\n",
      "C:\\Users\\hemant\\AnacondaNew\\lib\\site-packages\\sklearn\\svm\\_base.py:947: ConvergenceWarning: Liblinear failed to converge, increase the number of iterations.\n",
      "  \"the number of iterations.\", ConvergenceWarning)\n",
      "C:\\Users\\hemant\\AnacondaNew\\lib\\site-packages\\sklearn\\svm\\_base.py:947: ConvergenceWarning: Liblinear failed to converge, increase the number of iterations.\n",
      "  \"the number of iterations.\", ConvergenceWarning)\n",
      "C:\\Users\\hemant\\AnacondaNew\\lib\\site-packages\\sklearn\\svm\\_base.py:947: ConvergenceWarning: Liblinear failed to converge, increase the number of iterations.\n",
      "  \"the number of iterations.\", ConvergenceWarning)\n",
      "C:\\Users\\hemant\\AnacondaNew\\lib\\site-packages\\sklearn\\svm\\_base.py:947: ConvergenceWarning: Liblinear failed to converge, increase the number of iterations.\n",
      "  \"the number of iterations.\", ConvergenceWarning)\n",
      "C:\\Users\\hemant\\AnacondaNew\\lib\\site-packages\\sklearn\\svm\\_base.py:947: ConvergenceWarning: Liblinear failed to converge, increase the number of iterations.\n",
      "  \"the number of iterations.\", ConvergenceWarning)\n",
      "C:\\Users\\hemant\\AnacondaNew\\lib\\site-packages\\sklearn\\svm\\_base.py:947: ConvergenceWarning: Liblinear failed to converge, increase the number of iterations.\n",
      "  \"the number of iterations.\", ConvergenceWarning)\n",
      "C:\\Users\\hemant\\AnacondaNew\\lib\\site-packages\\sklearn\\svm\\_base.py:947: ConvergenceWarning: Liblinear failed to converge, increase the number of iterations.\n",
      "  \"the number of iterations.\", ConvergenceWarning)\n",
      "C:\\Users\\hemant\\AnacondaNew\\lib\\site-packages\\sklearn\\svm\\_base.py:947: ConvergenceWarning: Liblinear failed to converge, increase the number of iterations.\n",
      "  \"the number of iterations.\", ConvergenceWarning)\n",
      "C:\\Users\\hemant\\AnacondaNew\\lib\\site-packages\\sklearn\\svm\\_base.py:947: ConvergenceWarning: Liblinear failed to converge, increase the number of iterations.\n",
      "  \"the number of iterations.\", ConvergenceWarning)\n",
      "C:\\Users\\hemant\\AnacondaNew\\lib\\site-packages\\sklearn\\svm\\_base.py:947: ConvergenceWarning: Liblinear failed to converge, increase the number of iterations.\n",
      "  \"the number of iterations.\", ConvergenceWarning)\n",
      "C:\\Users\\hemant\\AnacondaNew\\lib\\site-packages\\sklearn\\svm\\_base.py:947: ConvergenceWarning: Liblinear failed to converge, increase the number of iterations.\n",
      "  \"the number of iterations.\", ConvergenceWarning)\n"
     ]
    },
    {
     "name": "stderr",
     "output_type": "stream",
     "text": [
      "C:\\Users\\hemant\\AnacondaNew\\lib\\site-packages\\sklearn\\svm\\_base.py:947: ConvergenceWarning: Liblinear failed to converge, increase the number of iterations.\n",
      "  \"the number of iterations.\", ConvergenceWarning)\n",
      "C:\\Users\\hemant\\AnacondaNew\\lib\\site-packages\\sklearn\\svm\\_base.py:947: ConvergenceWarning: Liblinear failed to converge, increase the number of iterations.\n",
      "  \"the number of iterations.\", ConvergenceWarning)\n",
      "C:\\Users\\hemant\\AnacondaNew\\lib\\site-packages\\sklearn\\svm\\_base.py:947: ConvergenceWarning: Liblinear failed to converge, increase the number of iterations.\n",
      "  \"the number of iterations.\", ConvergenceWarning)\n",
      "C:\\Users\\hemant\\AnacondaNew\\lib\\site-packages\\sklearn\\svm\\_base.py:947: ConvergenceWarning: Liblinear failed to converge, increase the number of iterations.\n",
      "  \"the number of iterations.\", ConvergenceWarning)\n",
      "C:\\Users\\hemant\\AnacondaNew\\lib\\site-packages\\sklearn\\svm\\_base.py:947: ConvergenceWarning: Liblinear failed to converge, increase the number of iterations.\n",
      "  \"the number of iterations.\", ConvergenceWarning)\n",
      "C:\\Users\\hemant\\AnacondaNew\\lib\\site-packages\\sklearn\\svm\\_base.py:947: ConvergenceWarning: Liblinear failed to converge, increase the number of iterations.\n",
      "  \"the number of iterations.\", ConvergenceWarning)\n",
      "C:\\Users\\hemant\\AnacondaNew\\lib\\site-packages\\sklearn\\svm\\_base.py:947: ConvergenceWarning: Liblinear failed to converge, increase the number of iterations.\n",
      "  \"the number of iterations.\", ConvergenceWarning)\n",
      "[Parallel(n_jobs=1)]: Done 100 out of 100 | elapsed: 18.0min finished\n",
      "C:\\Users\\hemant\\AnacondaNew\\lib\\site-packages\\sklearn\\svm\\_base.py:947: ConvergenceWarning: Liblinear failed to converge, increase the number of iterations.\n",
      "  \"the number of iterations.\", ConvergenceWarning)\n"
     ]
    },
    {
     "name": "stdout",
     "output_type": "stream",
     "text": [
      "Best C is:- 100.0\n"
     ]
    },
    {
     "data": {
      "image/png": "[encoded data removed]",
      "text/plain": [
       "<Figure size 432x288 with 1 Axes>"
      ]
     },
     "metadata": {
      "needs_background": "light"
     },
     "output_type": "display_data"
    }
   ],
   "source": [
    "# Please write all the code with proper documentation\n",
    "from sklearn.linear_model import LogisticRegression\n",
    "from sklearn.metrics import f1_score\n",
    "from sklearn.metrics import roc_auc_score\n",
    "from sklearn.metrics import accuracy_score\n",
    "from math import log\n",
    "from sklearn.model_selection import RandomizedSearchCV\n",
    "from sklearn.model_selection import GridSearchCV\n",
    "\n",
    "alpha_values = np.arange(10)\n",
    "C = np.array([0.00001,0.0001,0.001,0.01,0.1,1,10,100,1000,10000])\n",
    "cv_auc = []\n",
    "train_auc = []\n",
    "\n",
    "\n",
    "neigh = LogisticRegression(solver='liblinear')\n",
    "#params we need to try on classifier\n",
    "param_grid = {'C':[0.00001,0.0001,0.001,0.01,0.1,1,10,100,1000,10000],\n",
    "             'penalty':['l1'],'class_weight':['balanced']} \n",
    "tscv3 = TimeSeriesSplit(n_splits=10) #For time based splitting\n",
    "clf = RandomizedSearchCV(neigh,param_grid,cv=tscv3,verbose=1,return_train_score=True)\n",
    "clf.fit(tfidf_sent_vectors,y_train)\n",
    "\n",
    "\n",
    "train_auc= clf.cv_results_['mean_train_score']\n",
    "train_auc_std= clf.cv_results_['std_train_score']\n",
    "cv_auc = clf.cv_results_['mean_test_score'] \n",
    "cv_auc_std= clf.cv_results_['std_test_score']\n",
    "\n",
    "\n",
    "\n",
    "d = max(cv_auc)\n",
    "\n",
    "i = np.where(cv_auc == d)\n",
    "\n",
    "i = i[0][0]\n",
    "best_alpha = float(C[i])\n",
    "print(\"Best C is:-\",best_alpha)     \n",
    "    \n",
    "    \n",
    "C = np.log(C)    \n",
    "    \n",
    "plt.plot(C, train_auc, label='Train AUC')\n",
    "plt.plot(C, cv_auc, label='CV AUC')\n",
    "plt.legend()\n",
    "plt.xlabel(\"C: hyperparameter\")\n",
    "plt.ylabel(\"AUC\")\n",
    "plt.title(\"Performance PLOT\")\n",
    "plt.show()"
   ]
  },
  {
   "cell_type": "code",
   "execution_count": 81,
   "metadata": {},
   "outputs": [
    {
     "name": "stdout",
     "output_type": "stream",
     "text": [
      "\n",
      "The AUC of the Logistic Regression classifier of best C = 100.000000 is 89.121173%\n"
     ]
    }
   ],
   "source": [
    "# LogisticRegression with best best \"C\" for l2 penalty of bow\n",
    "model = LogisticRegression(penalty='l1',C = best_alpha,solver='liblinear')\n",
    "model.fit(tfidf_sent_vectors,y_train)\n",
    "#pred = model.predict_proba(x_ts_final_counts_bigram)\n",
    "pred=model.predict(tfidf_sent_vectors_ts)    \n",
    "    # evaluate CV AUC\n",
    "auc_score_tfidf_word2vec_l1 = roc_auc_score(y_true=np.array(y_ts), y_score=model.predict_proba(tfidf_sent_vectors_ts)[:,1])*100\n",
    "auc_score_tfidf_word2vec_lambda_l1 = best_alpha\n",
    "print('\\nThe AUC of the Logistic Regression classifier of best C = %f is %f%%' % (best_alpha, auc_score_tfidf_word2vec_l1))    "
   ]
  },
  {
   "cell_type": "code",
   "execution_count": 82,
   "metadata": {},
   "outputs": [
    {
     "data": {
      "text/plain": [
       "<matplotlib.axes._subplots.AxesSubplot at 0xfe933d5860>"
      ]
     },
     "execution_count": 82,
     "metadata": {},
     "output_type": "execute_result"
    },
    {
     "data": {
      "image/png": "[encoded data removed]",
      "text/plain": [
       "<Figure size 432x288 with 2 Axes>"
      ]
     },
     "metadata": {
      "needs_background": "light"
     },
     "output_type": "display_data"
    }
   ],
   "source": [
    "import scikitplot.metrics as skplt\n",
    "skplt.plot_confusion_matrix(y_ts ,pred)"
   ]
  },
  {
   "cell_type": "code",
   "execution_count": 83,
   "metadata": {},
   "outputs": [
    {
     "data": {
      "image/png": "[encoded data removed]",
      "text/plain": [
       "<Figure size 432x288 with 1 Axes>"
      ]
     },
     "metadata": {
      "needs_background": "light"
     },
     "output_type": "display_data"
    }
   ],
   "source": [
    "from sklearn.metrics import roc_curve, auc\n",
    "\n",
    "train_fpr, train_tpr, thresholds = roc_curve(y_train, model.predict_proba(tfidf_sent_vectors)[:,1])\n",
    "test_fpr, test_tpr, thresholds = roc_curve(y_ts, model.predict_proba(tfidf_sent_vectors_ts)[:,1])\n",
    "\n",
    "plt.plot(train_fpr, train_tpr, label=\"train AUC =\"+str(auc(train_fpr, train_tpr)))\n",
    "plt.plot(test_fpr, test_tpr, label=\"test AUC =\"+str(auc(test_fpr, test_tpr)))\n",
    "plt.legend()\n",
    "plt.xlabel(\"C: hyperparameter\")\n",
    "plt.ylabel(\"AUC\")\n",
    "plt.title(\"Roc_curve PLOT\")\n",
    "plt.show()\n",
    "\n"
   ]
  },
  {
   "cell_type": "code",
   "execution_count": 84,
   "metadata": {},
   "outputs": [
    {
     "name": "stdout",
     "output_type": "stream",
     "text": [
      "              precision    recall  f1-score   support\n",
      "\n",
      "           0       0.66      0.43      0.52       404\n",
      "           1       0.90      0.96      0.93      2281\n",
      "\n",
      "    accuracy                           0.88      2685\n",
      "   macro avg       0.78      0.69      0.72      2685\n",
      "weighted avg       0.87      0.88      0.87      2685\n",
      "\n"
     ]
    }
   ],
   "source": [
    "print(classification_report(y_ts, pred))"
   ]
  },
  {
   "cell_type": "markdown",
   "metadata": {},
   "source": [
    "False Positive rate --> when it is actually -ve, how often does it predicted +ve = fp/actual-ve = 232/404 = .57"
   ]
  },
  {
   "cell_type": "code",
   "execution_count": 99,
   "metadata": {},
   "outputs": [],
   "source": [
    "# FPR for tfidf_w2vec_l1\n",
    "tfidf_w2vec_FPR_l1 = .57"
   ]
  },
  {
   "cell_type": "markdown",
   "metadata": {},
   "source": [
    "### Applying Logistic Regression with L2 regularization on TFIDF W2V,<font color='red'> SET 4</font>"
   ]
  },
  {
   "cell_type": "code",
   "execution_count": 86,
   "metadata": {},
   "outputs": [
    {
     "name": "stdout",
     "output_type": "stream",
     "text": [
      "Fitting 10 folds for each of 10 candidates, totalling 100 fits\n"
     ]
    },
    {
     "name": "stderr",
     "output_type": "stream",
     "text": [
      "[Parallel(n_jobs=1)]: Using backend SequentialBackend with 1 concurrent workers.\n",
      "[Parallel(n_jobs=1)]: Done 100 out of 100 | elapsed:    8.6s finished\n"
     ]
    },
    {
     "name": "stdout",
     "output_type": "stream",
     "text": [
      "Best C is:- 10000.0\n"
     ]
    },
    {
     "data": {
      "image/png": "[encoded data removed]",
      "text/plain": [
       "<Figure size 432x288 with 1 Axes>"
      ]
     },
     "metadata": {
      "needs_background": "light"
     },
     "output_type": "display_data"
    }
   ],
   "source": [
    "# Please write all the code with proper documentation\n",
    "from sklearn.linear_model import LogisticRegression\n",
    "from sklearn.metrics import f1_score\n",
    "from sklearn.metrics import roc_auc_score\n",
    "from sklearn.metrics import accuracy_score\n",
    "from math import log\n",
    "from sklearn.model_selection import RandomizedSearchCV\n",
    "from sklearn.model_selection import GridSearchCV\n",
    "\n",
    "alpha_values = np.arange(10)\n",
    "C = np.array([0.00001,0.0001,0.001,0.01,0.1,1,10,100,1000,10000])\n",
    "cv_auc = []\n",
    "train_auc = []\n",
    "\n",
    "\n",
    "neigh = LogisticRegression(solver='liblinear')\n",
    "#params we need to try on classifier\n",
    "param_grid = {'C':[0.00001,0.0001,0.001,0.01,0.1,1,10,100,1000,10000],\n",
    "             'penalty':['l2'],'class_weight':['balanced']} \n",
    "tscv3 = TimeSeriesSplit(n_splits=10) #For time based splitting\n",
    "clf = RandomizedSearchCV(neigh,param_grid,cv=tscv3,verbose=1,return_train_score=True)\n",
    "clf.fit(tfidf_sent_vectors,y_train)\n",
    "\n",
    "\n",
    "train_auc= clf.cv_results_['mean_train_score']\n",
    "train_auc_std= clf.cv_results_['std_train_score']\n",
    "cv_auc = clf.cv_results_['mean_test_score'] \n",
    "cv_auc_std= clf.cv_results_['std_test_score']\n",
    "\n",
    "\n",
    "\n",
    "d = max(cv_auc)\n",
    "\n",
    "i = np.where(cv_auc == d)\n",
    "\n",
    "i = i[0][0]\n",
    "best_alpha = float(C[i])\n",
    "print(\"Best C is:-\",best_alpha)     \n",
    "    \n",
    "    \n",
    "C = np.log(C)    \n",
    "    \n",
    "plt.plot(C, train_auc, label='Train AUC')\n",
    "plt.plot(C, cv_auc, label='CV AUC')\n",
    "plt.legend()\n",
    "plt.xlabel(\"C: hyperparameter\")\n",
    "plt.ylabel(\"AUC\")\n",
    "plt.title(\"Performance PLOT\")\n",
    "plt.show()"
   ]
  },
  {
   "cell_type": "code",
   "execution_count": 87,
   "metadata": {},
   "outputs": [
    {
     "name": "stdout",
     "output_type": "stream",
     "text": [
      "\n",
      "The AUC of the Logistic Regression classifier of best C = 10000.000000 is 89.083193%\n"
     ]
    }
   ],
   "source": [
    "# LogisticRegression with best best \"C\" for l2 penalty of bow\n",
    "model = LogisticRegression(penalty='l2',C = best_alpha,solver='liblinear')\n",
    "model.fit(tfidf_sent_vectors,y_train)\n",
    "#pred = model.predict_proba(x_ts_final_counts_bigram)\n",
    "pred=model.predict(tfidf_sent_vectors_ts)    \n",
    "    # evaluate CV AUC\n",
    "auc_score_tfidf_word2vec_l2 = roc_auc_score(y_true=np.array(y_ts), y_score=model.predict_proba(tfidf_sent_vectors_ts)[:,1])*100\n",
    "auc_score_tfidf_word2vec_lambda_l2 = best_alpha\n",
    "print('\\nThe AUC of the Logistic Regression classifier of best C = %f is %f%%' % (best_alpha, auc_score_tfidf_word2vec_l2))    "
   ]
  },
  {
   "cell_type": "code",
   "execution_count": 88,
   "metadata": {},
   "outputs": [
    {
     "data": {
      "text/plain": [
       "<matplotlib.axes._subplots.AxesSubplot at 0xfe92845e80>"
      ]
     },
     "execution_count": 88,
     "metadata": {},
     "output_type": "execute_result"
    },
    {
     "data": {
      "image/png": "[encoded data removed]",
      "text/plain": [
       "<Figure size 432x288 with 2 Axes>"
      ]
     },
     "metadata": {
      "needs_background": "light"
     },
     "output_type": "display_data"
    }
   ],
   "source": [
    "import scikitplot.metrics as skplt\n",
    "skplt.plot_confusion_matrix(y_ts ,pred)"
   ]
  },
  {
   "cell_type": "code",
   "execution_count": 89,
   "metadata": {},
   "outputs": [
    {
     "data": {
      "image/png": "[encoded data removed]",
      "text/plain": [
       "<Figure size 432x288 with 1 Axes>"
      ]
     },
     "metadata": {
      "needs_background": "light"
     },
     "output_type": "display_data"
    }
   ],
   "source": [
    "from sklearn.metrics import roc_curve, auc\n",
    "\n",
    "train_fpr, train_tpr, thresholds = roc_curve(y_train, model.predict_proba(tfidf_sent_vectors)[:,1])\n",
    "test_fpr, test_tpr, thresholds = roc_curve(y_ts, model.predict_proba(tfidf_sent_vectors_ts)[:,1])\n",
    "\n",
    "plt.plot(train_fpr, train_tpr, label=\"train AUC =\"+str(auc(train_fpr, train_tpr)))\n",
    "plt.plot(test_fpr, test_tpr, label=\"test AUC =\"+str(auc(test_fpr, test_tpr)))\n",
    "plt.legend()\n",
    "plt.xlabel(\"C: hyperparameter\")\n",
    "plt.ylabel(\"AUC\")\n",
    "plt.title(\"Roc_curve PLOT\")\n",
    "plt.show()\n",
    "\n"
   ]
  },
  {
   "cell_type": "code",
   "execution_count": 90,
   "metadata": {},
   "outputs": [
    {
     "name": "stdout",
     "output_type": "stream",
     "text": [
      "              precision    recall  f1-score   support\n",
      "\n",
      "           0       0.66      0.42      0.51       404\n",
      "           1       0.90      0.96      0.93      2281\n",
      "\n",
      "    accuracy                           0.88      2685\n",
      "   macro avg       0.78      0.69      0.72      2685\n",
      "weighted avg       0.87      0.88      0.87      2685\n",
      "\n"
     ]
    }
   ],
   "source": [
    "print(classification_report(y_ts, pred))"
   ]
  },
  {
   "cell_type": "markdown",
   "metadata": {},
   "source": [
    "False Positive rate --> when it is actually -ve, how often does it predicted +ve = fp/actual-ve = 234/404 = .57"
   ]
  },
  {
   "cell_type": "code",
   "execution_count": 100,
   "metadata": {},
   "outputs": [],
   "source": [
    "# FPR for tfidf_w2vec_l2\n",
    "tfidf_w2vec_FPR_l2 = .57"
   ]
  },
  {
   "cell_type": "markdown",
   "metadata": {},
   "source": [
    "# Conclusions"
   ]
  },
  {
   "cell_type": "code",
   "execution_count": 103,
   "metadata": {},
   "outputs": [
    {
     "name": "stdout",
     "output_type": "stream",
     "text": [
      "+------------+---------+-------------------+-------------------+------+\n",
      "| Vectorizer | penalty | hyperparameter(C) |   roc_auc_score   | FPR  |\n",
      "+------------+---------+-------------------+-------------------+------+\n",
      "|    BOW     |    L1   |        10.0       | 95.62306570420304 | 0.09 |\n",
      "|    BOW     |    L2   |       100.0       | 95.69587986856554 | 0.09 |\n",
      "|   TF-IDF   |    L1   |        10.0       | 95.28536424444724 | 0.3  |\n",
      "|   TF-IDF   |    L2   |       100.0       | 95.32627473619786 | 0.3  |\n",
      "|  AVG -W2V  |    L1   |       100.0       | 89.44970505380219 | 0.59 |\n",
      "|  AVG -W2V  |    L2   |       1e-05       |  69.2507737183188 |  1   |\n",
      "| TFIDF-W2V  |    L1   |       100.0       | 89.12117318702497 | 0.57 |\n",
      "| TFIDF-W2V  |    L2   |      10000.0      | 89.08319262439176 | 0.57 |\n",
      "+------------+---------+-------------------+-------------------+------+\n"
     ]
    }
   ],
   "source": [
    "# Please compare all your models using Prettytable library\n",
    "from prettytable import PrettyTable\n",
    "x = PrettyTable()\n",
    "x.field_names = [\"Vectorizer\",\"penalty\",\"hyperparameter(C)\",\"roc_auc_score\",\"FPR\"]\n",
    "x.add_row([\"BOW\",\"L1\",auc_score_bowT_lambda_l1,auc_score_bowT_l1,bowt_FPR_l1])\n",
    "x.add_row([\"BOW\",\"L2\",auc_score_bowT_lambda_l2,auc_score_bowT_l2,bowt_FPR_l2])\n",
    "x.add_row([\"TF-IDF\",\"L1\",auc_score_tfidf_lambda_l1,auc_score_tfidf_l1,tfidf_FPR_l1])\n",
    "x.add_row([\"TF-IDF\",\"L2\",auc_score_tfidf_lambda_l2,auc_score_tfidf_l2,tfidf_FPR_l2])\n",
    "x.add_row([\"AVG -W2V\",\"L1\",auc_score_word2vec_lambda_l1,auc_score_word2vec_l1,avgw2vec_FPR_l1])\n",
    "x.add_row([\"AVG -W2V\",\"L2\",auc_score_word2vec_lambda_l2,auc_score_word2vec_l2,avgw2vec_FPR_l2])\n",
    "x.add_row([\"TFIDF-W2V\",\"L1\",auc_score_tfidf_word2vec_lambda_l1,auc_score_tfidf_word2vec_l1,tfidf_w2vec_FPR_l1])\n",
    "x.add_row([\"TFIDF-W2V\",\"L2\",auc_score_tfidf_word2vec_lambda_l2,auc_score_tfidf_word2vec_l2,tfidf_w2vec_FPR_l2])\n",
    "\n",
    "\n",
    "print(x)"
   ]
  },
  {
   "cell_type": "markdown",
   "metadata": {},
   "source": [
    "as per the table, we can consider BOW with L2 regularizor because it has less false positive rate and more roc_auc_score\n",
    "\n"
   ]
  },
  {
   "cell_type": "code",
   "execution_count": null,
   "metadata": {},
   "outputs": [],
   "source": []
  }
 ],
 "metadata": {
  "kernelspec": {
   "display_name": "Python 3",
   "language": "python",
   "name": "python3"
  },
  "language_info": {
   "codemirror_mode": {
    "name": "ipython",
    "version": 3
   },
   "file_extension": ".py",
   "mimetype": "text/x-python",
   "name": "python",
   "nbconvert_exporter": "python",
   "pygments_lexer": "ipython3",
   "version": "3.7.3"
  }
 },
 "nbformat": 4,
 "nbformat_minor": 2
}
